{
 "cells": [
  {
   "cell_type": "markdown",
   "metadata": {
    "cell_id": "00004-b5218ef8-353e-4ba3-840c-69320c42bf65",
    "deepnote_cell_height": 100.390625,
    "deepnote_cell_type": "markdown"
   },
   "source": [
    "### Dataset\n",
    "\n",
    "CanadaDataset.xlsx"
   ]
  },
  {
   "cell_type": "code",
   "execution_count": null,
   "metadata": {
    "cell_id": "00006-6547e8e0-c986-4e37-9049-c802c2fead02",
    "deepnote_cell_height": 450.78125,
    "deepnote_cell_type": "code",
    "deepnote_to_be_reexecuted": false,
    "execution_millis": 5817,
    "execution_start": 1650709029057,
    "source_hash": "22309c2f",
    "tags": []
   },
   "outputs": [
    {
     "name": "stdout",
     "output_type": "stream",
     "text": [
      "Collecting openpyxl\n",
      "  Downloading openpyxl-3.0.9-py2.py3-none-any.whl (242 kB)\n",
      "\u001b[K     |████████████████████████████████| 242 kB 26.6 MB/s \n",
      "\u001b[?25hCollecting et-xmlfile\n",
      "  Downloading et_xmlfile-1.1.0-py3-none-any.whl (4.7 kB)\n",
      "Installing collected packages: et-xmlfile, openpyxl\n",
      "Successfully installed et-xmlfile-1.1.0 openpyxl-3.0.9\n",
      "\u001b[33mWARNING: You are using pip version 20.1.1; however, version 22.0.4 is available.\n",
      "You should consider upgrading via the '/root/venv/bin/python -m pip install --upgrade pip' command.\u001b[0m\n"
     ]
    }
   ],
   "source": [
    "# Import module & install dependencies\n",
    "import pandas as pd\n",
    "import numpy as np\n",
    "import matplotlib as mpl\n",
    "import matplotlib.pyplot as plt\n",
    "\n",
    "# Dependencies untuk read excel\n",
    "!pip install openpyxl\n",
    "\n",
    "# set grid agar dibawah plot (run 1)\n",
    "plt.rc('axes', axisbelow=True)"
   ]
  },
  {
   "cell_type": "code",
   "execution_count": null,
   "metadata": {
    "cell_id": "b6c0c4e0c979437f94a963ca81f3409e",
    "deepnote_cell_height": 99,
    "deepnote_cell_type": "code",
    "deepnote_to_be_reexecuted": false,
    "execution_millis": 2,
    "execution_start": 1650709034879,
    "source_hash": "8381f531",
    "tags": []
   },
   "outputs": [],
   "source": [
    "# set grid agar dibawah plot (run 2)\n",
    "plt.rcParams['axes.axisbelow'] = True"
   ]
  },
  {
   "cell_type": "code",
   "execution_count": null,
   "metadata": {
    "cell_id": "00007-04e1bc90-768f-49e0-8443-f931bf52e5ee",
    "deepnote_cell_height": 465.65625,
    "deepnote_cell_type": "code",
    "deepnote_to_be_reexecuted": false,
    "execution_millis": 1331,
    "execution_start": 1650709034883,
    "source_hash": "cec1d538",
    "tags": []
   },
   "outputs": [
    {
     "data": {
      "application/vnd.deepnote.dataframe.v3+json": {
       "column_count": 43,
       "columns": [
        {
         "dtype": "object",
         "name": "Type",
         "stats": {
          "categories": [
           {
            "count": 5,
            "name": "Immigrants"
           }
          ],
          "nan_count": 0,
          "unique_count": 1
         }
        },
        {
         "dtype": "object",
         "name": "Coverage",
         "stats": {
          "categories": [
           {
            "count": 5,
            "name": "Foreigners"
           }
          ],
          "nan_count": 0,
          "unique_count": 1
         }
        },
        {
         "dtype": "object",
         "name": "OdName",
         "stats": {
          "categories": [
           {
            "count": 1,
            "name": "Afghanistan"
           },
           {
            "count": 1,
            "name": "Albania"
           },
           {
            "count": 3,
            "name": "3 others"
           }
          ],
          "nan_count": 0,
          "unique_count": 5
         }
        },
        {
         "dtype": "int64",
         "name": "AREA",
         "stats": {
          "histogram": [
           {
            "bin_end": 906.2,
            "bin_start": 903,
            "count": 1
           },
           {
            "bin_end": 909.4,
            "bin_start": 906.2,
            "count": 3
           },
           {
            "bin_end": 912.6,
            "bin_start": 909.4,
            "count": 0
           },
           {
            "bin_end": 915.8,
            "bin_start": 912.6,
            "count": 0
           },
           {
            "bin_end": 919,
            "bin_start": 915.8,
            "count": 0
           },
           {
            "bin_end": 922.2,
            "bin_start": 919,
            "count": 0
           },
           {
            "bin_end": 925.4,
            "bin_start": 922.2,
            "count": 0
           },
           {
            "bin_end": 928.6,
            "bin_start": 925.4,
            "count": 0
           },
           {
            "bin_end": 931.8,
            "bin_start": 928.6,
            "count": 0
           },
           {
            "bin_end": 935,
            "bin_start": 931.8,
            "count": 1
           }
          ],
          "max": "935",
          "min": "903",
          "nan_count": 0,
          "unique_count": 4
         }
        },
        {
         "dtype": "object",
         "name": "AreaName",
         "stats": {
          "categories": [
           {
            "count": 2,
            "name": "Europe"
           },
           {
            "count": 1,
            "name": "Asia"
           },
           {
            "count": 2,
            "name": "2 others"
           }
          ],
          "nan_count": 0,
          "unique_count": 4
         }
        },
        {
         "dtype": "int64",
         "name": "REG",
         "stats": {
          "histogram": [
           {
            "bin_end": 1370.9,
            "bin_start": 912,
            "count": 4
           },
           {
            "bin_end": 1829.8,
            "bin_start": 1370.9,
            "count": 0
           },
           {
            "bin_end": 2288.7,
            "bin_start": 1829.8,
            "count": 0
           },
           {
            "bin_end": 2747.6,
            "bin_start": 2288.7,
            "count": 0
           },
           {
            "bin_end": 3206.5,
            "bin_start": 2747.6,
            "count": 0
           },
           {
            "bin_end": 3665.3999999999996,
            "bin_start": 3206.5,
            "count": 0
           },
           {
            "bin_end": 4124.299999999999,
            "bin_start": 3665.3999999999996,
            "count": 0
           },
           {
            "bin_end": 4583.2,
            "bin_start": 4124.299999999999,
            "count": 0
           },
           {
            "bin_end": 5042.099999999999,
            "bin_start": 4583.2,
            "count": 0
           },
           {
            "bin_end": 5501,
            "bin_start": 5042.099999999999,
            "count": 1
           }
          ],
          "max": "5501",
          "min": "912",
          "nan_count": 0,
          "unique_count": 4
         }
        },
        {
         "dtype": "object",
         "name": "RegName",
         "stats": {
          "categories": [
           {
            "count": 2,
            "name": "Southern Europe"
           },
           {
            "count": 1,
            "name": "Southern Asia"
           },
           {
            "count": 2,
            "name": "2 others"
           }
          ],
          "nan_count": 0,
          "unique_count": 4
         }
        },
        {
         "dtype": "int64",
         "name": "DEV",
         "stats": {
          "histogram": [
           {
            "bin_end": 901.1,
            "bin_start": 901,
            "count": 2
           },
           {
            "bin_end": 901.2,
            "bin_start": 901.1,
            "count": 0
           },
           {
            "bin_end": 901.3,
            "bin_start": 901.2,
            "count": 0
           },
           {
            "bin_end": 901.4,
            "bin_start": 901.3,
            "count": 0
           },
           {
            "bin_end": 901.5,
            "bin_start": 901.4,
            "count": 0
           },
           {
            "bin_end": 901.6,
            "bin_start": 901.5,
            "count": 0
           },
           {
            "bin_end": 901.7,
            "bin_start": 901.6,
            "count": 0
           },
           {
            "bin_end": 901.8,
            "bin_start": 901.7,
            "count": 0
           },
           {
            "bin_end": 901.9,
            "bin_start": 901.8,
            "count": 0
           },
           {
            "bin_end": 902,
            "bin_start": 901.9,
            "count": 3
           }
          ],
          "max": "902",
          "min": "901",
          "nan_count": 0,
          "unique_count": 2
         }
        },
        {
         "dtype": "object",
         "name": "DevName",
         "stats": {
          "categories": [
           {
            "count": 3,
            "name": "Developing regions"
           },
           {
            "count": 2,
            "name": "Developed regions"
           }
          ],
          "nan_count": 0,
          "unique_count": 2
         }
        },
        {
         "dtype": "int64",
         "name": 1980,
         "stats": {
          "histogram": [
           {
            "bin_end": 8,
            "bin_start": 0,
            "count": 3
           },
           {
            "bin_end": 16,
            "bin_start": 8,
            "count": 0
           },
           {
            "bin_end": 24,
            "bin_start": 16,
            "count": 1
           },
           {
            "bin_end": 32,
            "bin_start": 24,
            "count": 0
           },
           {
            "bin_end": 40,
            "bin_start": 32,
            "count": 0
           },
           {
            "bin_end": 48,
            "bin_start": 40,
            "count": 0
           },
           {
            "bin_end": 56,
            "bin_start": 48,
            "count": 0
           },
           {
            "bin_end": 64,
            "bin_start": 56,
            "count": 0
           },
           {
            "bin_end": 72,
            "bin_start": 64,
            "count": 0
           },
           {
            "bin_end": 80,
            "bin_start": 72,
            "count": 1
           }
          ],
          "max": "80",
          "min": "0",
          "nan_count": 0,
          "unique_count": 4
         }
        },
        {
         "dtype": "int64",
         "name": 1981,
         "stats": {
          "histogram": [
           {
            "bin_end": 6.7,
            "bin_start": 0,
            "count": 3
           },
           {
            "bin_end": 13.4,
            "bin_start": 6.7,
            "count": 0
           },
           {
            "bin_end": 20.1,
            "bin_start": 13.4,
            "count": 0
           },
           {
            "bin_end": 26.8,
            "bin_start": 20.1,
            "count": 0
           },
           {
            "bin_end": 33.5,
            "bin_start": 26.8,
            "count": 0
           },
           {
            "bin_end": 40.2,
            "bin_start": 33.5,
            "count": 1
           },
           {
            "bin_end": 46.9,
            "bin_start": 40.2,
            "count": 0
           },
           {
            "bin_end": 53.6,
            "bin_start": 46.9,
            "count": 0
           },
           {
            "bin_end": 60.300000000000004,
            "bin_start": 53.6,
            "count": 0
           },
           {
            "bin_end": 67,
            "bin_start": 60.300000000000004,
            "count": 1
           }
          ],
          "max": "67",
          "min": "0",
          "nan_count": 0,
          "unique_count": 4
         }
        },
        {
         "dtype": "int64",
         "name": 1982,
         "stats": {
          "histogram": [
           {
            "bin_end": 7.1,
            "bin_start": 0,
            "count": 3
           },
           {
            "bin_end": 14.2,
            "bin_start": 7.1,
            "count": 0
           },
           {
            "bin_end": 21.299999999999997,
            "bin_start": 14.2,
            "count": 0
           },
           {
            "bin_end": 28.4,
            "bin_start": 21.299999999999997,
            "count": 0
           },
           {
            "bin_end": 35.5,
            "bin_start": 28.4,
            "count": 0
           },
           {
            "bin_end": 42.599999999999994,
            "bin_start": 35.5,
            "count": 1
           },
           {
            "bin_end": 49.699999999999996,
            "bin_start": 42.599999999999994,
            "count": 0
           },
           {
            "bin_end": 56.8,
            "bin_start": 49.699999999999996,
            "count": 0
           },
           {
            "bin_end": 63.9,
            "bin_start": 56.8,
            "count": 0
           },
           {
            "bin_end": 71,
            "bin_start": 63.9,
            "count": 1
           }
          ],
          "max": "71",
          "min": "0",
          "nan_count": 0,
          "unique_count": 3
         }
        },
        {
         "dtype": "int64",
         "name": 1983,
         "stats": {
          "histogram": [
           {
            "bin_end": 6.9,
            "bin_start": 0,
            "count": 3
           },
           {
            "bin_end": 13.8,
            "bin_start": 6.9,
            "count": 0
           },
           {
            "bin_end": 20.700000000000003,
            "bin_start": 13.8,
            "count": 0
           },
           {
            "bin_end": 27.6,
            "bin_start": 20.700000000000003,
            "count": 0
           },
           {
            "bin_end": 34.5,
            "bin_start": 27.6,
            "count": 0
           },
           {
            "bin_end": 41.400000000000006,
            "bin_start": 34.5,
            "count": 0
           },
           {
            "bin_end": 48.300000000000004,
            "bin_start": 41.400000000000006,
            "count": 1
           },
           {
            "bin_end": 55.2,
            "bin_start": 48.300000000000004,
            "count": 0
           },
           {
            "bin_end": 62.1,
            "bin_start": 55.2,
            "count": 0
           },
           {
            "bin_end": 69,
            "bin_start": 62.1,
            "count": 1
           }
          ],
          "max": "69",
          "min": "0",
          "nan_count": 0,
          "unique_count": 3
         }
        },
        {
         "dtype": "int64",
         "name": 1984,
         "stats": {
          "histogram": [
           {
            "bin_end": 7.1,
            "bin_start": 0,
            "count": 3
           },
           {
            "bin_end": 14.2,
            "bin_start": 7.1,
            "count": 0
           },
           {
            "bin_end": 21.299999999999997,
            "bin_start": 14.2,
            "count": 0
           },
           {
            "bin_end": 28.4,
            "bin_start": 21.299999999999997,
            "count": 0
           },
           {
            "bin_end": 35.5,
            "bin_start": 28.4,
            "count": 0
           },
           {
            "bin_end": 42.599999999999994,
            "bin_start": 35.5,
            "count": 0
           },
           {
            "bin_end": 49.699999999999996,
            "bin_start": 42.599999999999994,
            "count": 0
           },
           {
            "bin_end": 56.8,
            "bin_start": 49.699999999999996,
            "count": 0
           },
           {
            "bin_end": 63.9,
            "bin_start": 56.8,
            "count": 1
           },
           {
            "bin_end": 71,
            "bin_start": 63.9,
            "count": 1
           }
          ],
          "max": "71",
          "min": "0",
          "nan_count": 0,
          "unique_count": 3
         }
        },
        {
         "dtype": "int64",
         "name": 1985,
         "stats": {
          "histogram": [
           {
            "bin_end": 34,
            "bin_start": 0,
            "count": 3
           },
           {
            "bin_end": 68,
            "bin_start": 34,
            "count": 1
           },
           {
            "bin_end": 102,
            "bin_start": 68,
            "count": 0
           },
           {
            "bin_end": 136,
            "bin_start": 102,
            "count": 0
           },
           {
            "bin_end": 170,
            "bin_start": 136,
            "count": 0
           },
           {
            "bin_end": 204,
            "bin_start": 170,
            "count": 0
           },
           {
            "bin_end": 238,
            "bin_start": 204,
            "count": 0
           },
           {
            "bin_end": 272,
            "bin_start": 238,
            "count": 0
           },
           {
            "bin_end": 306,
            "bin_start": 272,
            "count": 0
           },
           {
            "bin_end": 340,
            "bin_start": 306,
            "count": 1
           }
          ],
          "max": "340",
          "min": "0",
          "nan_count": 0,
          "unique_count": 3
         }
        },
        {
         "dtype": "int64",
         "name": 1986,
         "stats": {
          "histogram": [
           {
            "bin_end": 49.6,
            "bin_start": 0,
            "count": 3
           },
           {
            "bin_end": 99.2,
            "bin_start": 49.6,
            "count": 1
           },
           {
            "bin_end": 148.8,
            "bin_start": 99.2,
            "count": 0
           },
           {
            "bin_end": 198.4,
            "bin_start": 148.8,
            "count": 0
           },
           {
            "bin_end": 248,
            "bin_start": 198.4,
            "count": 0
           },
           {
            "bin_end": 297.6,
            "bin_start": 248,
            "count": 0
           },
           {
            "bin_end": 347.2,
            "bin_start": 297.6,
            "count": 0
           },
           {
            "bin_end": 396.8,
            "bin_start": 347.2,
            "count": 0
           },
           {
            "bin_end": 446.40000000000003,
            "bin_start": 396.8,
            "count": 0
           },
           {
            "bin_end": 496,
            "bin_start": 446.40000000000003,
            "count": 1
           }
          ],
          "max": "496",
          "min": "0",
          "nan_count": 0,
          "unique_count": 5
         }
        },
        {
         "dtype": "int64",
         "name": 1987,
         "stats": {
          "histogram": [
           {
            "bin_end": 74.1,
            "bin_start": 0,
            "count": 3
           },
           {
            "bin_end": 148.2,
            "bin_start": 74.1,
            "count": 1
           },
           {
            "bin_end": 222.29999999999998,
            "bin_start": 148.2,
            "count": 0
           },
           {
            "bin_end": 296.4,
            "bin_start": 222.29999999999998,
            "count": 0
           },
           {
            "bin_end": 370.5,
            "bin_start": 296.4,
            "count": 0
           },
           {
            "bin_end": 444.59999999999997,
            "bin_start": 370.5,
            "count": 0
           },
           {
            "bin_end": 518.6999999999999,
            "bin_start": 444.59999999999997,
            "count": 0
           },
           {
            "bin_end": 592.8,
            "bin_start": 518.6999999999999,
            "count": 0
           },
           {
            "bin_end": 666.9,
            "bin_start": 592.8,
            "count": 0
           },
           {
            "bin_end": 741,
            "bin_start": 666.9,
            "count": 1
           }
          ],
          "max": "741",
          "min": "0",
          "nan_count": 0,
          "unique_count": 5
         }
        },
        {
         "dtype": "int64",
         "name": 1988,
         "stats": {
          "histogram": [
           {
            "bin_end": 82.8,
            "bin_start": 0,
            "count": 3
           },
           {
            "bin_end": 165.6,
            "bin_start": 82.8,
            "count": 0
           },
           {
            "bin_end": 248.39999999999998,
            "bin_start": 165.6,
            "count": 1
           },
           {
            "bin_end": 331.2,
            "bin_start": 248.39999999999998,
            "count": 0
           },
           {
            "bin_end": 414,
            "bin_start": 331.2,
            "count": 0
           },
           {
            "bin_end": 496.79999999999995,
            "bin_start": 414,
            "count": 0
           },
           {
            "bin_end": 579.6,
            "bin_start": 496.79999999999995,
            "count": 0
           },
           {
            "bin_end": 662.4,
            "bin_start": 579.6,
            "count": 0
           },
           {
            "bin_end": 745.1999999999999,
            "bin_start": 662.4,
            "count": 0
           },
           {
            "bin_end": 828,
            "bin_start": 745.1999999999999,
            "count": 1
           }
          ],
          "max": "828",
          "min": "0",
          "nan_count": 0,
          "unique_count": 4
         }
        },
        {
         "dtype": "int64",
         "name": 1989,
         "stats": {
          "histogram": [
           {
            "bin_end": 107.6,
            "bin_start": 0,
            "count": 3
           },
           {
            "bin_end": 215.2,
            "bin_start": 107.6,
            "count": 0
           },
           {
            "bin_end": 322.79999999999995,
            "bin_start": 215.2,
            "count": 0
           },
           {
            "bin_end": 430.4,
            "bin_start": 322.79999999999995,
            "count": 0
           },
           {
            "bin_end": 538,
            "bin_start": 430.4,
            "count": 1
           },
           {
            "bin_end": 645.5999999999999,
            "bin_start": 538,
            "count": 0
           },
           {
            "bin_end": 753.1999999999999,
            "bin_start": 645.5999999999999,
            "count": 0
           },
           {
            "bin_end": 860.8,
            "bin_start": 753.1999999999999,
            "count": 0
           },
           {
            "bin_end": 968.4,
            "bin_start": 860.8,
            "count": 0
           },
           {
            "bin_end": 1076,
            "bin_start": 968.4,
            "count": 1
           }
          ],
          "max": "1076",
          "min": "0",
          "nan_count": 0,
          "unique_count": 5
         }
        },
        {
         "dtype": "int64",
         "name": 1990,
         "stats": {
          "histogram": [
           {
            "bin_end": 104.6,
            "bin_start": 2,
            "count": 3
           },
           {
            "bin_end": 207.2,
            "bin_start": 104.6,
            "count": 0
           },
           {
            "bin_end": 309.79999999999995,
            "bin_start": 207.2,
            "count": 0
           },
           {
            "bin_end": 412.4,
            "bin_start": 309.79999999999995,
            "count": 0
           },
           {
            "bin_end": 515,
            "bin_start": 412.4,
            "count": 1
           },
           {
            "bin_end": 617.5999999999999,
            "bin_start": 515,
            "count": 0
           },
           {
            "bin_end": 720.1999999999999,
            "bin_start": 617.5999999999999,
            "count": 0
           },
           {
            "bin_end": 822.8,
            "bin_start": 720.1999999999999,
            "count": 0
           },
           {
            "bin_end": 925.4,
            "bin_start": 822.8,
            "count": 0
           },
           {
            "bin_end": 1028,
            "bin_start": 925.4,
            "count": 1
           }
          ],
          "max": "1028",
          "min": "2",
          "nan_count": 0,
          "unique_count": 4
         }
        },
        {
         "dtype": "int64",
         "name": 1991,
         "stats": {
          "histogram": [
           {
            "bin_end": 137.8,
            "bin_start": 0,
            "count": 3
           },
           {
            "bin_end": 275.6,
            "bin_start": 137.8,
            "count": 0
           },
           {
            "bin_end": 413.40000000000003,
            "bin_start": 275.6,
            "count": 0
           },
           {
            "bin_end": 551.2,
            "bin_start": 413.40000000000003,
            "count": 0
           },
           {
            "bin_end": 689,
            "bin_start": 551.2,
            "count": 0
           },
           {
            "bin_end": 826.8000000000001,
            "bin_start": 689,
            "count": 0
           },
           {
            "bin_end": 964.6000000000001,
            "bin_start": 826.8000000000001,
            "count": 1
           },
           {
            "bin_end": 1102.4,
            "bin_start": 964.6000000000001,
            "count": 0
           },
           {
            "bin_end": 1240.2,
            "bin_start": 1102.4,
            "count": 0
           },
           {
            "bin_end": 1378,
            "bin_start": 1240.2,
            "count": 1
           }
          ],
          "max": "1378",
          "min": "0",
          "nan_count": 0,
          "unique_count": 4
         }
        },
        {
         "dtype": "int64",
         "name": 1992,
         "stats": {
          "histogram": [
           {
            "bin_end": 117,
            "bin_start": 0,
            "count": 3
           },
           {
            "bin_end": 234,
            "bin_start": 117,
            "count": 0
           },
           {
            "bin_end": 351,
            "bin_start": 234,
            "count": 0
           },
           {
            "bin_end": 468,
            "bin_start": 351,
            "count": 0
           },
           {
            "bin_end": 585,
            "bin_start": 468,
            "count": 0
           },
           {
            "bin_end": 702,
            "bin_start": 585,
            "count": 0
           },
           {
            "bin_end": 819,
            "bin_start": 702,
            "count": 1
           },
           {
            "bin_end": 936,
            "bin_start": 819,
            "count": 0
           },
           {
            "bin_end": 1053,
            "bin_start": 936,
            "count": 0
           },
           {
            "bin_end": 1170,
            "bin_start": 1053,
            "count": 1
           }
          ],
          "max": "1170",
          "min": "0",
          "nan_count": 0,
          "unique_count": 5
         }
        },
        {
         "dtype": "int64",
         "name": 1993,
         "stats": {
          "histogram": [
           {
            "bin_end": 71.7,
            "bin_start": 0,
            "count": 2
           },
           {
            "bin_end": 143.4,
            "bin_start": 71.7,
            "count": 1
           },
           {
            "bin_end": 215.10000000000002,
            "bin_start": 143.4,
            "count": 0
           },
           {
            "bin_end": 286.8,
            "bin_start": 215.10000000000002,
            "count": 0
           },
           {
            "bin_end": 358.5,
            "bin_start": 286.8,
            "count": 0
           },
           {
            "bin_end": 430.20000000000005,
            "bin_start": 358.5,
            "count": 0
           },
           {
            "bin_end": 501.90000000000003,
            "bin_start": 430.20000000000005,
            "count": 0
           },
           {
            "bin_end": 573.6,
            "bin_start": 501.90000000000003,
            "count": 0
           },
           {
            "bin_end": 645.3000000000001,
            "bin_start": 573.6,
            "count": 0
           },
           {
            "bin_end": 717,
            "bin_start": 645.3000000000001,
            "count": 2
           }
          ],
          "max": "717",
          "min": "0",
          "nan_count": 0,
          "unique_count": 4
         }
        },
        {
         "dtype": "int64",
         "name": 1994,
         "stats": {
          "histogram": [
           {
            "bin_end": 85.8,
            "bin_start": 0,
            "count": 3
           },
           {
            "bin_end": 171.6,
            "bin_start": 85.8,
            "count": 0
           },
           {
            "bin_end": 257.4,
            "bin_start": 171.6,
            "count": 0
           },
           {
            "bin_end": 343.2,
            "bin_start": 257.4,
            "count": 0
           },
           {
            "bin_end": 429,
            "bin_start": 343.2,
            "count": 0
           },
           {
            "bin_end": 514.8,
            "bin_start": 429,
            "count": 0
           },
           {
            "bin_end": 600.6,
            "bin_start": 514.8,
            "count": 1
           },
           {
            "bin_end": 686.4,
            "bin_start": 600.6,
            "count": 0
           },
           {
            "bin_end": 772.1999999999999,
            "bin_start": 686.4,
            "count": 0
           },
           {
            "bin_end": 858,
            "bin_start": 772.1999999999999,
            "count": 1
           }
          ],
          "max": "858",
          "min": "0",
          "nan_count": 0,
          "unique_count": 4
         }
        },
        {
         "dtype": "int64",
         "name": 1995,
         "stats": {
          "histogram": [
           {
            "bin_end": 153.7,
            "bin_start": 0,
            "count": 3
           },
           {
            "bin_end": 307.4,
            "bin_start": 153.7,
            "count": 0
           },
           {
            "bin_end": 461.09999999999997,
            "bin_start": 307.4,
            "count": 0
           },
           {
            "bin_end": 614.8,
            "bin_start": 461.09999999999997,
            "count": 0
           },
           {
            "bin_end": 768.5,
            "bin_start": 614.8,
            "count": 0
           },
           {
            "bin_end": 922.1999999999999,
            "bin_start": 768.5,
            "count": 0
           },
           {
            "bin_end": 1075.8999999999999,
            "bin_start": 922.1999999999999,
            "count": 0
           },
           {
            "bin_end": 1229.6,
            "bin_start": 1075.8999999999999,
            "count": 1
           },
           {
            "bin_end": 1383.3,
            "bin_start": 1229.6,
            "count": 0
           },
           {
            "bin_end": 1537,
            "bin_start": 1383.3,
            "count": 1
           }
          ],
          "max": "1537",
          "min": "0",
          "nan_count": 0,
          "unique_count": 4
         }
        },
        {
         "dtype": "int64",
         "name": 1996,
         "stats": {
          "histogram": [
           {
            "bin_end": 221.2,
            "bin_start": 0,
            "count": 3
           },
           {
            "bin_end": 442.4,
            "bin_start": 221.2,
            "count": 0
           },
           {
            "bin_end": 663.5999999999999,
            "bin_start": 442.4,
            "count": 0
           },
           {
            "bin_end": 884.8,
            "bin_start": 663.5999999999999,
            "count": 0
           },
           {
            "bin_end": 1106,
            "bin_start": 884.8,
            "count": 0
           },
           {
            "bin_end": 1327.1999999999998,
            "bin_start": 1106,
            "count": 0
           },
           {
            "bin_end": 1548.3999999999999,
            "bin_start": 1327.1999999999998,
            "count": 0
           },
           {
            "bin_end": 1769.6,
            "bin_start": 1548.3999999999999,
            "count": 0
           },
           {
            "bin_end": 1990.8,
            "bin_start": 1769.6,
            "count": 0
           },
           {
            "bin_end": 2212,
            "bin_start": 1990.8,
            "count": 2
           }
          ],
          "max": "2212",
          "min": "0",
          "nan_count": 0,
          "unique_count": 4
         }
        },
        {
         "dtype": "int64",
         "name": 1997,
         "stats": {
          "histogram": [
           {
            "bin_end": 255.5,
            "bin_start": 0,
            "count": 2
           },
           {
            "bin_end": 511,
            "bin_start": 255.5,
            "count": 1
           },
           {
            "bin_end": 766.5,
            "bin_start": 511,
            "count": 0
           },
           {
            "bin_end": 1022,
            "bin_start": 766.5,
            "count": 0
           },
           {
            "bin_end": 1277.5,
            "bin_start": 1022,
            "count": 0
           },
           {
            "bin_end": 1533,
            "bin_start": 1277.5,
            "count": 0
           },
           {
            "bin_end": 1788.5,
            "bin_start": 1533,
            "count": 0
           },
           {
            "bin_end": 2044,
            "bin_start": 1788.5,
            "count": 1
           },
           {
            "bin_end": 2299.5,
            "bin_start": 2044,
            "count": 0
           },
           {
            "bin_end": 2555,
            "bin_start": 2299.5,
            "count": 1
           }
          ],
          "max": "2555",
          "min": "0",
          "nan_count": 0,
          "unique_count": 4
         }
        },
        {
         "dtype": "int64",
         "name": 1998,
         "stats": {
          "histogram": [
           {
            "bin_end": 229.2,
            "bin_start": 0,
            "count": 2
           },
           {
            "bin_end": 458.4,
            "bin_start": 229.2,
            "count": 0
           },
           {
            "bin_end": 687.5999999999999,
            "bin_start": 458.4,
            "count": 1
           },
           {
            "bin_end": 916.8,
            "bin_start": 687.5999999999999,
            "count": 0
           },
           {
            "bin_end": 1146,
            "bin_start": 916.8,
            "count": 0
           },
           {
            "bin_end": 1375.1999999999998,
            "bin_start": 1146,
            "count": 0
           },
           {
            "bin_end": 1604.3999999999999,
            "bin_start": 1375.1999999999998,
            "count": 0
           },
           {
            "bin_end": 1833.6,
            "bin_start": 1604.3999999999999,
            "count": 0
           },
           {
            "bin_end": 2062.7999999999997,
            "bin_start": 1833.6,
            "count": 1
           },
           {
            "bin_end": 2292,
            "bin_start": 2062.7999999999997,
            "count": 1
           }
          ],
          "max": "2292",
          "min": "0",
          "nan_count": 0,
          "unique_count": 5
         }
        },
        {
         "dtype": "int64",
         "name": 1999,
         "stats": {
          "histogram": [
           {
            "bin_end": 239.5,
            "bin_start": 0,
            "count": 2
           },
           {
            "bin_end": 479,
            "bin_start": 239.5,
            "count": 0
           },
           {
            "bin_end": 718.5,
            "bin_start": 479,
            "count": 0
           },
           {
            "bin_end": 958,
            "bin_start": 718.5,
            "count": 0
           },
           {
            "bin_end": 1197.5,
            "bin_start": 958,
            "count": 0
           },
           {
            "bin_end": 1437,
            "bin_start": 1197.5,
            "count": 1
           },
           {
            "bin_end": 1676.5,
            "bin_start": 1437,
            "count": 0
           },
           {
            "bin_end": 1916,
            "bin_start": 1676.5,
            "count": 0
           },
           {
            "bin_end": 2155.5,
            "bin_start": 1916,
            "count": 0
           },
           {
            "bin_end": 2395,
            "bin_start": 2155.5,
            "count": 2
           }
          ],
          "max": "2395",
          "min": "0",
          "nan_count": 0,
          "unique_count": 4
         }
        },
        {
         "dtype": "int64",
         "name": 2000,
         "stats": {
          "histogram": [
           {
            "bin_end": 332.6,
            "bin_start": 0,
            "count": 2
           },
           {
            "bin_end": 665.2,
            "bin_start": 332.6,
            "count": 0
           },
           {
            "bin_end": 997.8000000000001,
            "bin_start": 665.2,
            "count": 0
           },
           {
            "bin_end": 1330.4,
            "bin_start": 997.8000000000001,
            "count": 0
           },
           {
            "bin_end": 1663,
            "bin_start": 1330.4,
            "count": 0
           },
           {
            "bin_end": 1995.6000000000001,
            "bin_start": 1663,
            "count": 1
           },
           {
            "bin_end": 2328.2000000000003,
            "bin_start": 1995.6000000000001,
            "count": 0
           },
           {
            "bin_end": 2660.8,
            "bin_start": 2328.2000000000003,
            "count": 0
           },
           {
            "bin_end": 2993.4,
            "bin_start": 2660.8,
            "count": 1
           },
           {
            "bin_end": 3326,
            "bin_start": 2993.4,
            "count": 1
           }
          ],
          "max": "3326",
          "min": "0",
          "nan_count": 0,
          "unique_count": 4
         }
        },
        {
         "dtype": "int64",
         "name": 2001,
         "stats": {
          "histogram": [
           {
            "bin_end": 406.7,
            "bin_start": 0,
            "count": 2
           },
           {
            "bin_end": 813.4,
            "bin_start": 406.7,
            "count": 0
           },
           {
            "bin_end": 1220.1,
            "bin_start": 813.4,
            "count": 0
           },
           {
            "bin_end": 1626.8,
            "bin_start": 1220.1,
            "count": 1
           },
           {
            "bin_end": 2033.5,
            "bin_start": 1626.8,
            "count": 0
           },
           {
            "bin_end": 2440.2,
            "bin_start": 2033.5,
            "count": 0
           },
           {
            "bin_end": 2846.9,
            "bin_start": 2440.2,
            "count": 0
           },
           {
            "bin_end": 3253.6,
            "bin_start": 2846.9,
            "count": 0
           },
           {
            "bin_end": 3660.2999999999997,
            "bin_start": 3253.6,
            "count": 1
           },
           {
            "bin_end": 4067,
            "bin_start": 3660.2999999999997,
            "count": 1
           }
          ],
          "max": "4067",
          "min": "0",
          "nan_count": 0,
          "unique_count": 5
         }
        },
        {
         "dtype": "int64",
         "name": 2002,
         "stats": {
          "histogram": [
           {
            "bin_end": 369.7,
            "bin_start": 0,
            "count": 2
           },
           {
            "bin_end": 739.4,
            "bin_start": 369.7,
            "count": 0
           },
           {
            "bin_end": 1109.1,
            "bin_start": 739.4,
            "count": 1
           },
           {
            "bin_end": 1478.8,
            "bin_start": 1109.1,
            "count": 0
           },
           {
            "bin_end": 1848.5,
            "bin_start": 1478.8,
            "count": 0
           },
           {
            "bin_end": 2218.2,
            "bin_start": 1848.5,
            "count": 0
           },
           {
            "bin_end": 2587.9,
            "bin_start": 2218.2,
            "count": 0
           },
           {
            "bin_end": 2957.6,
            "bin_start": 2587.9,
            "count": 0
           },
           {
            "bin_end": 3327.2999999999997,
            "bin_start": 2957.6,
            "count": 0
           },
           {
            "bin_end": 3697,
            "bin_start": 3327.2999999999997,
            "count": 2
           }
          ],
          "max": "3697",
          "min": "0",
          "nan_count": 0,
          "unique_count": 4
         }
        },
        {
         "dtype": "int64",
         "name": 2003,
         "stats": {
          "histogram": [
           {
            "bin_end": 347.9,
            "bin_start": 0,
            "count": 2
           },
           {
            "bin_end": 695.8,
            "bin_start": 347.9,
            "count": 0
           },
           {
            "bin_end": 1043.6999999999998,
            "bin_start": 695.8,
            "count": 1
           },
           {
            "bin_end": 1391.6,
            "bin_start": 1043.6999999999998,
            "count": 0
           },
           {
            "bin_end": 1739.5,
            "bin_start": 1391.6,
            "count": 0
           },
           {
            "bin_end": 2087.3999999999996,
            "bin_start": 1739.5,
            "count": 0
           },
           {
            "bin_end": 2435.2999999999997,
            "bin_start": 2087.3999999999996,
            "count": 0
           },
           {
            "bin_end": 2783.2,
            "bin_start": 2435.2999999999997,
            "count": 0
           },
           {
            "bin_end": 3131.1,
            "bin_start": 2783.2,
            "count": 1
           },
           {
            "bin_end": 3479,
            "bin_start": 3131.1,
            "count": 1
           }
          ],
          "max": "3479",
          "min": "0",
          "nan_count": 0,
          "unique_count": 5
         }
        },
        {
         "dtype": "int64",
         "name": 2004,
         "stats": {
          "histogram": [
           {
            "bin_end": 361.6,
            "bin_start": 0,
            "count": 2
           },
           {
            "bin_end": 723.2,
            "bin_start": 361.6,
            "count": 0
           },
           {
            "bin_end": 1084.8000000000002,
            "bin_start": 723.2,
            "count": 0
           },
           {
            "bin_end": 1446.4,
            "bin_start": 1084.8000000000002,
            "count": 0
           },
           {
            "bin_end": 1808,
            "bin_start": 1446.4,
            "count": 1
           },
           {
            "bin_end": 2169.6000000000004,
            "bin_start": 1808,
            "count": 0
           },
           {
            "bin_end": 2531.2000000000003,
            "bin_start": 2169.6000000000004,
            "count": 0
           },
           {
            "bin_end": 2892.8,
            "bin_start": 2531.2000000000003,
            "count": 0
           },
           {
            "bin_end": 3254.4,
            "bin_start": 2892.8,
            "count": 1
           },
           {
            "bin_end": 3616,
            "bin_start": 3254.4,
            "count": 1
           }
          ],
          "max": "3616",
          "min": "0",
          "nan_count": 0,
          "unique_count": 4
         }
        },
        {
         "dtype": "int64",
         "name": 2005,
         "stats": {
          "histogram": [
           {
            "bin_end": 362.6,
            "bin_start": 0,
            "count": 2
           },
           {
            "bin_end": 725.2,
            "bin_start": 362.6,
            "count": 0
           },
           {
            "bin_end": 1087.8000000000002,
            "bin_start": 725.2,
            "count": 0
           },
           {
            "bin_end": 1450.4,
            "bin_start": 1087.8000000000002,
            "count": 1
           },
           {
            "bin_end": 1813,
            "bin_start": 1450.4,
            "count": 0
           },
           {
            "bin_end": 2175.6000000000004,
            "bin_start": 1813,
            "count": 0
           },
           {
            "bin_end": 2538.2000000000003,
            "bin_start": 2175.6000000000004,
            "count": 0
           },
           {
            "bin_end": 2900.8,
            "bin_start": 2538.2000000000003,
            "count": 0
           },
           {
            "bin_end": 3263.4,
            "bin_start": 2900.8,
            "count": 0
           },
           {
            "bin_end": 3626,
            "bin_start": 3263.4,
            "count": 2
           }
          ],
          "max": "3626",
          "min": "0",
          "nan_count": 0,
          "unique_count": 4
         }
        },
        {
         "dtype": "int64",
         "name": 2006,
         "stats": {
          "histogram": [
           {
            "bin_end": 481.6,
            "bin_start": 1,
            "count": 2
           },
           {
            "bin_end": 962.2,
            "bin_start": 481.6,
            "count": 1
           },
           {
            "bin_end": 1442.8000000000002,
            "bin_start": 962.2,
            "count": 0
           },
           {
            "bin_end": 1923.4,
            "bin_start": 1442.8000000000002,
            "count": 0
           },
           {
            "bin_end": 2404,
            "bin_start": 1923.4,
            "count": 0
           },
           {
            "bin_end": 2884.6000000000004,
            "bin_start": 2404,
            "count": 0
           },
           {
            "bin_end": 3365.2000000000003,
            "bin_start": 2884.6000000000004,
            "count": 1
           },
           {
            "bin_end": 3845.8,
            "bin_start": 3365.2000000000003,
            "count": 0
           },
           {
            "bin_end": 4326.400000000001,
            "bin_start": 3845.8,
            "count": 0
           },
           {
            "bin_end": 4807,
            "bin_start": 4326.400000000001,
            "count": 1
           }
          ],
          "max": "4807",
          "min": "1",
          "nan_count": 0,
          "unique_count": 4
         }
        },
        {
         "dtype": "int64",
         "name": 2007,
         "stats": {
          "histogram": [
           {
            "bin_end": 362.3,
            "bin_start": 0,
            "count": 2
           },
           {
            "bin_end": 724.6,
            "bin_start": 362.3,
            "count": 1
           },
           {
            "bin_end": 1086.9,
            "bin_start": 724.6,
            "count": 0
           },
           {
            "bin_end": 1449.2,
            "bin_start": 1086.9,
            "count": 0
           },
           {
            "bin_end": 1811.5,
            "bin_start": 1449.2,
            "count": 0
           },
           {
            "bin_end": 2173.8,
            "bin_start": 1811.5,
            "count": 0
           },
           {
            "bin_end": 2536.1,
            "bin_start": 2173.8,
            "count": 0
           },
           {
            "bin_end": 2898.4,
            "bin_start": 2536.1,
            "count": 1
           },
           {
            "bin_end": 3260.7000000000003,
            "bin_start": 2898.4,
            "count": 0
           },
           {
            "bin_end": 3623,
            "bin_start": 3260.7000000000003,
            "count": 1
           }
          ],
          "max": "3623",
          "min": "0",
          "nan_count": 0,
          "unique_count": 5
         }
        },
        {
         "dtype": "int64",
         "name": 2008,
         "stats": {
          "histogram": [
           {
            "bin_end": 400.5,
            "bin_start": 0,
            "count": 2
           },
           {
            "bin_end": 801,
            "bin_start": 400.5,
            "count": 1
           },
           {
            "bin_end": 1201.5,
            "bin_start": 801,
            "count": 0
           },
           {
            "bin_end": 1602,
            "bin_start": 1201.5,
            "count": 0
           },
           {
            "bin_end": 2002.5,
            "bin_start": 1602,
            "count": 0
           },
           {
            "bin_end": 2403,
            "bin_start": 2002.5,
            "count": 1
           },
           {
            "bin_end": 2803.5,
            "bin_start": 2403,
            "count": 0
           },
           {
            "bin_end": 3204,
            "bin_start": 2803.5,
            "count": 0
           },
           {
            "bin_end": 3604.5,
            "bin_start": 3204,
            "count": 0
           },
           {
            "bin_end": 4005,
            "bin_start": 3604.5,
            "count": 1
           }
          ],
          "max": "4005",
          "min": "0",
          "nan_count": 0,
          "unique_count": 4
         }
        },
        {
         "dtype": "int64",
         "name": 2009,
         "stats": {
          "histogram": [
           {
            "bin_end": 539.3,
            "bin_start": 0,
            "count": 2
           },
           {
            "bin_end": 1078.6,
            "bin_start": 539.3,
            "count": 1
           },
           {
            "bin_end": 1617.8999999999999,
            "bin_start": 1078.6,
            "count": 0
           },
           {
            "bin_end": 2157.2,
            "bin_start": 1617.8999999999999,
            "count": 1
           },
           {
            "bin_end": 2696.5,
            "bin_start": 2157.2,
            "count": 0
           },
           {
            "bin_end": 3235.7999999999997,
            "bin_start": 2696.5,
            "count": 0
           },
           {
            "bin_end": 3775.0999999999995,
            "bin_start": 3235.7999999999997,
            "count": 0
           },
           {
            "bin_end": 4314.4,
            "bin_start": 3775.0999999999995,
            "count": 0
           },
           {
            "bin_end": 4853.7,
            "bin_start": 4314.4,
            "count": 0
           },
           {
            "bin_end": 5393,
            "bin_start": 4853.7,
            "count": 1
           }
          ],
          "max": "5393",
          "min": "0",
          "nan_count": 0,
          "unique_count": 4
         }
        },
        {
         "dtype": "int64",
         "name": 2010,
         "stats": {
          "histogram": [
           {
            "bin_end": 475.2,
            "bin_start": 0,
            "count": 2
           },
           {
            "bin_end": 950.4,
            "bin_start": 475.2,
            "count": 1
           },
           {
            "bin_end": 1425.6,
            "bin_start": 950.4,
            "count": 0
           },
           {
            "bin_end": 1900.8,
            "bin_start": 1425.6,
            "count": 1
           },
           {
            "bin_end": 2376,
            "bin_start": 1900.8,
            "count": 0
           },
           {
            "bin_end": 2851.2,
            "bin_start": 2376,
            "count": 0
           },
           {
            "bin_end": 3326.4,
            "bin_start": 2851.2,
            "count": 0
           },
           {
            "bin_end": 3801.6,
            "bin_start": 3326.4,
            "count": 0
           },
           {
            "bin_end": 4276.8,
            "bin_start": 3801.6,
            "count": 0
           },
           {
            "bin_end": 4752,
            "bin_start": 4276.8,
            "count": 1
           }
          ],
          "max": "4752",
          "min": "0",
          "nan_count": 0,
          "unique_count": 4
         }
        },
        {
         "dtype": "int64",
         "name": 2011,
         "stats": {
          "histogram": [
           {
            "bin_end": 432.5,
            "bin_start": 0,
            "count": 2
           },
           {
            "bin_end": 865,
            "bin_start": 432.5,
            "count": 1
           },
           {
            "bin_end": 1297.5,
            "bin_start": 865,
            "count": 0
           },
           {
            "bin_end": 1730,
            "bin_start": 1297.5,
            "count": 0
           },
           {
            "bin_end": 2162.5,
            "bin_start": 1730,
            "count": 0
           },
           {
            "bin_end": 2595,
            "bin_start": 2162.5,
            "count": 1
           },
           {
            "bin_end": 3027.5,
            "bin_start": 2595,
            "count": 0
           },
           {
            "bin_end": 3460,
            "bin_start": 3027.5,
            "count": 0
           },
           {
            "bin_end": 3892.5,
            "bin_start": 3460,
            "count": 0
           },
           {
            "bin_end": 4325,
            "bin_start": 3892.5,
            "count": 1
           }
          ],
          "max": "4325",
          "min": "0",
          "nan_count": 0,
          "unique_count": 4
         }
        },
        {
         "dtype": "int64",
         "name": 2012,
         "stats": {
          "histogram": [
           {
            "bin_end": 377.4,
            "bin_start": 0,
            "count": 2
           },
           {
            "bin_end": 754.8,
            "bin_start": 377.4,
            "count": 1
           },
           {
            "bin_end": 1132.1999999999998,
            "bin_start": 754.8,
            "count": 0
           },
           {
            "bin_end": 1509.6,
            "bin_start": 1132.1999999999998,
            "count": 0
           },
           {
            "bin_end": 1887,
            "bin_start": 1509.6,
            "count": 0
           },
           {
            "bin_end": 2264.3999999999996,
            "bin_start": 1887,
            "count": 0
           },
           {
            "bin_end": 2641.7999999999997,
            "bin_start": 2264.3999999999996,
            "count": 1
           },
           {
            "bin_end": 3019.2,
            "bin_start": 2641.7999999999997,
            "count": 0
           },
           {
            "bin_end": 3396.6,
            "bin_start": 3019.2,
            "count": 0
           },
           {
            "bin_end": 3774,
            "bin_start": 3396.6,
            "count": 1
           }
          ],
          "max": "3774",
          "min": "0",
          "nan_count": 0,
          "unique_count": 5
         }
        },
        {
         "dtype": "int64",
         "name": 2013,
         "stats": {
          "histogram": [
           {
            "bin_end": 433.1,
            "bin_start": 0,
            "count": 2
           },
           {
            "bin_end": 866.2,
            "bin_start": 433.1,
            "count": 1
           },
           {
            "bin_end": 1299.3000000000002,
            "bin_start": 866.2,
            "count": 0
           },
           {
            "bin_end": 1732.4,
            "bin_start": 1299.3000000000002,
            "count": 0
           },
           {
            "bin_end": 2165.5,
            "bin_start": 1732.4,
            "count": 1
           },
           {
            "bin_end": 2598.6000000000004,
            "bin_start": 2165.5,
            "count": 0
           },
           {
            "bin_end": 3031.7000000000003,
            "bin_start": 2598.6000000000004,
            "count": 0
           },
           {
            "bin_end": 3464.8,
            "bin_start": 3031.7000000000003,
            "count": 0
           },
           {
            "bin_end": 3897.9,
            "bin_start": 3464.8,
            "count": 0
           },
           {
            "bin_end": 4331,
            "bin_start": 3897.9,
            "count": 1
           }
          ],
          "max": "4331",
          "min": "0",
          "nan_count": 0,
          "unique_count": 5
         }
        },
        {
         "dtype": "int64",
         "name": "_deepnote_index_column"
        }
       ],
       "row_count": 5,
       "rows": [
        {
         "1980": 16,
         "1981": 39,
         "1982": 39,
         "1983": 47,
         "1984": 71,
         "1985": 340,
         "1986": 496,
         "1987": 741,
         "1988": 828,
         "1989": 1076,
         "1990": 1028,
         "1991": 1378,
         "1992": 1170,
         "1993": 713,
         "1994": 858,
         "1995": 1537,
         "1996": 2212,
         "1997": 2555,
         "1998": 1999,
         "1999": 2395,
         "2000": 3326,
         "2001": 4067,
         "2002": 3697,
         "2003": 3479,
         "2004": 2978,
         "2005": 3436,
         "2006": 3009,
         "2007": 2652,
         "2008": 2111,
         "2009": 1746,
         "2010": 1758,
         "2011": 2203,
         "2012": 2635,
         "2013": 2004,
         "AREA": 935,
         "AreaName": "Asia",
         "Coverage": "Foreigners",
         "DEV": 902,
         "DevName": "Developing regions",
         "OdName": "Afghanistan",
         "REG": 5501,
         "RegName": "Southern Asia",
         "Type": "Immigrants",
         "_deepnote_index_column": 0
        },
        {
         "1980": 1,
         "1981": 0,
         "1982": 0,
         "1983": 0,
         "1984": 0,
         "1985": 0,
         "1986": 1,
         "1987": 2,
         "1988": 2,
         "1989": 3,
         "1990": 3,
         "1991": 21,
         "1992": 56,
         "1993": 96,
         "1994": 71,
         "1995": 63,
         "1996": 113,
         "1997": 307,
         "1998": 574,
         "1999": 1264,
         "2000": 1816,
         "2001": 1602,
         "2002": 1021,
         "2003": 853,
         "2004": 1450,
         "2005": 1223,
         "2006": 856,
         "2007": 702,
         "2008": 560,
         "2009": 716,
         "2010": 561,
         "2011": 539,
         "2012": 620,
         "2013": 603,
         "AREA": 908,
         "AreaName": "Europe",
         "Coverage": "Foreigners",
         "DEV": 901,
         "DevName": "Developed regions",
         "OdName": "Albania",
         "REG": 925,
         "RegName": "Southern Europe",
         "Type": "Immigrants",
         "_deepnote_index_column": 1
        },
        {
         "1980": 80,
         "1981": 67,
         "1982": 71,
         "1983": 69,
         "1984": 63,
         "1985": 44,
         "1986": 69,
         "1987": 132,
         "1988": 242,
         "1989": 434,
         "1990": 491,
         "1991": 872,
         "1992": 795,
         "1993": 717,
         "1994": 595,
         "1995": 1106,
         "1996": 2054,
         "1997": 1842,
         "1998": 2292,
         "1999": 2389,
         "2000": 2867,
         "2001": 3418,
         "2002": 3406,
         "2003": 3072,
         "2004": 3616,
         "2005": 3626,
         "2006": 4807,
         "2007": 3623,
         "2008": 4005,
         "2009": 5393,
         "2010": 4752,
         "2011": 4325,
         "2012": 3774,
         "2013": 4331,
         "AREA": 903,
         "AreaName": "Africa",
         "Coverage": "Foreigners",
         "DEV": 902,
         "DevName": "Developing regions",
         "OdName": "Algeria",
         "REG": 912,
         "RegName": "Northern Africa",
         "Type": "Immigrants",
         "_deepnote_index_column": 2
        },
        {
         "1980": 0,
         "1981": 1,
         "1982": 0,
         "1983": 0,
         "1984": 0,
         "1985": 0,
         "1986": 0,
         "1987": 1,
         "1988": 0,
         "1989": 1,
         "1990": 2,
         "1991": 0,
         "1992": 0,
         "1993": 0,
         "1994": 0,
         "1995": 0,
         "1996": 0,
         "1997": 0,
         "1998": 0,
         "1999": 0,
         "2000": 0,
         "2001": 0,
         "2002": 0,
         "2003": 0,
         "2004": 0,
         "2005": 0,
         "2006": 1,
         "2007": 0,
         "2008": 0,
         "2009": 0,
         "2010": 0,
         "2011": 0,
         "2012": 0,
         "2013": 0,
         "AREA": 909,
         "AreaName": "Oceania",
         "Coverage": "Foreigners",
         "DEV": 902,
         "DevName": "Developing regions",
         "OdName": "American Samoa",
         "REG": 957,
         "RegName": "Polynesia",
         "Type": "Immigrants",
         "_deepnote_index_column": 3
        },
        {
         "1980": 0,
         "1981": 0,
         "1982": 0,
         "1983": 0,
         "1984": 0,
         "1985": 0,
         "1986": 2,
         "1987": 0,
         "1988": 0,
         "1989": 0,
         "1990": 3,
         "1991": 0,
         "1992": 1,
         "1993": 0,
         "1994": 0,
         "1995": 0,
         "1996": 0,
         "1997": 0,
         "1998": 2,
         "1999": 0,
         "2000": 0,
         "2001": 1,
         "2002": 0,
         "2003": 2,
         "2004": 0,
         "2005": 0,
         "2006": 1,
         "2007": 1,
         "2008": 0,
         "2009": 0,
         "2010": 0,
         "2011": 0,
         "2012": 1,
         "2013": 1,
         "AREA": 908,
         "AreaName": "Europe",
         "Coverage": "Foreigners",
         "DEV": 901,
         "DevName": "Developed regions",
         "OdName": "Andorra",
         "REG": 925,
         "RegName": "Southern Europe",
         "Type": "Immigrants",
         "_deepnote_index_column": 4
        }
       ]
      },
      "text/html": [
       "<div>\n",
       "<style scoped>\n",
       "    .dataframe tbody tr th:only-of-type {\n",
       "        vertical-align: middle;\n",
       "    }\n",
       "\n",
       "    .dataframe tbody tr th {\n",
       "        vertical-align: top;\n",
       "    }\n",
       "\n",
       "    .dataframe thead th {\n",
       "        text-align: right;\n",
       "    }\n",
       "</style>\n",
       "<table border=\"1\" class=\"dataframe\">\n",
       "  <thead>\n",
       "    <tr style=\"text-align: right;\">\n",
       "      <th></th>\n",
       "      <th>Type</th>\n",
       "      <th>Coverage</th>\n",
       "      <th>OdName</th>\n",
       "      <th>AREA</th>\n",
       "      <th>AreaName</th>\n",
       "      <th>REG</th>\n",
       "      <th>RegName</th>\n",
       "      <th>DEV</th>\n",
       "      <th>DevName</th>\n",
       "      <th>1980</th>\n",
       "      <th>...</th>\n",
       "      <th>2004</th>\n",
       "      <th>2005</th>\n",
       "      <th>2006</th>\n",
       "      <th>2007</th>\n",
       "      <th>2008</th>\n",
       "      <th>2009</th>\n",
       "      <th>2010</th>\n",
       "      <th>2011</th>\n",
       "      <th>2012</th>\n",
       "      <th>2013</th>\n",
       "    </tr>\n",
       "  </thead>\n",
       "  <tbody>\n",
       "    <tr>\n",
       "      <th>0</th>\n",
       "      <td>Immigrants</td>\n",
       "      <td>Foreigners</td>\n",
       "      <td>Afghanistan</td>\n",
       "      <td>935</td>\n",
       "      <td>Asia</td>\n",
       "      <td>5501</td>\n",
       "      <td>Southern Asia</td>\n",
       "      <td>902</td>\n",
       "      <td>Developing regions</td>\n",
       "      <td>16</td>\n",
       "      <td>...</td>\n",
       "      <td>2978</td>\n",
       "      <td>3436</td>\n",
       "      <td>3009</td>\n",
       "      <td>2652</td>\n",
       "      <td>2111</td>\n",
       "      <td>1746</td>\n",
       "      <td>1758</td>\n",
       "      <td>2203</td>\n",
       "      <td>2635</td>\n",
       "      <td>2004</td>\n",
       "    </tr>\n",
       "    <tr>\n",
       "      <th>1</th>\n",
       "      <td>Immigrants</td>\n",
       "      <td>Foreigners</td>\n",
       "      <td>Albania</td>\n",
       "      <td>908</td>\n",
       "      <td>Europe</td>\n",
       "      <td>925</td>\n",
       "      <td>Southern Europe</td>\n",
       "      <td>901</td>\n",
       "      <td>Developed regions</td>\n",
       "      <td>1</td>\n",
       "      <td>...</td>\n",
       "      <td>1450</td>\n",
       "      <td>1223</td>\n",
       "      <td>856</td>\n",
       "      <td>702</td>\n",
       "      <td>560</td>\n",
       "      <td>716</td>\n",
       "      <td>561</td>\n",
       "      <td>539</td>\n",
       "      <td>620</td>\n",
       "      <td>603</td>\n",
       "    </tr>\n",
       "    <tr>\n",
       "      <th>2</th>\n",
       "      <td>Immigrants</td>\n",
       "      <td>Foreigners</td>\n",
       "      <td>Algeria</td>\n",
       "      <td>903</td>\n",
       "      <td>Africa</td>\n",
       "      <td>912</td>\n",
       "      <td>Northern Africa</td>\n",
       "      <td>902</td>\n",
       "      <td>Developing regions</td>\n",
       "      <td>80</td>\n",
       "      <td>...</td>\n",
       "      <td>3616</td>\n",
       "      <td>3626</td>\n",
       "      <td>4807</td>\n",
       "      <td>3623</td>\n",
       "      <td>4005</td>\n",
       "      <td>5393</td>\n",
       "      <td>4752</td>\n",
       "      <td>4325</td>\n",
       "      <td>3774</td>\n",
       "      <td>4331</td>\n",
       "    </tr>\n",
       "    <tr>\n",
       "      <th>3</th>\n",
       "      <td>Immigrants</td>\n",
       "      <td>Foreigners</td>\n",
       "      <td>American Samoa</td>\n",
       "      <td>909</td>\n",
       "      <td>Oceania</td>\n",
       "      <td>957</td>\n",
       "      <td>Polynesia</td>\n",
       "      <td>902</td>\n",
       "      <td>Developing regions</td>\n",
       "      <td>0</td>\n",
       "      <td>...</td>\n",
       "      <td>0</td>\n",
       "      <td>0</td>\n",
       "      <td>1</td>\n",
       "      <td>0</td>\n",
       "      <td>0</td>\n",
       "      <td>0</td>\n",
       "      <td>0</td>\n",
       "      <td>0</td>\n",
       "      <td>0</td>\n",
       "      <td>0</td>\n",
       "    </tr>\n",
       "    <tr>\n",
       "      <th>4</th>\n",
       "      <td>Immigrants</td>\n",
       "      <td>Foreigners</td>\n",
       "      <td>Andorra</td>\n",
       "      <td>908</td>\n",
       "      <td>Europe</td>\n",
       "      <td>925</td>\n",
       "      <td>Southern Europe</td>\n",
       "      <td>901</td>\n",
       "      <td>Developed regions</td>\n",
       "      <td>0</td>\n",
       "      <td>...</td>\n",
       "      <td>0</td>\n",
       "      <td>0</td>\n",
       "      <td>1</td>\n",
       "      <td>1</td>\n",
       "      <td>0</td>\n",
       "      <td>0</td>\n",
       "      <td>0</td>\n",
       "      <td>0</td>\n",
       "      <td>1</td>\n",
       "      <td>1</td>\n",
       "    </tr>\n",
       "  </tbody>\n",
       "</table>\n",
       "<p>5 rows × 43 columns</p>\n",
       "</div>"
      ],
      "text/plain": [
       "         Type    Coverage          OdName  AREA AreaName   REG  \\\n",
       "0  Immigrants  Foreigners     Afghanistan   935     Asia  5501   \n",
       "1  Immigrants  Foreigners         Albania   908   Europe   925   \n",
       "2  Immigrants  Foreigners         Algeria   903   Africa   912   \n",
       "3  Immigrants  Foreigners  American Samoa   909  Oceania   957   \n",
       "4  Immigrants  Foreigners         Andorra   908   Europe   925   \n",
       "\n",
       "           RegName  DEV             DevName  1980  ...  2004  2005  2006  \\\n",
       "0    Southern Asia  902  Developing regions    16  ...  2978  3436  3009   \n",
       "1  Southern Europe  901   Developed regions     1  ...  1450  1223   856   \n",
       "2  Northern Africa  902  Developing regions    80  ...  3616  3626  4807   \n",
       "3        Polynesia  902  Developing regions     0  ...     0     0     1   \n",
       "4  Southern Europe  901   Developed regions     0  ...     0     0     1   \n",
       "\n",
       "   2007  2008  2009  2010  2011  2012  2013  \n",
       "0  2652  2111  1746  1758  2203  2635  2004  \n",
       "1   702   560   716   561   539   620   603  \n",
       "2  3623  4005  5393  4752  4325  3774  4331  \n",
       "3     0     0     0     0     0     0     0  \n",
       "4     1     0     0     0     0     1     1  \n",
       "\n",
       "[5 rows x 43 columns]"
      ]
     },
     "execution_count": 3,
     "metadata": {},
     "output_type": "execute_result"
    }
   ],
   "source": [
    "# Read Dataset\n",
    "df = pd.read_excel(\"CanadaDataset.xlsx\", sheet_name='Canada by Citizenship (2)')\n",
    "df = df.iloc[:, :-8]  # menghapus kolom unnamed43 - 50\n",
    "df.head()"
   ]
  },
  {
   "cell_type": "markdown",
   "metadata": {
    "cell_id": "c8e34fb6795c4d2bacfb7defc9086768",
    "deepnote_cell_height": 62,
    "deepnote_cell_type": "markdown",
    "tags": []
   },
   "source": [
    "### Preprocess"
   ]
  },
  {
   "cell_type": "code",
   "execution_count": null,
   "metadata": {
    "cell_id": "7cf18473900c482ea405e02c3f3bd2c3",
    "deepnote_cell_height": 315,
    "deepnote_cell_type": "code",
    "deepnote_to_be_reexecuted": false,
    "execution_millis": 0,
    "execution_start": 1650709035861,
    "source_hash": "c2def646",
    "tags": []
   },
   "outputs": [],
   "source": [
    "# menghapus kolom yang tidak diperlukan\n",
    "df.drop(['Type', 'Coverage', 'AREA', 'REG', 'DEV'], inplace=True, axis=1)\n",
    "\n",
    "# mengganti nama kolom\n",
    "df.rename(columns = {'OdName':'Country', 'AreaName':'Continent', 'RegName':'Region'}, inplace = True)\n",
    "\n",
    "# menjadikan nama negara menjadi index\n",
    "df.set_index('Country', inplace=True)\n",
    "\n",
    "# menambahkan kolom total imigran pada tahun 1980 - 2013\n",
    "df['Total'] = df.sum(axis=1)\n",
    "\n",
    "# menghapus record unkown (benua world)\n",
    "df = df[:-1]"
   ]
  },
  {
   "cell_type": "code",
   "execution_count": null,
   "metadata": {
    "cell_id": "28e7d711722f4ca5896f35a858e9752c",
    "deepnote_cell_height": 411.65625,
    "deepnote_cell_type": "code",
    "deepnote_to_be_reexecuted": false,
    "execution_millis": 359,
    "execution_start": 1650709035862,
    "source_hash": "c085b6ba",
    "tags": []
   },
   "outputs": [
    {
     "data": {
      "application/vnd.deepnote.dataframe.v3+json": {
       "column_count": 38,
       "columns": [
        {
         "dtype": "object",
         "name": "Continent",
         "stats": {
          "categories": [
           {
            "count": 2,
            "name": "Europe"
           },
           {
            "count": 1,
            "name": "Asia"
           },
           {
            "count": 2,
            "name": "2 others"
           }
          ],
          "nan_count": 0,
          "unique_count": 4
         }
        },
        {
         "dtype": "object",
         "name": "Region",
         "stats": {
          "categories": [
           {
            "count": 2,
            "name": "Southern Europe"
           },
           {
            "count": 1,
            "name": "Southern Asia"
           },
           {
            "count": 2,
            "name": "2 others"
           }
          ],
          "nan_count": 0,
          "unique_count": 4
         }
        },
        {
         "dtype": "object",
         "name": "DevName",
         "stats": {
          "categories": [
           {
            "count": 3,
            "name": "Developing regions"
           },
           {
            "count": 2,
            "name": "Developed regions"
           }
          ],
          "nan_count": 0,
          "unique_count": 2
         }
        },
        {
         "dtype": "int64",
         "name": 1980,
         "stats": {
          "histogram": [
           {
            "bin_end": 8,
            "bin_start": 0,
            "count": 3
           },
           {
            "bin_end": 16,
            "bin_start": 8,
            "count": 0
           },
           {
            "bin_end": 24,
            "bin_start": 16,
            "count": 1
           },
           {
            "bin_end": 32,
            "bin_start": 24,
            "count": 0
           },
           {
            "bin_end": 40,
            "bin_start": 32,
            "count": 0
           },
           {
            "bin_end": 48,
            "bin_start": 40,
            "count": 0
           },
           {
            "bin_end": 56,
            "bin_start": 48,
            "count": 0
           },
           {
            "bin_end": 64,
            "bin_start": 56,
            "count": 0
           },
           {
            "bin_end": 72,
            "bin_start": 64,
            "count": 0
           },
           {
            "bin_end": 80,
            "bin_start": 72,
            "count": 1
           }
          ],
          "max": "80",
          "min": "0",
          "nan_count": 0,
          "unique_count": 4
         }
        },
        {
         "dtype": "int64",
         "name": 1981,
         "stats": {
          "histogram": [
           {
            "bin_end": 6.7,
            "bin_start": 0,
            "count": 3
           },
           {
            "bin_end": 13.4,
            "bin_start": 6.7,
            "count": 0
           },
           {
            "bin_end": 20.1,
            "bin_start": 13.4,
            "count": 0
           },
           {
            "bin_end": 26.8,
            "bin_start": 20.1,
            "count": 0
           },
           {
            "bin_end": 33.5,
            "bin_start": 26.8,
            "count": 0
           },
           {
            "bin_end": 40.2,
            "bin_start": 33.5,
            "count": 1
           },
           {
            "bin_end": 46.9,
            "bin_start": 40.2,
            "count": 0
           },
           {
            "bin_end": 53.6,
            "bin_start": 46.9,
            "count": 0
           },
           {
            "bin_end": 60.300000000000004,
            "bin_start": 53.6,
            "count": 0
           },
           {
            "bin_end": 67,
            "bin_start": 60.300000000000004,
            "count": 1
           }
          ],
          "max": "67",
          "min": "0",
          "nan_count": 0,
          "unique_count": 4
         }
        },
        {
         "dtype": "int64",
         "name": 1982,
         "stats": {
          "histogram": [
           {
            "bin_end": 7.1,
            "bin_start": 0,
            "count": 3
           },
           {
            "bin_end": 14.2,
            "bin_start": 7.1,
            "count": 0
           },
           {
            "bin_end": 21.299999999999997,
            "bin_start": 14.2,
            "count": 0
           },
           {
            "bin_end": 28.4,
            "bin_start": 21.299999999999997,
            "count": 0
           },
           {
            "bin_end": 35.5,
            "bin_start": 28.4,
            "count": 0
           },
           {
            "bin_end": 42.599999999999994,
            "bin_start": 35.5,
            "count": 1
           },
           {
            "bin_end": 49.699999999999996,
            "bin_start": 42.599999999999994,
            "count": 0
           },
           {
            "bin_end": 56.8,
            "bin_start": 49.699999999999996,
            "count": 0
           },
           {
            "bin_end": 63.9,
            "bin_start": 56.8,
            "count": 0
           },
           {
            "bin_end": 71,
            "bin_start": 63.9,
            "count": 1
           }
          ],
          "max": "71",
          "min": "0",
          "nan_count": 0,
          "unique_count": 3
         }
        },
        {
         "dtype": "int64",
         "name": 1983,
         "stats": {
          "histogram": [
           {
            "bin_end": 6.9,
            "bin_start": 0,
            "count": 3
           },
           {
            "bin_end": 13.8,
            "bin_start": 6.9,
            "count": 0
           },
           {
            "bin_end": 20.700000000000003,
            "bin_start": 13.8,
            "count": 0
           },
           {
            "bin_end": 27.6,
            "bin_start": 20.700000000000003,
            "count": 0
           },
           {
            "bin_end": 34.5,
            "bin_start": 27.6,
            "count": 0
           },
           {
            "bin_end": 41.400000000000006,
            "bin_start": 34.5,
            "count": 0
           },
           {
            "bin_end": 48.300000000000004,
            "bin_start": 41.400000000000006,
            "count": 1
           },
           {
            "bin_end": 55.2,
            "bin_start": 48.300000000000004,
            "count": 0
           },
           {
            "bin_end": 62.1,
            "bin_start": 55.2,
            "count": 0
           },
           {
            "bin_end": 69,
            "bin_start": 62.1,
            "count": 1
           }
          ],
          "max": "69",
          "min": "0",
          "nan_count": 0,
          "unique_count": 3
         }
        },
        {
         "dtype": "int64",
         "name": 1984,
         "stats": {
          "histogram": [
           {
            "bin_end": 7.1,
            "bin_start": 0,
            "count": 3
           },
           {
            "bin_end": 14.2,
            "bin_start": 7.1,
            "count": 0
           },
           {
            "bin_end": 21.299999999999997,
            "bin_start": 14.2,
            "count": 0
           },
           {
            "bin_end": 28.4,
            "bin_start": 21.299999999999997,
            "count": 0
           },
           {
            "bin_end": 35.5,
            "bin_start": 28.4,
            "count": 0
           },
           {
            "bin_end": 42.599999999999994,
            "bin_start": 35.5,
            "count": 0
           },
           {
            "bin_end": 49.699999999999996,
            "bin_start": 42.599999999999994,
            "count": 0
           },
           {
            "bin_end": 56.8,
            "bin_start": 49.699999999999996,
            "count": 0
           },
           {
            "bin_end": 63.9,
            "bin_start": 56.8,
            "count": 1
           },
           {
            "bin_end": 71,
            "bin_start": 63.9,
            "count": 1
           }
          ],
          "max": "71",
          "min": "0",
          "nan_count": 0,
          "unique_count": 3
         }
        },
        {
         "dtype": "int64",
         "name": 1985,
         "stats": {
          "histogram": [
           {
            "bin_end": 34,
            "bin_start": 0,
            "count": 3
           },
           {
            "bin_end": 68,
            "bin_start": 34,
            "count": 1
           },
           {
            "bin_end": 102,
            "bin_start": 68,
            "count": 0
           },
           {
            "bin_end": 136,
            "bin_start": 102,
            "count": 0
           },
           {
            "bin_end": 170,
            "bin_start": 136,
            "count": 0
           },
           {
            "bin_end": 204,
            "bin_start": 170,
            "count": 0
           },
           {
            "bin_end": 238,
            "bin_start": 204,
            "count": 0
           },
           {
            "bin_end": 272,
            "bin_start": 238,
            "count": 0
           },
           {
            "bin_end": 306,
            "bin_start": 272,
            "count": 0
           },
           {
            "bin_end": 340,
            "bin_start": 306,
            "count": 1
           }
          ],
          "max": "340",
          "min": "0",
          "nan_count": 0,
          "unique_count": 3
         }
        },
        {
         "dtype": "int64",
         "name": 1986,
         "stats": {
          "histogram": [
           {
            "bin_end": 49.6,
            "bin_start": 0,
            "count": 3
           },
           {
            "bin_end": 99.2,
            "bin_start": 49.6,
            "count": 1
           },
           {
            "bin_end": 148.8,
            "bin_start": 99.2,
            "count": 0
           },
           {
            "bin_end": 198.4,
            "bin_start": 148.8,
            "count": 0
           },
           {
            "bin_end": 248,
            "bin_start": 198.4,
            "count": 0
           },
           {
            "bin_end": 297.6,
            "bin_start": 248,
            "count": 0
           },
           {
            "bin_end": 347.2,
            "bin_start": 297.6,
            "count": 0
           },
           {
            "bin_end": 396.8,
            "bin_start": 347.2,
            "count": 0
           },
           {
            "bin_end": 446.40000000000003,
            "bin_start": 396.8,
            "count": 0
           },
           {
            "bin_end": 496,
            "bin_start": 446.40000000000003,
            "count": 1
           }
          ],
          "max": "496",
          "min": "0",
          "nan_count": 0,
          "unique_count": 5
         }
        },
        {
         "dtype": "int64",
         "name": 1987,
         "stats": {
          "histogram": [
           {
            "bin_end": 74.1,
            "bin_start": 0,
            "count": 3
           },
           {
            "bin_end": 148.2,
            "bin_start": 74.1,
            "count": 1
           },
           {
            "bin_end": 222.29999999999998,
            "bin_start": 148.2,
            "count": 0
           },
           {
            "bin_end": 296.4,
            "bin_start": 222.29999999999998,
            "count": 0
           },
           {
            "bin_end": 370.5,
            "bin_start": 296.4,
            "count": 0
           },
           {
            "bin_end": 444.59999999999997,
            "bin_start": 370.5,
            "count": 0
           },
           {
            "bin_end": 518.6999999999999,
            "bin_start": 444.59999999999997,
            "count": 0
           },
           {
            "bin_end": 592.8,
            "bin_start": 518.6999999999999,
            "count": 0
           },
           {
            "bin_end": 666.9,
            "bin_start": 592.8,
            "count": 0
           },
           {
            "bin_end": 741,
            "bin_start": 666.9,
            "count": 1
           }
          ],
          "max": "741",
          "min": "0",
          "nan_count": 0,
          "unique_count": 5
         }
        },
        {
         "dtype": "int64",
         "name": 1988,
         "stats": {
          "histogram": [
           {
            "bin_end": 82.8,
            "bin_start": 0,
            "count": 3
           },
           {
            "bin_end": 165.6,
            "bin_start": 82.8,
            "count": 0
           },
           {
            "bin_end": 248.39999999999998,
            "bin_start": 165.6,
            "count": 1
           },
           {
            "bin_end": 331.2,
            "bin_start": 248.39999999999998,
            "count": 0
           },
           {
            "bin_end": 414,
            "bin_start": 331.2,
            "count": 0
           },
           {
            "bin_end": 496.79999999999995,
            "bin_start": 414,
            "count": 0
           },
           {
            "bin_end": 579.6,
            "bin_start": 496.79999999999995,
            "count": 0
           },
           {
            "bin_end": 662.4,
            "bin_start": 579.6,
            "count": 0
           },
           {
            "bin_end": 745.1999999999999,
            "bin_start": 662.4,
            "count": 0
           },
           {
            "bin_end": 828,
            "bin_start": 745.1999999999999,
            "count": 1
           }
          ],
          "max": "828",
          "min": "0",
          "nan_count": 0,
          "unique_count": 4
         }
        },
        {
         "dtype": "int64",
         "name": 1989,
         "stats": {
          "histogram": [
           {
            "bin_end": 107.6,
            "bin_start": 0,
            "count": 3
           },
           {
            "bin_end": 215.2,
            "bin_start": 107.6,
            "count": 0
           },
           {
            "bin_end": 322.79999999999995,
            "bin_start": 215.2,
            "count": 0
           },
           {
            "bin_end": 430.4,
            "bin_start": 322.79999999999995,
            "count": 0
           },
           {
            "bin_end": 538,
            "bin_start": 430.4,
            "count": 1
           },
           {
            "bin_end": 645.5999999999999,
            "bin_start": 538,
            "count": 0
           },
           {
            "bin_end": 753.1999999999999,
            "bin_start": 645.5999999999999,
            "count": 0
           },
           {
            "bin_end": 860.8,
            "bin_start": 753.1999999999999,
            "count": 0
           },
           {
            "bin_end": 968.4,
            "bin_start": 860.8,
            "count": 0
           },
           {
            "bin_end": 1076,
            "bin_start": 968.4,
            "count": 1
           }
          ],
          "max": "1076",
          "min": "0",
          "nan_count": 0,
          "unique_count": 5
         }
        },
        {
         "dtype": "int64",
         "name": 1990,
         "stats": {
          "histogram": [
           {
            "bin_end": 104.6,
            "bin_start": 2,
            "count": 3
           },
           {
            "bin_end": 207.2,
            "bin_start": 104.6,
            "count": 0
           },
           {
            "bin_end": 309.79999999999995,
            "bin_start": 207.2,
            "count": 0
           },
           {
            "bin_end": 412.4,
            "bin_start": 309.79999999999995,
            "count": 0
           },
           {
            "bin_end": 515,
            "bin_start": 412.4,
            "count": 1
           },
           {
            "bin_end": 617.5999999999999,
            "bin_start": 515,
            "count": 0
           },
           {
            "bin_end": 720.1999999999999,
            "bin_start": 617.5999999999999,
            "count": 0
           },
           {
            "bin_end": 822.8,
            "bin_start": 720.1999999999999,
            "count": 0
           },
           {
            "bin_end": 925.4,
            "bin_start": 822.8,
            "count": 0
           },
           {
            "bin_end": 1028,
            "bin_start": 925.4,
            "count": 1
           }
          ],
          "max": "1028",
          "min": "2",
          "nan_count": 0,
          "unique_count": 4
         }
        },
        {
         "dtype": "int64",
         "name": 1991,
         "stats": {
          "histogram": [
           {
            "bin_end": 137.8,
            "bin_start": 0,
            "count": 3
           },
           {
            "bin_end": 275.6,
            "bin_start": 137.8,
            "count": 0
           },
           {
            "bin_end": 413.40000000000003,
            "bin_start": 275.6,
            "count": 0
           },
           {
            "bin_end": 551.2,
            "bin_start": 413.40000000000003,
            "count": 0
           },
           {
            "bin_end": 689,
            "bin_start": 551.2,
            "count": 0
           },
           {
            "bin_end": 826.8000000000001,
            "bin_start": 689,
            "count": 0
           },
           {
            "bin_end": 964.6000000000001,
            "bin_start": 826.8000000000001,
            "count": 1
           },
           {
            "bin_end": 1102.4,
            "bin_start": 964.6000000000001,
            "count": 0
           },
           {
            "bin_end": 1240.2,
            "bin_start": 1102.4,
            "count": 0
           },
           {
            "bin_end": 1378,
            "bin_start": 1240.2,
            "count": 1
           }
          ],
          "max": "1378",
          "min": "0",
          "nan_count": 0,
          "unique_count": 4
         }
        },
        {
         "dtype": "int64",
         "name": 1992,
         "stats": {
          "histogram": [
           {
            "bin_end": 117,
            "bin_start": 0,
            "count": 3
           },
           {
            "bin_end": 234,
            "bin_start": 117,
            "count": 0
           },
           {
            "bin_end": 351,
            "bin_start": 234,
            "count": 0
           },
           {
            "bin_end": 468,
            "bin_start": 351,
            "count": 0
           },
           {
            "bin_end": 585,
            "bin_start": 468,
            "count": 0
           },
           {
            "bin_end": 702,
            "bin_start": 585,
            "count": 0
           },
           {
            "bin_end": 819,
            "bin_start": 702,
            "count": 1
           },
           {
            "bin_end": 936,
            "bin_start": 819,
            "count": 0
           },
           {
            "bin_end": 1053,
            "bin_start": 936,
            "count": 0
           },
           {
            "bin_end": 1170,
            "bin_start": 1053,
            "count": 1
           }
          ],
          "max": "1170",
          "min": "0",
          "nan_count": 0,
          "unique_count": 5
         }
        },
        {
         "dtype": "int64",
         "name": 1993,
         "stats": {
          "histogram": [
           {
            "bin_end": 71.7,
            "bin_start": 0,
            "count": 2
           },
           {
            "bin_end": 143.4,
            "bin_start": 71.7,
            "count": 1
           },
           {
            "bin_end": 215.10000000000002,
            "bin_start": 143.4,
            "count": 0
           },
           {
            "bin_end": 286.8,
            "bin_start": 215.10000000000002,
            "count": 0
           },
           {
            "bin_end": 358.5,
            "bin_start": 286.8,
            "count": 0
           },
           {
            "bin_end": 430.20000000000005,
            "bin_start": 358.5,
            "count": 0
           },
           {
            "bin_end": 501.90000000000003,
            "bin_start": 430.20000000000005,
            "count": 0
           },
           {
            "bin_end": 573.6,
            "bin_start": 501.90000000000003,
            "count": 0
           },
           {
            "bin_end": 645.3000000000001,
            "bin_start": 573.6,
            "count": 0
           },
           {
            "bin_end": 717,
            "bin_start": 645.3000000000001,
            "count": 2
           }
          ],
          "max": "717",
          "min": "0",
          "nan_count": 0,
          "unique_count": 4
         }
        },
        {
         "dtype": "int64",
         "name": 1994,
         "stats": {
          "histogram": [
           {
            "bin_end": 85.8,
            "bin_start": 0,
            "count": 3
           },
           {
            "bin_end": 171.6,
            "bin_start": 85.8,
            "count": 0
           },
           {
            "bin_end": 257.4,
            "bin_start": 171.6,
            "count": 0
           },
           {
            "bin_end": 343.2,
            "bin_start": 257.4,
            "count": 0
           },
           {
            "bin_end": 429,
            "bin_start": 343.2,
            "count": 0
           },
           {
            "bin_end": 514.8,
            "bin_start": 429,
            "count": 0
           },
           {
            "bin_end": 600.6,
            "bin_start": 514.8,
            "count": 1
           },
           {
            "bin_end": 686.4,
            "bin_start": 600.6,
            "count": 0
           },
           {
            "bin_end": 772.1999999999999,
            "bin_start": 686.4,
            "count": 0
           },
           {
            "bin_end": 858,
            "bin_start": 772.1999999999999,
            "count": 1
           }
          ],
          "max": "858",
          "min": "0",
          "nan_count": 0,
          "unique_count": 4
         }
        },
        {
         "dtype": "int64",
         "name": 1995,
         "stats": {
          "histogram": [
           {
            "bin_end": 153.7,
            "bin_start": 0,
            "count": 3
           },
           {
            "bin_end": 307.4,
            "bin_start": 153.7,
            "count": 0
           },
           {
            "bin_end": 461.09999999999997,
            "bin_start": 307.4,
            "count": 0
           },
           {
            "bin_end": 614.8,
            "bin_start": 461.09999999999997,
            "count": 0
           },
           {
            "bin_end": 768.5,
            "bin_start": 614.8,
            "count": 0
           },
           {
            "bin_end": 922.1999999999999,
            "bin_start": 768.5,
            "count": 0
           },
           {
            "bin_end": 1075.8999999999999,
            "bin_start": 922.1999999999999,
            "count": 0
           },
           {
            "bin_end": 1229.6,
            "bin_start": 1075.8999999999999,
            "count": 1
           },
           {
            "bin_end": 1383.3,
            "bin_start": 1229.6,
            "count": 0
           },
           {
            "bin_end": 1537,
            "bin_start": 1383.3,
            "count": 1
           }
          ],
          "max": "1537",
          "min": "0",
          "nan_count": 0,
          "unique_count": 4
         }
        },
        {
         "dtype": "int64",
         "name": 1996,
         "stats": {
          "histogram": [
           {
            "bin_end": 221.2,
            "bin_start": 0,
            "count": 3
           },
           {
            "bin_end": 442.4,
            "bin_start": 221.2,
            "count": 0
           },
           {
            "bin_end": 663.5999999999999,
            "bin_start": 442.4,
            "count": 0
           },
           {
            "bin_end": 884.8,
            "bin_start": 663.5999999999999,
            "count": 0
           },
           {
            "bin_end": 1106,
            "bin_start": 884.8,
            "count": 0
           },
           {
            "bin_end": 1327.1999999999998,
            "bin_start": 1106,
            "count": 0
           },
           {
            "bin_end": 1548.3999999999999,
            "bin_start": 1327.1999999999998,
            "count": 0
           },
           {
            "bin_end": 1769.6,
            "bin_start": 1548.3999999999999,
            "count": 0
           },
           {
            "bin_end": 1990.8,
            "bin_start": 1769.6,
            "count": 0
           },
           {
            "bin_end": 2212,
            "bin_start": 1990.8,
            "count": 2
           }
          ],
          "max": "2212",
          "min": "0",
          "nan_count": 0,
          "unique_count": 4
         }
        },
        {
         "dtype": "int64",
         "name": 1997,
         "stats": {
          "histogram": [
           {
            "bin_end": 255.5,
            "bin_start": 0,
            "count": 2
           },
           {
            "bin_end": 511,
            "bin_start": 255.5,
            "count": 1
           },
           {
            "bin_end": 766.5,
            "bin_start": 511,
            "count": 0
           },
           {
            "bin_end": 1022,
            "bin_start": 766.5,
            "count": 0
           },
           {
            "bin_end": 1277.5,
            "bin_start": 1022,
            "count": 0
           },
           {
            "bin_end": 1533,
            "bin_start": 1277.5,
            "count": 0
           },
           {
            "bin_end": 1788.5,
            "bin_start": 1533,
            "count": 0
           },
           {
            "bin_end": 2044,
            "bin_start": 1788.5,
            "count": 1
           },
           {
            "bin_end": 2299.5,
            "bin_start": 2044,
            "count": 0
           },
           {
            "bin_end": 2555,
            "bin_start": 2299.5,
            "count": 1
           }
          ],
          "max": "2555",
          "min": "0",
          "nan_count": 0,
          "unique_count": 4
         }
        },
        {
         "dtype": "int64",
         "name": 1998,
         "stats": {
          "histogram": [
           {
            "bin_end": 229.2,
            "bin_start": 0,
            "count": 2
           },
           {
            "bin_end": 458.4,
            "bin_start": 229.2,
            "count": 0
           },
           {
            "bin_end": 687.5999999999999,
            "bin_start": 458.4,
            "count": 1
           },
           {
            "bin_end": 916.8,
            "bin_start": 687.5999999999999,
            "count": 0
           },
           {
            "bin_end": 1146,
            "bin_start": 916.8,
            "count": 0
           },
           {
            "bin_end": 1375.1999999999998,
            "bin_start": 1146,
            "count": 0
           },
           {
            "bin_end": 1604.3999999999999,
            "bin_start": 1375.1999999999998,
            "count": 0
           },
           {
            "bin_end": 1833.6,
            "bin_start": 1604.3999999999999,
            "count": 0
           },
           {
            "bin_end": 2062.7999999999997,
            "bin_start": 1833.6,
            "count": 1
           },
           {
            "bin_end": 2292,
            "bin_start": 2062.7999999999997,
            "count": 1
           }
          ],
          "max": "2292",
          "min": "0",
          "nan_count": 0,
          "unique_count": 5
         }
        },
        {
         "dtype": "int64",
         "name": 1999,
         "stats": {
          "histogram": [
           {
            "bin_end": 239.5,
            "bin_start": 0,
            "count": 2
           },
           {
            "bin_end": 479,
            "bin_start": 239.5,
            "count": 0
           },
           {
            "bin_end": 718.5,
            "bin_start": 479,
            "count": 0
           },
           {
            "bin_end": 958,
            "bin_start": 718.5,
            "count": 0
           },
           {
            "bin_end": 1197.5,
            "bin_start": 958,
            "count": 0
           },
           {
            "bin_end": 1437,
            "bin_start": 1197.5,
            "count": 1
           },
           {
            "bin_end": 1676.5,
            "bin_start": 1437,
            "count": 0
           },
           {
            "bin_end": 1916,
            "bin_start": 1676.5,
            "count": 0
           },
           {
            "bin_end": 2155.5,
            "bin_start": 1916,
            "count": 0
           },
           {
            "bin_end": 2395,
            "bin_start": 2155.5,
            "count": 2
           }
          ],
          "max": "2395",
          "min": "0",
          "nan_count": 0,
          "unique_count": 4
         }
        },
        {
         "dtype": "int64",
         "name": 2000,
         "stats": {
          "histogram": [
           {
            "bin_end": 332.6,
            "bin_start": 0,
            "count": 2
           },
           {
            "bin_end": 665.2,
            "bin_start": 332.6,
            "count": 0
           },
           {
            "bin_end": 997.8000000000001,
            "bin_start": 665.2,
            "count": 0
           },
           {
            "bin_end": 1330.4,
            "bin_start": 997.8000000000001,
            "count": 0
           },
           {
            "bin_end": 1663,
            "bin_start": 1330.4,
            "count": 0
           },
           {
            "bin_end": 1995.6000000000001,
            "bin_start": 1663,
            "count": 1
           },
           {
            "bin_end": 2328.2000000000003,
            "bin_start": 1995.6000000000001,
            "count": 0
           },
           {
            "bin_end": 2660.8,
            "bin_start": 2328.2000000000003,
            "count": 0
           },
           {
            "bin_end": 2993.4,
            "bin_start": 2660.8,
            "count": 1
           },
           {
            "bin_end": 3326,
            "bin_start": 2993.4,
            "count": 1
           }
          ],
          "max": "3326",
          "min": "0",
          "nan_count": 0,
          "unique_count": 4
         }
        },
        {
         "dtype": "int64",
         "name": 2001,
         "stats": {
          "histogram": [
           {
            "bin_end": 406.7,
            "bin_start": 0,
            "count": 2
           },
           {
            "bin_end": 813.4,
            "bin_start": 406.7,
            "count": 0
           },
           {
            "bin_end": 1220.1,
            "bin_start": 813.4,
            "count": 0
           },
           {
            "bin_end": 1626.8,
            "bin_start": 1220.1,
            "count": 1
           },
           {
            "bin_end": 2033.5,
            "bin_start": 1626.8,
            "count": 0
           },
           {
            "bin_end": 2440.2,
            "bin_start": 2033.5,
            "count": 0
           },
           {
            "bin_end": 2846.9,
            "bin_start": 2440.2,
            "count": 0
           },
           {
            "bin_end": 3253.6,
            "bin_start": 2846.9,
            "count": 0
           },
           {
            "bin_end": 3660.2999999999997,
            "bin_start": 3253.6,
            "count": 1
           },
           {
            "bin_end": 4067,
            "bin_start": 3660.2999999999997,
            "count": 1
           }
          ],
          "max": "4067",
          "min": "0",
          "nan_count": 0,
          "unique_count": 5
         }
        },
        {
         "dtype": "int64",
         "name": 2002,
         "stats": {
          "histogram": [
           {
            "bin_end": 369.7,
            "bin_start": 0,
            "count": 2
           },
           {
            "bin_end": 739.4,
            "bin_start": 369.7,
            "count": 0
           },
           {
            "bin_end": 1109.1,
            "bin_start": 739.4,
            "count": 1
           },
           {
            "bin_end": 1478.8,
            "bin_start": 1109.1,
            "count": 0
           },
           {
            "bin_end": 1848.5,
            "bin_start": 1478.8,
            "count": 0
           },
           {
            "bin_end": 2218.2,
            "bin_start": 1848.5,
            "count": 0
           },
           {
            "bin_end": 2587.9,
            "bin_start": 2218.2,
            "count": 0
           },
           {
            "bin_end": 2957.6,
            "bin_start": 2587.9,
            "count": 0
           },
           {
            "bin_end": 3327.2999999999997,
            "bin_start": 2957.6,
            "count": 0
           },
           {
            "bin_end": 3697,
            "bin_start": 3327.2999999999997,
            "count": 2
           }
          ],
          "max": "3697",
          "min": "0",
          "nan_count": 0,
          "unique_count": 4
         }
        },
        {
         "dtype": "int64",
         "name": 2003,
         "stats": {
          "histogram": [
           {
            "bin_end": 347.9,
            "bin_start": 0,
            "count": 2
           },
           {
            "bin_end": 695.8,
            "bin_start": 347.9,
            "count": 0
           },
           {
            "bin_end": 1043.6999999999998,
            "bin_start": 695.8,
            "count": 1
           },
           {
            "bin_end": 1391.6,
            "bin_start": 1043.6999999999998,
            "count": 0
           },
           {
            "bin_end": 1739.5,
            "bin_start": 1391.6,
            "count": 0
           },
           {
            "bin_end": 2087.3999999999996,
            "bin_start": 1739.5,
            "count": 0
           },
           {
            "bin_end": 2435.2999999999997,
            "bin_start": 2087.3999999999996,
            "count": 0
           },
           {
            "bin_end": 2783.2,
            "bin_start": 2435.2999999999997,
            "count": 0
           },
           {
            "bin_end": 3131.1,
            "bin_start": 2783.2,
            "count": 1
           },
           {
            "bin_end": 3479,
            "bin_start": 3131.1,
            "count": 1
           }
          ],
          "max": "3479",
          "min": "0",
          "nan_count": 0,
          "unique_count": 5
         }
        },
        {
         "dtype": "int64",
         "name": 2004,
         "stats": {
          "histogram": [
           {
            "bin_end": 361.6,
            "bin_start": 0,
            "count": 2
           },
           {
            "bin_end": 723.2,
            "bin_start": 361.6,
            "count": 0
           },
           {
            "bin_end": 1084.8000000000002,
            "bin_start": 723.2,
            "count": 0
           },
           {
            "bin_end": 1446.4,
            "bin_start": 1084.8000000000002,
            "count": 0
           },
           {
            "bin_end": 1808,
            "bin_start": 1446.4,
            "count": 1
           },
           {
            "bin_end": 2169.6000000000004,
            "bin_start": 1808,
            "count": 0
           },
           {
            "bin_end": 2531.2000000000003,
            "bin_start": 2169.6000000000004,
            "count": 0
           },
           {
            "bin_end": 2892.8,
            "bin_start": 2531.2000000000003,
            "count": 0
           },
           {
            "bin_end": 3254.4,
            "bin_start": 2892.8,
            "count": 1
           },
           {
            "bin_end": 3616,
            "bin_start": 3254.4,
            "count": 1
           }
          ],
          "max": "3616",
          "min": "0",
          "nan_count": 0,
          "unique_count": 4
         }
        },
        {
         "dtype": "int64",
         "name": 2005,
         "stats": {
          "histogram": [
           {
            "bin_end": 362.6,
            "bin_start": 0,
            "count": 2
           },
           {
            "bin_end": 725.2,
            "bin_start": 362.6,
            "count": 0
           },
           {
            "bin_end": 1087.8000000000002,
            "bin_start": 725.2,
            "count": 0
           },
           {
            "bin_end": 1450.4,
            "bin_start": 1087.8000000000002,
            "count": 1
           },
           {
            "bin_end": 1813,
            "bin_start": 1450.4,
            "count": 0
           },
           {
            "bin_end": 2175.6000000000004,
            "bin_start": 1813,
            "count": 0
           },
           {
            "bin_end": 2538.2000000000003,
            "bin_start": 2175.6000000000004,
            "count": 0
           },
           {
            "bin_end": 2900.8,
            "bin_start": 2538.2000000000003,
            "count": 0
           },
           {
            "bin_end": 3263.4,
            "bin_start": 2900.8,
            "count": 0
           },
           {
            "bin_end": 3626,
            "bin_start": 3263.4,
            "count": 2
           }
          ],
          "max": "3626",
          "min": "0",
          "nan_count": 0,
          "unique_count": 4
         }
        },
        {
         "dtype": "int64",
         "name": 2006,
         "stats": {
          "histogram": [
           {
            "bin_end": 481.6,
            "bin_start": 1,
            "count": 2
           },
           {
            "bin_end": 962.2,
            "bin_start": 481.6,
            "count": 1
           },
           {
            "bin_end": 1442.8000000000002,
            "bin_start": 962.2,
            "count": 0
           },
           {
            "bin_end": 1923.4,
            "bin_start": 1442.8000000000002,
            "count": 0
           },
           {
            "bin_end": 2404,
            "bin_start": 1923.4,
            "count": 0
           },
           {
            "bin_end": 2884.6000000000004,
            "bin_start": 2404,
            "count": 0
           },
           {
            "bin_end": 3365.2000000000003,
            "bin_start": 2884.6000000000004,
            "count": 1
           },
           {
            "bin_end": 3845.8,
            "bin_start": 3365.2000000000003,
            "count": 0
           },
           {
            "bin_end": 4326.400000000001,
            "bin_start": 3845.8,
            "count": 0
           },
           {
            "bin_end": 4807,
            "bin_start": 4326.400000000001,
            "count": 1
           }
          ],
          "max": "4807",
          "min": "1",
          "nan_count": 0,
          "unique_count": 4
         }
        },
        {
         "dtype": "int64",
         "name": 2007,
         "stats": {
          "histogram": [
           {
            "bin_end": 362.3,
            "bin_start": 0,
            "count": 2
           },
           {
            "bin_end": 724.6,
            "bin_start": 362.3,
            "count": 1
           },
           {
            "bin_end": 1086.9,
            "bin_start": 724.6,
            "count": 0
           },
           {
            "bin_end": 1449.2,
            "bin_start": 1086.9,
            "count": 0
           },
           {
            "bin_end": 1811.5,
            "bin_start": 1449.2,
            "count": 0
           },
           {
            "bin_end": 2173.8,
            "bin_start": 1811.5,
            "count": 0
           },
           {
            "bin_end": 2536.1,
            "bin_start": 2173.8,
            "count": 0
           },
           {
            "bin_end": 2898.4,
            "bin_start": 2536.1,
            "count": 1
           },
           {
            "bin_end": 3260.7000000000003,
            "bin_start": 2898.4,
            "count": 0
           },
           {
            "bin_end": 3623,
            "bin_start": 3260.7000000000003,
            "count": 1
           }
          ],
          "max": "3623",
          "min": "0",
          "nan_count": 0,
          "unique_count": 5
         }
        },
        {
         "dtype": "int64",
         "name": 2008,
         "stats": {
          "histogram": [
           {
            "bin_end": 400.5,
            "bin_start": 0,
            "count": 2
           },
           {
            "bin_end": 801,
            "bin_start": 400.5,
            "count": 1
           },
           {
            "bin_end": 1201.5,
            "bin_start": 801,
            "count": 0
           },
           {
            "bin_end": 1602,
            "bin_start": 1201.5,
            "count": 0
           },
           {
            "bin_end": 2002.5,
            "bin_start": 1602,
            "count": 0
           },
           {
            "bin_end": 2403,
            "bin_start": 2002.5,
            "count": 1
           },
           {
            "bin_end": 2803.5,
            "bin_start": 2403,
            "count": 0
           },
           {
            "bin_end": 3204,
            "bin_start": 2803.5,
            "count": 0
           },
           {
            "bin_end": 3604.5,
            "bin_start": 3204,
            "count": 0
           },
           {
            "bin_end": 4005,
            "bin_start": 3604.5,
            "count": 1
           }
          ],
          "max": "4005",
          "min": "0",
          "nan_count": 0,
          "unique_count": 4
         }
        },
        {
         "dtype": "int64",
         "name": 2009,
         "stats": {
          "histogram": [
           {
            "bin_end": 539.3,
            "bin_start": 0,
            "count": 2
           },
           {
            "bin_end": 1078.6,
            "bin_start": 539.3,
            "count": 1
           },
           {
            "bin_end": 1617.8999999999999,
            "bin_start": 1078.6,
            "count": 0
           },
           {
            "bin_end": 2157.2,
            "bin_start": 1617.8999999999999,
            "count": 1
           },
           {
            "bin_end": 2696.5,
            "bin_start": 2157.2,
            "count": 0
           },
           {
            "bin_end": 3235.7999999999997,
            "bin_start": 2696.5,
            "count": 0
           },
           {
            "bin_end": 3775.0999999999995,
            "bin_start": 3235.7999999999997,
            "count": 0
           },
           {
            "bin_end": 4314.4,
            "bin_start": 3775.0999999999995,
            "count": 0
           },
           {
            "bin_end": 4853.7,
            "bin_start": 4314.4,
            "count": 0
           },
           {
            "bin_end": 5393,
            "bin_start": 4853.7,
            "count": 1
           }
          ],
          "max": "5393",
          "min": "0",
          "nan_count": 0,
          "unique_count": 4
         }
        },
        {
         "dtype": "int64",
         "name": 2010,
         "stats": {
          "histogram": [
           {
            "bin_end": 475.2,
            "bin_start": 0,
            "count": 2
           },
           {
            "bin_end": 950.4,
            "bin_start": 475.2,
            "count": 1
           },
           {
            "bin_end": 1425.6,
            "bin_start": 950.4,
            "count": 0
           },
           {
            "bin_end": 1900.8,
            "bin_start": 1425.6,
            "count": 1
           },
           {
            "bin_end": 2376,
            "bin_start": 1900.8,
            "count": 0
           },
           {
            "bin_end": 2851.2,
            "bin_start": 2376,
            "count": 0
           },
           {
            "bin_end": 3326.4,
            "bin_start": 2851.2,
            "count": 0
           },
           {
            "bin_end": 3801.6,
            "bin_start": 3326.4,
            "count": 0
           },
           {
            "bin_end": 4276.8,
            "bin_start": 3801.6,
            "count": 0
           },
           {
            "bin_end": 4752,
            "bin_start": 4276.8,
            "count": 1
           }
          ],
          "max": "4752",
          "min": "0",
          "nan_count": 0,
          "unique_count": 4
         }
        },
        {
         "dtype": "int64",
         "name": 2011,
         "stats": {
          "histogram": [
           {
            "bin_end": 432.5,
            "bin_start": 0,
            "count": 2
           },
           {
            "bin_end": 865,
            "bin_start": 432.5,
            "count": 1
           },
           {
            "bin_end": 1297.5,
            "bin_start": 865,
            "count": 0
           },
           {
            "bin_end": 1730,
            "bin_start": 1297.5,
            "count": 0
           },
           {
            "bin_end": 2162.5,
            "bin_start": 1730,
            "count": 0
           },
           {
            "bin_end": 2595,
            "bin_start": 2162.5,
            "count": 1
           },
           {
            "bin_end": 3027.5,
            "bin_start": 2595,
            "count": 0
           },
           {
            "bin_end": 3460,
            "bin_start": 3027.5,
            "count": 0
           },
           {
            "bin_end": 3892.5,
            "bin_start": 3460,
            "count": 0
           },
           {
            "bin_end": 4325,
            "bin_start": 3892.5,
            "count": 1
           }
          ],
          "max": "4325",
          "min": "0",
          "nan_count": 0,
          "unique_count": 4
         }
        },
        {
         "dtype": "int64",
         "name": 2012,
         "stats": {
          "histogram": [
           {
            "bin_end": 377.4,
            "bin_start": 0,
            "count": 2
           },
           {
            "bin_end": 754.8,
            "bin_start": 377.4,
            "count": 1
           },
           {
            "bin_end": 1132.1999999999998,
            "bin_start": 754.8,
            "count": 0
           },
           {
            "bin_end": 1509.6,
            "bin_start": 1132.1999999999998,
            "count": 0
           },
           {
            "bin_end": 1887,
            "bin_start": 1509.6,
            "count": 0
           },
           {
            "bin_end": 2264.3999999999996,
            "bin_start": 1887,
            "count": 0
           },
           {
            "bin_end": 2641.7999999999997,
            "bin_start": 2264.3999999999996,
            "count": 1
           },
           {
            "bin_end": 3019.2,
            "bin_start": 2641.7999999999997,
            "count": 0
           },
           {
            "bin_end": 3396.6,
            "bin_start": 3019.2,
            "count": 0
           },
           {
            "bin_end": 3774,
            "bin_start": 3396.6,
            "count": 1
           }
          ],
          "max": "3774",
          "min": "0",
          "nan_count": 0,
          "unique_count": 5
         }
        },
        {
         "dtype": "int64",
         "name": 2013,
         "stats": {
          "histogram": [
           {
            "bin_end": 433.1,
            "bin_start": 0,
            "count": 2
           },
           {
            "bin_end": 866.2,
            "bin_start": 433.1,
            "count": 1
           },
           {
            "bin_end": 1299.3000000000002,
            "bin_start": 866.2,
            "count": 0
           },
           {
            "bin_end": 1732.4,
            "bin_start": 1299.3000000000002,
            "count": 0
           },
           {
            "bin_end": 2165.5,
            "bin_start": 1732.4,
            "count": 1
           },
           {
            "bin_end": 2598.6000000000004,
            "bin_start": 2165.5,
            "count": 0
           },
           {
            "bin_end": 3031.7000000000003,
            "bin_start": 2598.6000000000004,
            "count": 0
           },
           {
            "bin_end": 3464.8,
            "bin_start": 3031.7000000000003,
            "count": 0
           },
           {
            "bin_end": 3897.9,
            "bin_start": 3464.8,
            "count": 0
           },
           {
            "bin_end": 4331,
            "bin_start": 3897.9,
            "count": 1
           }
          ],
          "max": "4331",
          "min": "0",
          "nan_count": 0,
          "unique_count": 5
         }
        },
        {
         "dtype": "int64",
         "name": "Total",
         "stats": {
          "histogram": [
           {
            "bin_end": 6949.3,
            "bin_start": 6,
            "count": 2
           },
           {
            "bin_end": 13892.6,
            "bin_start": 6949.3,
            "count": 0
           },
           {
            "bin_end": 20835.9,
            "bin_start": 13892.6,
            "count": 1
           },
           {
            "bin_end": 27779.2,
            "bin_start": 20835.9,
            "count": 0
           },
           {
            "bin_end": 34722.5,
            "bin_start": 27779.2,
            "count": 0
           },
           {
            "bin_end": 41665.8,
            "bin_start": 34722.5,
            "count": 0
           },
           {
            "bin_end": 48609.1,
            "bin_start": 41665.8,
            "count": 0
           },
           {
            "bin_end": 55552.4,
            "bin_start": 48609.1,
            "count": 0
           },
           {
            "bin_end": 62495.700000000004,
            "bin_start": 55552.4,
            "count": 1
           },
           {
            "bin_end": 69439,
            "bin_start": 62495.700000000004,
            "count": 1
           }
          ],
          "max": "69439",
          "min": "6",
          "nan_count": 0,
          "unique_count": 5
         }
        },
        {
         "dtype": "object",
         "name": "_deepnote_index_column"
        }
       ],
       "row_count": 5,
       "rows": [
        {
         "1980": 16,
         "1981": 39,
         "1982": 39,
         "1983": 47,
         "1984": 71,
         "1985": 340,
         "1986": 496,
         "1987": 741,
         "1988": 828,
         "1989": 1076,
         "1990": 1028,
         "1991": 1378,
         "1992": 1170,
         "1993": 713,
         "1994": 858,
         "1995": 1537,
         "1996": 2212,
         "1997": 2555,
         "1998": 1999,
         "1999": 2395,
         "2000": 3326,
         "2001": 4067,
         "2002": 3697,
         "2003": 3479,
         "2004": 2978,
         "2005": 3436,
         "2006": 3009,
         "2007": 2652,
         "2008": 2111,
         "2009": 1746,
         "2010": 1758,
         "2011": 2203,
         "2012": 2635,
         "2013": 2004,
         "Continent": "Asia",
         "DevName": "Developing regions",
         "Region": "Southern Asia",
         "Total": 58639,
         "_deepnote_index_column": "Afghanistan"
        },
        {
         "1980": 1,
         "1981": 0,
         "1982": 0,
         "1983": 0,
         "1984": 0,
         "1985": 0,
         "1986": 1,
         "1987": 2,
         "1988": 2,
         "1989": 3,
         "1990": 3,
         "1991": 21,
         "1992": 56,
         "1993": 96,
         "1994": 71,
         "1995": 63,
         "1996": 113,
         "1997": 307,
         "1998": 574,
         "1999": 1264,
         "2000": 1816,
         "2001": 1602,
         "2002": 1021,
         "2003": 853,
         "2004": 1450,
         "2005": 1223,
         "2006": 856,
         "2007": 702,
         "2008": 560,
         "2009": 716,
         "2010": 561,
         "2011": 539,
         "2012": 620,
         "2013": 603,
         "Continent": "Europe",
         "DevName": "Developed regions",
         "Region": "Southern Europe",
         "Total": 15699,
         "_deepnote_index_column": "Albania"
        },
        {
         "1980": 80,
         "1981": 67,
         "1982": 71,
         "1983": 69,
         "1984": 63,
         "1985": 44,
         "1986": 69,
         "1987": 132,
         "1988": 242,
         "1989": 434,
         "1990": 491,
         "1991": 872,
         "1992": 795,
         "1993": 717,
         "1994": 595,
         "1995": 1106,
         "1996": 2054,
         "1997": 1842,
         "1998": 2292,
         "1999": 2389,
         "2000": 2867,
         "2001": 3418,
         "2002": 3406,
         "2003": 3072,
         "2004": 3616,
         "2005": 3626,
         "2006": 4807,
         "2007": 3623,
         "2008": 4005,
         "2009": 5393,
         "2010": 4752,
         "2011": 4325,
         "2012": 3774,
         "2013": 4331,
         "Continent": "Africa",
         "DevName": "Developing regions",
         "Region": "Northern Africa",
         "Total": 69439,
         "_deepnote_index_column": "Algeria"
        },
        {
         "1980": 0,
         "1981": 1,
         "1982": 0,
         "1983": 0,
         "1984": 0,
         "1985": 0,
         "1986": 0,
         "1987": 1,
         "1988": 0,
         "1989": 1,
         "1990": 2,
         "1991": 0,
         "1992": 0,
         "1993": 0,
         "1994": 0,
         "1995": 0,
         "1996": 0,
         "1997": 0,
         "1998": 0,
         "1999": 0,
         "2000": 0,
         "2001": 0,
         "2002": 0,
         "2003": 0,
         "2004": 0,
         "2005": 0,
         "2006": 1,
         "2007": 0,
         "2008": 0,
         "2009": 0,
         "2010": 0,
         "2011": 0,
         "2012": 0,
         "2013": 0,
         "Continent": "Oceania",
         "DevName": "Developing regions",
         "Region": "Polynesia",
         "Total": 6,
         "_deepnote_index_column": "American Samoa"
        },
        {
         "1980": 0,
         "1981": 0,
         "1982": 0,
         "1983": 0,
         "1984": 0,
         "1985": 0,
         "1986": 2,
         "1987": 0,
         "1988": 0,
         "1989": 0,
         "1990": 3,
         "1991": 0,
         "1992": 1,
         "1993": 0,
         "1994": 0,
         "1995": 0,
         "1996": 0,
         "1997": 0,
         "1998": 2,
         "1999": 0,
         "2000": 0,
         "2001": 1,
         "2002": 0,
         "2003": 2,
         "2004": 0,
         "2005": 0,
         "2006": 1,
         "2007": 1,
         "2008": 0,
         "2009": 0,
         "2010": 0,
         "2011": 0,
         "2012": 1,
         "2013": 1,
         "Continent": "Europe",
         "DevName": "Developed regions",
         "Region": "Southern Europe",
         "Total": 15,
         "_deepnote_index_column": "Andorra"
        }
       ]
      },
      "text/html": [
       "<div>\n",
       "<style scoped>\n",
       "    .dataframe tbody tr th:only-of-type {\n",
       "        vertical-align: middle;\n",
       "    }\n",
       "\n",
       "    .dataframe tbody tr th {\n",
       "        vertical-align: top;\n",
       "    }\n",
       "\n",
       "    .dataframe thead th {\n",
       "        text-align: right;\n",
       "    }\n",
       "</style>\n",
       "<table border=\"1\" class=\"dataframe\">\n",
       "  <thead>\n",
       "    <tr style=\"text-align: right;\">\n",
       "      <th></th>\n",
       "      <th>Continent</th>\n",
       "      <th>Region</th>\n",
       "      <th>DevName</th>\n",
       "      <th>1980</th>\n",
       "      <th>1981</th>\n",
       "      <th>1982</th>\n",
       "      <th>1983</th>\n",
       "      <th>1984</th>\n",
       "      <th>1985</th>\n",
       "      <th>1986</th>\n",
       "      <th>...</th>\n",
       "      <th>2005</th>\n",
       "      <th>2006</th>\n",
       "      <th>2007</th>\n",
       "      <th>2008</th>\n",
       "      <th>2009</th>\n",
       "      <th>2010</th>\n",
       "      <th>2011</th>\n",
       "      <th>2012</th>\n",
       "      <th>2013</th>\n",
       "      <th>Total</th>\n",
       "    </tr>\n",
       "    <tr>\n",
       "      <th>Country</th>\n",
       "      <th></th>\n",
       "      <th></th>\n",
       "      <th></th>\n",
       "      <th></th>\n",
       "      <th></th>\n",
       "      <th></th>\n",
       "      <th></th>\n",
       "      <th></th>\n",
       "      <th></th>\n",
       "      <th></th>\n",
       "      <th></th>\n",
       "      <th></th>\n",
       "      <th></th>\n",
       "      <th></th>\n",
       "      <th></th>\n",
       "      <th></th>\n",
       "      <th></th>\n",
       "      <th></th>\n",
       "      <th></th>\n",
       "      <th></th>\n",
       "      <th></th>\n",
       "    </tr>\n",
       "  </thead>\n",
       "  <tbody>\n",
       "    <tr>\n",
       "      <th>Afghanistan</th>\n",
       "      <td>Asia</td>\n",
       "      <td>Southern Asia</td>\n",
       "      <td>Developing regions</td>\n",
       "      <td>16</td>\n",
       "      <td>39</td>\n",
       "      <td>39</td>\n",
       "      <td>47</td>\n",
       "      <td>71</td>\n",
       "      <td>340</td>\n",
       "      <td>496</td>\n",
       "      <td>...</td>\n",
       "      <td>3436</td>\n",
       "      <td>3009</td>\n",
       "      <td>2652</td>\n",
       "      <td>2111</td>\n",
       "      <td>1746</td>\n",
       "      <td>1758</td>\n",
       "      <td>2203</td>\n",
       "      <td>2635</td>\n",
       "      <td>2004</td>\n",
       "      <td>58639</td>\n",
       "    </tr>\n",
       "    <tr>\n",
       "      <th>Albania</th>\n",
       "      <td>Europe</td>\n",
       "      <td>Southern Europe</td>\n",
       "      <td>Developed regions</td>\n",
       "      <td>1</td>\n",
       "      <td>0</td>\n",
       "      <td>0</td>\n",
       "      <td>0</td>\n",
       "      <td>0</td>\n",
       "      <td>0</td>\n",
       "      <td>1</td>\n",
       "      <td>...</td>\n",
       "      <td>1223</td>\n",
       "      <td>856</td>\n",
       "      <td>702</td>\n",
       "      <td>560</td>\n",
       "      <td>716</td>\n",
       "      <td>561</td>\n",
       "      <td>539</td>\n",
       "      <td>620</td>\n",
       "      <td>603</td>\n",
       "      <td>15699</td>\n",
       "    </tr>\n",
       "    <tr>\n",
       "      <th>Algeria</th>\n",
       "      <td>Africa</td>\n",
       "      <td>Northern Africa</td>\n",
       "      <td>Developing regions</td>\n",
       "      <td>80</td>\n",
       "      <td>67</td>\n",
       "      <td>71</td>\n",
       "      <td>69</td>\n",
       "      <td>63</td>\n",
       "      <td>44</td>\n",
       "      <td>69</td>\n",
       "      <td>...</td>\n",
       "      <td>3626</td>\n",
       "      <td>4807</td>\n",
       "      <td>3623</td>\n",
       "      <td>4005</td>\n",
       "      <td>5393</td>\n",
       "      <td>4752</td>\n",
       "      <td>4325</td>\n",
       "      <td>3774</td>\n",
       "      <td>4331</td>\n",
       "      <td>69439</td>\n",
       "    </tr>\n",
       "    <tr>\n",
       "      <th>American Samoa</th>\n",
       "      <td>Oceania</td>\n",
       "      <td>Polynesia</td>\n",
       "      <td>Developing regions</td>\n",
       "      <td>0</td>\n",
       "      <td>1</td>\n",
       "      <td>0</td>\n",
       "      <td>0</td>\n",
       "      <td>0</td>\n",
       "      <td>0</td>\n",
       "      <td>0</td>\n",
       "      <td>...</td>\n",
       "      <td>0</td>\n",
       "      <td>1</td>\n",
       "      <td>0</td>\n",
       "      <td>0</td>\n",
       "      <td>0</td>\n",
       "      <td>0</td>\n",
       "      <td>0</td>\n",
       "      <td>0</td>\n",
       "      <td>0</td>\n",
       "      <td>6</td>\n",
       "    </tr>\n",
       "    <tr>\n",
       "      <th>Andorra</th>\n",
       "      <td>Europe</td>\n",
       "      <td>Southern Europe</td>\n",
       "      <td>Developed regions</td>\n",
       "      <td>0</td>\n",
       "      <td>0</td>\n",
       "      <td>0</td>\n",
       "      <td>0</td>\n",
       "      <td>0</td>\n",
       "      <td>0</td>\n",
       "      <td>2</td>\n",
       "      <td>...</td>\n",
       "      <td>0</td>\n",
       "      <td>1</td>\n",
       "      <td>1</td>\n",
       "      <td>0</td>\n",
       "      <td>0</td>\n",
       "      <td>0</td>\n",
       "      <td>0</td>\n",
       "      <td>1</td>\n",
       "      <td>1</td>\n",
       "      <td>15</td>\n",
       "    </tr>\n",
       "  </tbody>\n",
       "</table>\n",
       "<p>5 rows × 38 columns</p>\n",
       "</div>"
      ],
      "text/plain": [
       "               Continent           Region             DevName  1980  1981  \\\n",
       "Country                                                                     \n",
       "Afghanistan         Asia    Southern Asia  Developing regions    16    39   \n",
       "Albania           Europe  Southern Europe   Developed regions     1     0   \n",
       "Algeria           Africa  Northern Africa  Developing regions    80    67   \n",
       "American Samoa   Oceania        Polynesia  Developing regions     0     1   \n",
       "Andorra           Europe  Southern Europe   Developed regions     0     0   \n",
       "\n",
       "                1982  1983  1984  1985  1986  ...  2005  2006  2007  2008  \\\n",
       "Country                                       ...                           \n",
       "Afghanistan       39    47    71   340   496  ...  3436  3009  2652  2111   \n",
       "Albania            0     0     0     0     1  ...  1223   856   702   560   \n",
       "Algeria           71    69    63    44    69  ...  3626  4807  3623  4005   \n",
       "American Samoa     0     0     0     0     0  ...     0     1     0     0   \n",
       "Andorra            0     0     0     0     2  ...     0     1     1     0   \n",
       "\n",
       "                2009  2010  2011  2012  2013  Total  \n",
       "Country                                              \n",
       "Afghanistan     1746  1758  2203  2635  2004  58639  \n",
       "Albania          716   561   539   620   603  15699  \n",
       "Algeria         5393  4752  4325  3774  4331  69439  \n",
       "American Samoa     0     0     0     0     0      6  \n",
       "Andorra            0     0     0     1     1     15  \n",
       "\n",
       "[5 rows x 38 columns]"
      ]
     },
     "execution_count": 5,
     "metadata": {},
     "output_type": "execute_result"
    }
   ],
   "source": [
    "df.head()"
   ]
  },
  {
   "cell_type": "markdown",
   "metadata": {
    "cell_id": "c2d3cacd9a2140beaa47d20ef0ee473c",
    "deepnote_cell_height": 668.3125,
    "deepnote_cell_type": "markdown",
    "tags": []
   },
   "source": [
    "**--> Penjelasan**\n",
    "\n",
    "Tahap di atas merupakan tahap preprocessing awal setelah melakukan load data. Preprocessing dibutuhkan dengan tujuan menghasilkan data yang rapi dan sesuai dengan kebutuhan. Tahapan dalam preprocessing dilakukan menyesesuaikan dengan kebutuhan data yang diinginkan dalam proses selanjutnya. Dalam kasus ini, tahapan preprocessing meliputi:\n",
    "- menghapus kolom yang tidak diperlukan\n",
    "> pada dataset imigran ke Kanada yang digunakan pada studi kasus ini, beberapa kolom / fitur tidak diperlukan untuk visualisasi data, sehingga kolom tersebut dihapus.\n",
    "- mengganti nama kolom\n",
    "> pada dataset yang digunakan, terdapat beberapa nama kolom yang harus disesuaikan agar mendapatkan persepsi yang sama tentang informasi yang akan disampaikan.\n",
    "- menjadikan nama negara menjadi index\n",
    "> pada dataset yang digunakan, tidak ada baris data negara yang duplikat. Oleh sebab itu, penggunaan nama negara sebagai index dapat membuat dataset menjadi lebih efisien.\n",
    "- menambahkan kolom total imigran pada tahun 1980 - 2013\n",
    "> pada dataset yang digunakan, ditambahkan kolom total imigrasi pada urutan kolom terakhir. Kolom ini berisi jumlah imigran suatu negara ke Kanada sejak tahun 1980 hingga 2013.\n",
    "-  menghapus record unkown (benua world)\n",
    "> pada dataset yang digunakan, record unkown dianggap tidak relevan dengan visualisasi yang akan dilakukan dan berpotensi merusak hasil visulisasi. Hal ini disebabkan karena visualisasi yang dilakukan spesifik terhadap negara tertentu, bukan baris gabungan berbagai negara."
   ]
  },
  {
   "cell_type": "markdown",
   "metadata": {
    "cell_id": "00019-e211e468-6933-4394-85b6-85fa2fd64477",
    "deepnote_cell_height": 82,
    "deepnote_cell_type": "markdown",
    "tags": []
   },
   "source": [
    "# 1. Area Plots"
   ]
  },
  {
   "cell_type": "markdown",
   "metadata": {
    "cell_id": "00021-801da6d6-ed44-4267-be19-3e204c59c740",
    "deepnote_cell_height": 110,
    "deepnote_cell_type": "markdown",
    "tags": []
   },
   "source": [
    "## a. Area Plot pada negara yang memiliki angka imigrasi tinggi ke Kanada (top 5)"
   ]
  },
  {
   "cell_type": "code",
   "execution_count": null,
   "metadata": {
    "cell_id": "538829ac2e084b279a1c90b5d31c82ac",
    "deepnote_cell_height": 501.65625,
    "deepnote_cell_type": "code",
    "deepnote_to_be_reexecuted": false,
    "execution_millis": 318,
    "execution_start": 1650709035905,
    "source_hash": "ddeb06f5",
    "tags": []
   },
   "outputs": [
    {
     "data": {
      "application/vnd.deepnote.dataframe.v3+json": {
       "column_count": 5,
       "columns": [
        {
         "dtype": "int64",
         "name": "India",
         "stats": {
          "histogram": [
           {
            "bin_end": 6021.6,
            "bin_start": 5704,
            "count": 1
           },
           {
            "bin_end": 6339.2,
            "bin_start": 6021.6,
            "count": 0
           },
           {
            "bin_end": 6656.8,
            "bin_start": 6339.2,
            "count": 0
           },
           {
            "bin_end": 6974.4,
            "bin_start": 6656.8,
            "count": 0
           },
           {
            "bin_end": 7292,
            "bin_start": 6974.4,
            "count": 0
           },
           {
            "bin_end": 7609.6,
            "bin_start": 7292,
            "count": 1
           },
           {
            "bin_end": 7927.200000000001,
            "bin_start": 7609.6,
            "count": 0
           },
           {
            "bin_end": 8244.8,
            "bin_start": 7927.200000000001,
            "count": 1
           },
           {
            "bin_end": 8562.4,
            "bin_start": 8244.8,
            "count": 0
           },
           {
            "bin_end": 8880,
            "bin_start": 8562.4,
            "count": 2
           }
          ],
          "max": "8880",
          "min": "5704",
          "nan_count": 0,
          "unique_count": 5
         }
        },
        {
         "dtype": "int64",
         "name": "China",
         "stats": {
          "histogram": [
           {
            "bin_end": 2042.5,
            "bin_start": 1527,
            "count": 2
           },
           {
            "bin_end": 2558,
            "bin_start": 2042.5,
            "count": 0
           },
           {
            "bin_end": 3073.5,
            "bin_start": 2558,
            "count": 0
           },
           {
            "bin_end": 3589,
            "bin_start": 3073.5,
            "count": 1
           },
           {
            "bin_end": 4104.5,
            "bin_start": 3589,
            "count": 0
           },
           {
            "bin_end": 4620,
            "bin_start": 4104.5,
            "count": 0
           },
           {
            "bin_end": 5135.5,
            "bin_start": 4620,
            "count": 1
           },
           {
            "bin_end": 5651,
            "bin_start": 5135.5,
            "count": 0
           },
           {
            "bin_end": 6166.5,
            "bin_start": 5651,
            "count": 0
           },
           {
            "bin_end": 6682,
            "bin_start": 6166.5,
            "count": 1
           }
          ],
          "max": "6682",
          "min": "1527",
          "nan_count": 0,
          "unique_count": 5
         }
        },
        {
         "dtype": "int64",
         "name": "United Kingdom of Great Britain and Northern Ireland",
         "stats": {
          "histogram": [
           {
            "bin_end": 11493.1,
            "bin_start": 10015,
            "count": 2
           },
           {
            "bin_end": 12971.2,
            "bin_start": 11493.1,
            "count": 0
           },
           {
            "bin_end": 14449.3,
            "bin_start": 12971.2,
            "count": 0
           },
           {
            "bin_end": 15927.4,
            "bin_start": 14449.3,
            "count": 0
           },
           {
            "bin_end": 17405.5,
            "bin_start": 15927.4,
            "count": 0
           },
           {
            "bin_end": 18883.6,
            "bin_start": 17405.5,
            "count": 0
           },
           {
            "bin_end": 20361.699999999997,
            "bin_start": 18883.6,
            "count": 0
           },
           {
            "bin_end": 21839.8,
            "bin_start": 20361.699999999997,
            "count": 1
           },
           {
            "bin_end": 23317.9,
            "bin_start": 21839.8,
            "count": 1
           },
           {
            "bin_end": 24796,
            "bin_start": 23317.9,
            "count": 1
           }
          ],
          "max": "24796",
          "min": "10015",
          "nan_count": 0,
          "unique_count": 5
         }
        },
        {
         "dtype": "int64",
         "name": "Philippines",
         "stats": {
          "histogram": [
           {
            "bin_end": 4026,
            "bin_start": 3801,
            "count": 1
           },
           {
            "bin_end": 4251,
            "bin_start": 4026,
            "count": 0
           },
           {
            "bin_end": 4476,
            "bin_start": 4251,
            "count": 0
           },
           {
            "bin_end": 4701,
            "bin_start": 4476,
            "count": 1
           },
           {
            "bin_end": 4926,
            "bin_start": 4701,
            "count": 0
           },
           {
            "bin_end": 5151,
            "bin_start": 4926,
            "count": 0
           },
           {
            "bin_end": 5376,
            "bin_start": 5151,
            "count": 1
           },
           {
            "bin_end": 5601,
            "bin_start": 5376,
            "count": 0
           },
           {
            "bin_end": 5826,
            "bin_start": 5601,
            "count": 0
           },
           {
            "bin_end": 6051,
            "bin_start": 5826,
            "count": 2
           }
          ],
          "max": "6051",
          "min": "3801",
          "nan_count": 0,
          "unique_count": 5
         }
        },
        {
         "dtype": "int64",
         "name": "Pakistan",
         "stats": {
          "histogram": [
           {
            "bin_end": 721.3,
            "bin_start": 668,
            "count": 1
           },
           {
            "bin_end": 774.6,
            "bin_start": 721.3,
            "count": 0
           },
           {
            "bin_end": 827.9,
            "bin_start": 774.6,
            "count": 0
           },
           {
            "bin_end": 881.2,
            "bin_start": 827.9,
            "count": 0
           },
           {
            "bin_end": 934.5,
            "bin_start": 881.2,
            "count": 1
           },
           {
            "bin_end": 987.8,
            "bin_start": 934.5,
            "count": 2
           },
           {
            "bin_end": 1041.1,
            "bin_start": 987.8,
            "count": 0
           },
           {
            "bin_end": 1094.4,
            "bin_start": 1041.1,
            "count": 0
           },
           {
            "bin_end": 1147.7,
            "bin_start": 1094.4,
            "count": 0
           },
           {
            "bin_end": 1201,
            "bin_start": 1147.7,
            "count": 1
           }
          ],
          "max": "1201",
          "min": "668",
          "nan_count": 0,
          "unique_count": 5
         }
        },
        {
         "dtype": "object",
         "name": "_deepnote_index_column"
        }
       ],
       "row_count": 5,
       "rows": [
        {
         "China": 5123,
         "India": 8880,
         "Pakistan": 978,
         "Philippines": 6051,
         "United Kingdom of Great Britain and Northern Ireland": 22045,
         "_deepnote_index_column": "1980"
        },
        {
         "China": 6682,
         "India": 8670,
         "Pakistan": 972,
         "Philippines": 5921,
         "United Kingdom of Great Britain and Northern Ireland": 24796,
         "_deepnote_index_column": "1981"
        },
        {
         "China": 3308,
         "India": 8147,
         "Pakistan": 1201,
         "Philippines": 5249,
         "United Kingdom of Great Britain and Northern Ireland": 20620,
         "_deepnote_index_column": "1982"
        },
        {
         "China": 1863,
         "India": 7338,
         "Pakistan": 900,
         "Philippines": 4562,
         "United Kingdom of Great Britain and Northern Ireland": 10015,
         "_deepnote_index_column": "1983"
        },
        {
         "China": 1527,
         "India": 5704,
         "Pakistan": 668,
         "Philippines": 3801,
         "United Kingdom of Great Britain and Northern Ireland": 10170,
         "_deepnote_index_column": "1984"
        }
       ]
      },
      "text/html": [
       "<div>\n",
       "<style scoped>\n",
       "    .dataframe tbody tr th:only-of-type {\n",
       "        vertical-align: middle;\n",
       "    }\n",
       "\n",
       "    .dataframe tbody tr th {\n",
       "        vertical-align: top;\n",
       "    }\n",
       "\n",
       "    .dataframe thead th {\n",
       "        text-align: right;\n",
       "    }\n",
       "</style>\n",
       "<table border=\"1\" class=\"dataframe\">\n",
       "  <thead>\n",
       "    <tr style=\"text-align: right;\">\n",
       "      <th>Country</th>\n",
       "      <th>India</th>\n",
       "      <th>China</th>\n",
       "      <th>United Kingdom of Great Britain and Northern Ireland</th>\n",
       "      <th>Philippines</th>\n",
       "      <th>Pakistan</th>\n",
       "    </tr>\n",
       "  </thead>\n",
       "  <tbody>\n",
       "    <tr>\n",
       "      <th>1980</th>\n",
       "      <td>8880</td>\n",
       "      <td>5123</td>\n",
       "      <td>22045</td>\n",
       "      <td>6051</td>\n",
       "      <td>978</td>\n",
       "    </tr>\n",
       "    <tr>\n",
       "      <th>1981</th>\n",
       "      <td>8670</td>\n",
       "      <td>6682</td>\n",
       "      <td>24796</td>\n",
       "      <td>5921</td>\n",
       "      <td>972</td>\n",
       "    </tr>\n",
       "    <tr>\n",
       "      <th>1982</th>\n",
       "      <td>8147</td>\n",
       "      <td>3308</td>\n",
       "      <td>20620</td>\n",
       "      <td>5249</td>\n",
       "      <td>1201</td>\n",
       "    </tr>\n",
       "    <tr>\n",
       "      <th>1983</th>\n",
       "      <td>7338</td>\n",
       "      <td>1863</td>\n",
       "      <td>10015</td>\n",
       "      <td>4562</td>\n",
       "      <td>900</td>\n",
       "    </tr>\n",
       "    <tr>\n",
       "      <th>1984</th>\n",
       "      <td>5704</td>\n",
       "      <td>1527</td>\n",
       "      <td>10170</td>\n",
       "      <td>3801</td>\n",
       "      <td>668</td>\n",
       "    </tr>\n",
       "  </tbody>\n",
       "</table>\n",
       "</div>"
      ],
      "text/plain": [
       "Country  India  China  United Kingdom of Great Britain and Northern Ireland  \\\n",
       "1980      8880   5123                                              22045      \n",
       "1981      8670   6682                                              24796      \n",
       "1982      8147   3308                                              20620      \n",
       "1983      7338   1863                                              10015      \n",
       "1984      5704   1527                                              10170      \n",
       "\n",
       "Country  Philippines  Pakistan  \n",
       "1980            6051       978  \n",
       "1981            5921       972  \n",
       "1982            5249      1201  \n",
       "1983            4562       900  \n",
       "1984            3801       668  "
      ]
     },
     "execution_count": 6,
     "metadata": {},
     "output_type": "execute_result"
    }
   ],
   "source": [
    "# df.sort_values(['Total'], ascending=False, axis=0)\n",
    "\n",
    "daftar_tahun = list(map(int, range(1980, 2014)))\n",
    "df_top5 = df.sort_values(['Total'], ascending=False, axis=0).head()\n",
    "df_top5 = df_top5[daftar_tahun].transpose()\n",
    "df_top5.head()"
   ]
  },
  {
   "cell_type": "code",
   "execution_count": null,
   "metadata": {
    "cell_id": "4ed25c582d64461aad1583e8592948c2",
    "deepnote_cell_height": 530.375,
    "deepnote_cell_type": "code",
    "deepnote_output_heights": [
     325.390625
    ],
    "deepnote_to_be_reexecuted": false,
    "execution_millis": 383,
    "execution_start": 1650708837320,
    "output_cleared": false,
    "source_hash": "c67509d0",
    "tags": []
   },
   "outputs": [
    {
     "data": {
      "image/png": "[encoded data removed]",
      "text/plain": [
       "<Figure size 1080x504 with 1 Axes>"
      ]
     },
     "metadata": {
      "image/png": {
       "height": 441,
       "width": 910
      },
      "needs_background": "light"
     },
     "output_type": "display_data"
    }
   ],
   "source": [
    "df_top5.plot(kind='area', figsize=(15, 7), colormap='Paired')\n",
    "\n",
    "plt.title(\"Top 5 Negara dengan angka imigrasi tertinggi ke Kanada\")\n",
    "plt.ylabel(\"Jumlah Imigran\")\n",
    "plt.xlabel(\"Tahun\")\n",
    "\n",
    "plt.show()"
   ]
  },
  {
   "cell_type": "markdown",
   "metadata": {
    "cell_id": "00025-8bc98612-5d7a-484f-b7fd-0de35c27bfa7",
    "deepnote_cell_height": 579.3125,
    "deepnote_cell_type": "markdown",
    "tags": []
   },
   "source": [
    "**--> Penjelasan**\n",
    "\n",
    "Pada studi kasus ini, akan ditampilkan sebuah Area Plot untuk 5 negara yang memiliki angka imigrasi tertinggi ke Kanada. Visualisasi Area Plot yang digunakan ialah Stacked Area Plot, sehingga garis diplot satu per satu dan plot terakhir berfungsi sebagai garis dasar. Dengan kata lain, plot yang divisualisasikan ialah akumulasi imigran 5 negara teratas.\n",
    "\n",
    "Data untuk visualisasi didapatkan melalui preprocessing lanjutan berupa mengurutkan total imigrasi setiap negara dari yang tertinggi, kemudian mengambil 5 baris data teratas. Data yang didapatkan kemudian divisualisasikan ke dalam bentuk Area Plot seperti pada gambar di atas.\n",
    "\n",
    "Pada dasarnya Area Plot memberikan informasi selayaknya Line Plot, yaitu bagaimana suatu nilai numerik berubah seiring berjalannya waktu (dipengaruhi waktu / time series). Pada kasus ini, hal yang dimaksud ialah perubahan jumlah atau tren imigran suatu negara ke Kanada dari waktu ke waktu. Pada visualisasi diatas, dapat diamati bahwa:\n",
    "\n",
    "1. India merupakan negara dengan total penduduk yang melakukan imigrasi ke Kanada paling banyak dan cenderung terus meningkat. \n",
    "2. Pada lima negara tersebut, cenderung terjadi penurunan jumlah imigrasi yang signifikan hingga tahun 1985 ditinjau sejak tahun 1980. Negara dengan penurunan jumlah imigran yang paling signifikan ialah Inggris.\n",
    "3. Pada lima negara tersebut, terjadi puncak total imigrasi ke Kanada hingga mencapai 120.000 penduduk pada tahun 2005 dan 2010.\n",
    "4. Sejak tahun 1995, Inggris mengalami penurunan jumlah imigran yang signifikan dan cenderung terus menurun hingga tahun 2013. "
   ]
  },
  {
   "cell_type": "markdown",
   "metadata": {
    "cell_id": "b51898fc73c845d2bda498327b9fb84c",
    "deepnote_cell_height": 110,
    "deepnote_cell_type": "markdown",
    "tags": []
   },
   "source": [
    "## b. Area Plot pada negara yang memiliki angka imigrasi tinggi ke Kanada (top 10)"
   ]
  },
  {
   "cell_type": "code",
   "execution_count": null,
   "metadata": {
    "cell_id": "c6bc26c103244253b0b31dd448ba8e19",
    "deepnote_cell_height": 447.65625,
    "deepnote_cell_type": "code",
    "deepnote_to_be_reexecuted": false,
    "execution_millis": 463,
    "execution_start": 1650597128432,
    "source_hash": "fd372934",
    "tags": []
   },
   "outputs": [
    {
     "data": {
      "application/vnd.deepnote.dataframe.v3+json": {
       "column_count": 10,
       "columns": [
        {
         "dtype": "int64",
         "name": "India",
         "stats": {
          "histogram": [
           {
            "bin_end": 6021.6,
            "bin_start": 5704,
            "count": 1
           },
           {
            "bin_end": 6339.2,
            "bin_start": 6021.6,
            "count": 0
           },
           {
            "bin_end": 6656.8,
            "bin_start": 6339.2,
            "count": 0
           },
           {
            "bin_end": 6974.4,
            "bin_start": 6656.8,
            "count": 0
           },
           {
            "bin_end": 7292,
            "bin_start": 6974.4,
            "count": 0
           },
           {
            "bin_end": 7609.6,
            "bin_start": 7292,
            "count": 1
           },
           {
            "bin_end": 7927.200000000001,
            "bin_start": 7609.6,
            "count": 0
           },
           {
            "bin_end": 8244.8,
            "bin_start": 7927.200000000001,
            "count": 1
           },
           {
            "bin_end": 8562.4,
            "bin_start": 8244.8,
            "count": 0
           },
           {
            "bin_end": 8880,
            "bin_start": 8562.4,
            "count": 2
           }
          ],
          "max": "8880",
          "min": "5704",
          "nan_count": 0,
          "unique_count": 5
         }
        },
        {
         "dtype": "int64",
         "name": "China",
         "stats": {
          "histogram": [
           {
            "bin_end": 2042.5,
            "bin_start": 1527,
            "count": 2
           },
           {
            "bin_end": 2558,
            "bin_start": 2042.5,
            "count": 0
           },
           {
            "bin_end": 3073.5,
            "bin_start": 2558,
            "count": 0
           },
           {
            "bin_end": 3589,
            "bin_start": 3073.5,
            "count": 1
           },
           {
            "bin_end": 4104.5,
            "bin_start": 3589,
            "count": 0
           },
           {
            "bin_end": 4620,
            "bin_start": 4104.5,
            "count": 0
           },
           {
            "bin_end": 5135.5,
            "bin_start": 4620,
            "count": 1
           },
           {
            "bin_end": 5651,
            "bin_start": 5135.5,
            "count": 0
           },
           {
            "bin_end": 6166.5,
            "bin_start": 5651,
            "count": 0
           },
           {
            "bin_end": 6682,
            "bin_start": 6166.5,
            "count": 1
           }
          ],
          "max": "6682",
          "min": "1527",
          "nan_count": 0,
          "unique_count": 5
         }
        },
        {
         "dtype": "int64",
         "name": "United Kingdom of Great Britain and Northern Ireland",
         "stats": {
          "histogram": [
           {
            "bin_end": 11493.1,
            "bin_start": 10015,
            "count": 2
           },
           {
            "bin_end": 12971.2,
            "bin_start": 11493.1,
            "count": 0
           },
           {
            "bin_end": 14449.3,
            "bin_start": 12971.2,
            "count": 0
           },
           {
            "bin_end": 15927.4,
            "bin_start": 14449.3,
            "count": 0
           },
           {
            "bin_end": 17405.5,
            "bin_start": 15927.4,
            "count": 0
           },
           {
            "bin_end": 18883.6,
            "bin_start": 17405.5,
            "count": 0
           },
           {
            "bin_end": 20361.699999999997,
            "bin_start": 18883.6,
            "count": 0
           },
           {
            "bin_end": 21839.8,
            "bin_start": 20361.699999999997,
            "count": 1
           },
           {
            "bin_end": 23317.9,
            "bin_start": 21839.8,
            "count": 1
           },
           {
            "bin_end": 24796,
            "bin_start": 23317.9,
            "count": 1
           }
          ],
          "max": "24796",
          "min": "10015",
          "nan_count": 0,
          "unique_count": 5
         }
        },
        {
         "dtype": "int64",
         "name": "Philippines",
         "stats": {
          "histogram": [
           {
            "bin_end": 4026,
            "bin_start": 3801,
            "count": 1
           },
           {
            "bin_end": 4251,
            "bin_start": 4026,
            "count": 0
           },
           {
            "bin_end": 4476,
            "bin_start": 4251,
            "count": 0
           },
           {
            "bin_end": 4701,
            "bin_start": 4476,
            "count": 1
           },
           {
            "bin_end": 4926,
            "bin_start": 4701,
            "count": 0
           },
           {
            "bin_end": 5151,
            "bin_start": 4926,
            "count": 0
           },
           {
            "bin_end": 5376,
            "bin_start": 5151,
            "count": 1
           },
           {
            "bin_end": 5601,
            "bin_start": 5376,
            "count": 0
           },
           {
            "bin_end": 5826,
            "bin_start": 5601,
            "count": 0
           },
           {
            "bin_end": 6051,
            "bin_start": 5826,
            "count": 2
           }
          ],
          "max": "6051",
          "min": "3801",
          "nan_count": 0,
          "unique_count": 5
         }
        },
        {
         "dtype": "int64",
         "name": "Pakistan",
         "stats": {
          "histogram": [
           {
            "bin_end": 721.3,
            "bin_start": 668,
            "count": 1
           },
           {
            "bin_end": 774.6,
            "bin_start": 721.3,
            "count": 0
           },
           {
            "bin_end": 827.9,
            "bin_start": 774.6,
            "count": 0
           },
           {
            "bin_end": 881.2,
            "bin_start": 827.9,
            "count": 0
           },
           {
            "bin_end": 934.5,
            "bin_start": 881.2,
            "count": 1
           },
           {
            "bin_end": 987.8,
            "bin_start": 934.5,
            "count": 2
           },
           {
            "bin_end": 1041.1,
            "bin_start": 987.8,
            "count": 0
           },
           {
            "bin_end": 1094.4,
            "bin_start": 1041.1,
            "count": 0
           },
           {
            "bin_end": 1147.7,
            "bin_start": 1094.4,
            "count": 0
           },
           {
            "bin_end": 1201,
            "bin_start": 1147.7,
            "count": 1
           }
          ],
          "max": "1201",
          "min": "668",
          "nan_count": 0,
          "unique_count": 5
         }
        },
        {
         "dtype": "int64",
         "name": "United States of America",
         "stats": {
          "histogram": [
           {
            "bin_end": 6997.9,
            "bin_start": 6661,
            "count": 1
           },
           {
            "bin_end": 7334.8,
            "bin_start": 6997.9,
            "count": 1
           },
           {
            "bin_end": 7671.7,
            "bin_start": 7334.8,
            "count": 0
           },
           {
            "bin_end": 8008.6,
            "bin_start": 7671.7,
            "count": 0
           },
           {
            "bin_end": 8345.5,
            "bin_start": 8008.6,
            "count": 0
           },
           {
            "bin_end": 8682.4,
            "bin_start": 8345.5,
            "count": 0
           },
           {
            "bin_end": 9019.3,
            "bin_start": 8682.4,
            "count": 0
           },
           {
            "bin_end": 9356.2,
            "bin_start": 9019.3,
            "count": 1
           },
           {
            "bin_end": 9693.1,
            "bin_start": 9356.2,
            "count": 1
           },
           {
            "bin_end": 10030,
            "bin_start": 9693.1,
            "count": 1
           }
          ],
          "max": "10030",
          "min": "6661",
          "nan_count": 0,
          "unique_count": 5
         }
        },
        {
         "dtype": "int64",
         "name": "Iran (Islamic Republic of)",
         "stats": {
          "histogram": [
           {
            "bin_end": 1252.5,
            "bin_start": 1172,
            "count": 1
           },
           {
            "bin_end": 1333,
            "bin_start": 1252.5,
            "count": 0
           },
           {
            "bin_end": 1413.5,
            "bin_start": 1333,
            "count": 0
           },
           {
            "bin_end": 1494,
            "bin_start": 1413.5,
            "count": 1
           },
           {
            "bin_end": 1574.5,
            "bin_start": 1494,
            "count": 0
           },
           {
            "bin_end": 1655,
            "bin_start": 1574.5,
            "count": 1
           },
           {
            "bin_end": 1735.5,
            "bin_start": 1655,
            "count": 0
           },
           {
            "bin_end": 1816,
            "bin_start": 1735.5,
            "count": 0
           },
           {
            "bin_end": 1896.5,
            "bin_start": 1816,
            "count": 1
           },
           {
            "bin_end": 1977,
            "bin_start": 1896.5,
            "count": 1
           }
          ],
          "max": "1977",
          "min": "1172",
          "nan_count": 0,
          "unique_count": 5
         }
        },
        {
         "dtype": "int64",
         "name": "Sri Lanka",
         "stats": {
          "histogram": [
           {
            "bin_end": 275.1,
            "bin_start": 185,
            "count": 2
           },
           {
            "bin_end": 365.2,
            "bin_start": 275.1,
            "count": 1
           },
           {
            "bin_end": 455.29999999999995,
            "bin_start": 365.2,
            "count": 1
           },
           {
            "bin_end": 545.4,
            "bin_start": 455.29999999999995,
            "count": 0
           },
           {
            "bin_end": 635.5,
            "bin_start": 545.4,
            "count": 0
           },
           {
            "bin_end": 725.5999999999999,
            "bin_start": 635.5,
            "count": 0
           },
           {
            "bin_end": 815.6999999999999,
            "bin_start": 725.5999999999999,
            "count": 0
           },
           {
            "bin_end": 905.8,
            "bin_start": 815.6999999999999,
            "count": 0
           },
           {
            "bin_end": 995.9,
            "bin_start": 905.8,
            "count": 0
           },
           {
            "bin_end": 1086,
            "bin_start": 995.9,
            "count": 1
           }
          ],
          "max": "1086",
          "min": "185",
          "nan_count": 0,
          "unique_count": 5
         }
        },
        {
         "dtype": "int64",
         "name": "Republic of Korea",
         "stats": {
          "histogram": [
           {
            "bin_end": 919.5,
            "bin_start": 847,
            "count": 1
           },
           {
            "bin_end": 992,
            "bin_start": 919.5,
            "count": 0
           },
           {
            "bin_end": 1064.5,
            "bin_start": 992,
            "count": 1
           },
           {
            "bin_end": 1137,
            "bin_start": 1064.5,
            "count": 1
           },
           {
            "bin_end": 1209.5,
            "bin_start": 1137,
            "count": 0
           },
           {
            "bin_end": 1282,
            "bin_start": 1209.5,
            "count": 0
           },
           {
            "bin_end": 1354.5,
            "bin_start": 1282,
            "count": 0
           },
           {
            "bin_end": 1427,
            "bin_start": 1354.5,
            "count": 0
           },
           {
            "bin_end": 1499.5,
            "bin_start": 1427,
            "count": 1
           },
           {
            "bin_end": 1572,
            "bin_start": 1499.5,
            "count": 1
           }
          ],
          "max": "1572",
          "min": "847",
          "nan_count": 0,
          "unique_count": 5
         }
        },
        {
         "dtype": "int64",
         "name": "Poland",
         "stats": {
          "histogram": [
           {
            "bin_end": 1364.8,
            "bin_start": 863,
            "count": 1
           },
           {
            "bin_end": 1866.6,
            "bin_start": 1364.8,
            "count": 0
           },
           {
            "bin_end": 2368.4,
            "bin_start": 1866.6,
            "count": 0
           },
           {
            "bin_end": 2870.2,
            "bin_start": 2368.4,
            "count": 0
           },
           {
            "bin_end": 3372,
            "bin_start": 2870.2,
            "count": 1
           },
           {
            "bin_end": 3873.8,
            "bin_start": 3372,
            "count": 1
           },
           {
            "bin_end": 4375.6,
            "bin_start": 3873.8,
            "count": 0
           },
           {
            "bin_end": 4877.4,
            "bin_start": 4375.6,
            "count": 1
           },
           {
            "bin_end": 5379.2,
            "bin_start": 4877.4,
            "count": 0
           },
           {
            "bin_end": 5881,
            "bin_start": 5379.2,
            "count": 1
           }
          ],
          "max": "5881",
          "min": "863",
          "nan_count": 0,
          "unique_count": 5
         }
        },
        {
         "dtype": "object",
         "name": "_deepnote_index_column"
        }
       ],
       "row_count": 5,
       "rows": [
        {
         "China": 5123,
         "India": 8880,
         "Iran (Islamic Republic of)": 1172,
         "Pakistan": 978,
         "Philippines": 6051,
         "Poland": 863,
         "Republic of Korea": 1011,
         "Sri Lanka": 185,
         "United Kingdom of Great Britain and Northern Ireland": 22045,
         "United States of America": 9378,
         "_deepnote_index_column": "1980"
        },
        {
         "China": 6682,
         "India": 8670,
         "Iran (Islamic Republic of)": 1429,
         "Pakistan": 972,
         "Philippines": 5921,
         "Poland": 2930,
         "Republic of Korea": 1456,
         "Sri Lanka": 371,
         "United Kingdom of Great Britain and Northern Ireland": 24796,
         "United States of America": 10030,
         "_deepnote_index_column": "1981"
        },
        {
         "China": 3308,
         "India": 8147,
         "Iran (Islamic Republic of)": 1822,
         "Pakistan": 1201,
         "Philippines": 5249,
         "Poland": 5881,
         "Republic of Korea": 1572,
         "Sri Lanka": 290,
         "United Kingdom of Great Britain and Northern Ireland": 20620,
         "United States of America": 9074,
         "_deepnote_index_column": "1982"
        },
        {
         "China": 1863,
         "India": 7338,
         "Iran (Islamic Republic of)": 1592,
         "Pakistan": 900,
         "Philippines": 4562,
         "Poland": 4546,
         "Republic of Korea": 1081,
         "Sri Lanka": 197,
         "United Kingdom of Great Britain and Northern Ireland": 10015,
         "United States of America": 7100,
         "_deepnote_index_column": "1983"
        },
        {
         "China": 1527,
         "India": 5704,
         "Iran (Islamic Republic of)": 1977,
         "Pakistan": 668,
         "Philippines": 3801,
         "Poland": 3588,
         "Republic of Korea": 847,
         "Sri Lanka": 1086,
         "United Kingdom of Great Britain and Northern Ireland": 10170,
         "United States of America": 6661,
         "_deepnote_index_column": "1984"
        }
       ]
      },
      "text/html": [
       "<div>\n",
       "<style scoped>\n",
       "    .dataframe tbody tr th:only-of-type {\n",
       "        vertical-align: middle;\n",
       "    }\n",
       "\n",
       "    .dataframe tbody tr th {\n",
       "        vertical-align: top;\n",
       "    }\n",
       "\n",
       "    .dataframe thead th {\n",
       "        text-align: right;\n",
       "    }\n",
       "</style>\n",
       "<table border=\"1\" class=\"dataframe\">\n",
       "  <thead>\n",
       "    <tr style=\"text-align: right;\">\n",
       "      <th>Country</th>\n",
       "      <th>India</th>\n",
       "      <th>China</th>\n",
       "      <th>United Kingdom of Great Britain and Northern Ireland</th>\n",
       "      <th>Philippines</th>\n",
       "      <th>Pakistan</th>\n",
       "      <th>United States of America</th>\n",
       "      <th>Iran (Islamic Republic of)</th>\n",
       "      <th>Sri Lanka</th>\n",
       "      <th>Republic of Korea</th>\n",
       "      <th>Poland</th>\n",
       "    </tr>\n",
       "  </thead>\n",
       "  <tbody>\n",
       "    <tr>\n",
       "      <th>1980</th>\n",
       "      <td>8880</td>\n",
       "      <td>5123</td>\n",
       "      <td>22045</td>\n",
       "      <td>6051</td>\n",
       "      <td>978</td>\n",
       "      <td>9378</td>\n",
       "      <td>1172</td>\n",
       "      <td>185</td>\n",
       "      <td>1011</td>\n",
       "      <td>863</td>\n",
       "    </tr>\n",
       "    <tr>\n",
       "      <th>1981</th>\n",
       "      <td>8670</td>\n",
       "      <td>6682</td>\n",
       "      <td>24796</td>\n",
       "      <td>5921</td>\n",
       "      <td>972</td>\n",
       "      <td>10030</td>\n",
       "      <td>1429</td>\n",
       "      <td>371</td>\n",
       "      <td>1456</td>\n",
       "      <td>2930</td>\n",
       "    </tr>\n",
       "    <tr>\n",
       "      <th>1982</th>\n",
       "      <td>8147</td>\n",
       "      <td>3308</td>\n",
       "      <td>20620</td>\n",
       "      <td>5249</td>\n",
       "      <td>1201</td>\n",
       "      <td>9074</td>\n",
       "      <td>1822</td>\n",
       "      <td>290</td>\n",
       "      <td>1572</td>\n",
       "      <td>5881</td>\n",
       "    </tr>\n",
       "    <tr>\n",
       "      <th>1983</th>\n",
       "      <td>7338</td>\n",
       "      <td>1863</td>\n",
       "      <td>10015</td>\n",
       "      <td>4562</td>\n",
       "      <td>900</td>\n",
       "      <td>7100</td>\n",
       "      <td>1592</td>\n",
       "      <td>197</td>\n",
       "      <td>1081</td>\n",
       "      <td>4546</td>\n",
       "    </tr>\n",
       "    <tr>\n",
       "      <th>1984</th>\n",
       "      <td>5704</td>\n",
       "      <td>1527</td>\n",
       "      <td>10170</td>\n",
       "      <td>3801</td>\n",
       "      <td>668</td>\n",
       "      <td>6661</td>\n",
       "      <td>1977</td>\n",
       "      <td>1086</td>\n",
       "      <td>847</td>\n",
       "      <td>3588</td>\n",
       "    </tr>\n",
       "  </tbody>\n",
       "</table>\n",
       "</div>"
      ],
      "text/plain": [
       "Country  India  China  United Kingdom of Great Britain and Northern Ireland  \\\n",
       "1980      8880   5123                                              22045      \n",
       "1981      8670   6682                                              24796      \n",
       "1982      8147   3308                                              20620      \n",
       "1983      7338   1863                                              10015      \n",
       "1984      5704   1527                                              10170      \n",
       "\n",
       "Country  Philippines  Pakistan  United States of America  \\\n",
       "1980            6051       978                      9378   \n",
       "1981            5921       972                     10030   \n",
       "1982            5249      1201                      9074   \n",
       "1983            4562       900                      7100   \n",
       "1984            3801       668                      6661   \n",
       "\n",
       "Country  Iran (Islamic Republic of)  Sri Lanka  Republic of Korea  Poland  \n",
       "1980                           1172        185               1011     863  \n",
       "1981                           1429        371               1456    2930  \n",
       "1982                           1822        290               1572    5881  \n",
       "1983                           1592        197               1081    4546  \n",
       "1984                           1977       1086                847    3588  "
      ]
     },
     "execution_count": 8,
     "metadata": {},
     "output_type": "execute_result"
    }
   ],
   "source": [
    "df_top10 = df.sort_values(['Total'], ascending=False, axis=0).head(10)\n",
    "df_top10 = df_top10[daftar_tahun].transpose()\n",
    "df_top10.head()"
   ]
  },
  {
   "cell_type": "code",
   "execution_count": null,
   "metadata": {
    "cell_id": "a0ea4a814e5e4aabbeceaa7f61707612",
    "deepnote_cell_height": 530.375,
    "deepnote_cell_type": "code",
    "deepnote_output_heights": [
     325.390625
    ],
    "deepnote_to_be_reexecuted": false,
    "execution_millis": 497,
    "execution_start": 1650597128461,
    "source_hash": "62b82a9e",
    "tags": []
   },
   "outputs": [
    {
     "data": {
      "image/png": "[encoded data removed]",
      "text/plain": [
       "<Figure size 1080x504 with 1 Axes>"
      ]
     },
     "metadata": {
      "image/png": {
       "height": 441,
       "width": 910
      },
      "needs_background": "light"
     },
     "output_type": "display_data"
    }
   ],
   "source": [
    "df_top10.plot(kind='area', figsize=(15, 7), colormap='Paired')\n",
    "\n",
    "plt.title(\"Top 10 Negara dengan angka imigrasi tertinggi ke Kanada\")\n",
    "plt.ylabel(\"Jumlah Imigran\")\n",
    "plt.xlabel(\"Tahun\")\n",
    "\n",
    "plt.show()"
   ]
  },
  {
   "cell_type": "markdown",
   "metadata": {
    "cell_id": "61d679ed6b5741da97aa9012e62cf0c8",
    "deepnote_cell_height": 556.90625,
    "deepnote_cell_type": "markdown",
    "tags": []
   },
   "source": [
    "**--> Penjelasan**\n",
    "\n",
    "Pada studi kasus ini, akan ditampilkan sebuah Area Plot untuk 10 negara yang memiliki angka imigrasi tertinggi ke Kanada. Visualisasi Area Plot yang digunakan ialah Stacked Area Plot, sehingga garis diplot satu per satu dan plot terakhir berfungsi sebagai garis dasar. Dengan kata lain, plot yang divisualisasikan ialah akumulasi imigran 10 negara teratas.\n",
    "\n",
    "Data untuk visualisasi didapatkan melalui preprocessing lanjutan berupa mengurutkan total imigrasi setiap negara dari yang tertinggi, kemudian mengambil 10 baris data teratas. Data yang didapatkan kemudian divisualisasikan ke dalam bentuk Area Plot seperti pada gambar di atas.\n",
    "\n",
    "Pada dasarnya Area Plot memberikan informasi selayaknya Line Plot, yaitu bagaimana suatu nilai numerik berubah seiring berjalannya waktu (dipengaruhi waktu / time series). Pada kasus ini, hal yang dimaksud ialah perubahan jumlah atau tren imigran suatu negara ke Kanada dari waktu ke waktu. Pada visualisasi diatas, dapat diamati bahwa:\n",
    "\n",
    "1. India merupakan negara dengan total penduduk yang melakukan imigrasi ke Kanada paling banyak dan cenderung terus meningkat. \n",
    "2. Pada sepuluh negara tersebut, total imigrasi ke Kanada semua negara cenderung meningkat dari 1980 hingga 2013.\n",
    "3. Pada sepuluh negara tersebut, total imigrasi ke Kanada semua negara pada tahun 1985 hingga 1993 terus meningkat secara signifikan.\n",
    "4. Pada sepuluh negara tersebut, terjadi puncak total imigrasi ke Kanada hingga mencapai 140.000 penduduk pada tahun 2005 dan 2010."
   ]
  },
  {
   "cell_type": "markdown",
   "metadata": {
    "cell_id": "5e3f022457654b7a8c8de061d885ebf0",
    "deepnote_cell_height": 82,
    "deepnote_cell_type": "markdown",
    "tags": []
   },
   "source": [
    "# 2. Histogram"
   ]
  },
  {
   "cell_type": "markdown",
   "metadata": {
    "cell_id": "10fc005002fa4195a94652483152fd63",
    "deepnote_cell_height": 110,
    "deepnote_cell_type": "markdown",
    "tags": []
   },
   "source": [
    "## a. Jumlah persebaran semua negara imigran tahun 2013"
   ]
  },
  {
   "cell_type": "code",
   "execution_count": null,
   "metadata": {
    "cell_id": "33eb6484db8543d0913c94f9a505585f",
    "deepnote_cell_height": 573.28125,
    "deepnote_cell_type": "code",
    "deepnote_output_heights": [
     332.28125
    ],
    "deepnote_to_be_reexecuted": false,
    "execution_millis": 286,
    "execution_start": 1650597128975,
    "source_hash": "3c27c73b",
    "tags": []
   },
   "outputs": [
    {
     "data": {
      "image/png": "[encoded data removed]",
      "text/plain": [
       "<Figure size 1080x504 with 1 Axes>"
      ]
     },
     "metadata": {
      "image/png": {
       "height": 441,
       "width": 891
      },
      "needs_background": "light"
     },
     "output_type": "display_data"
    }
   ],
   "source": [
    "count_2013, bin_edges_2013 = np.histogram(df[2013])\n",
    "df[2013].plot(kind='hist', figsize=(15, 7), colormap='Accent', xticks=bin_edges_2013, edgecolor='k')\n",
    "\n",
    "plt.title(\"Jumlah persebaran semua negara imigran tahun 2013\")\n",
    "plt.ylabel(\"Jumlah Negara\")\n",
    "plt.xlabel(\"Jumlah Imigran\")\n",
    "plt.grid(True, axis='both')\n",
    "\n",
    "plt.show()"
   ]
  },
  {
   "cell_type": "markdown",
   "metadata": {
    "cell_id": "25e2747b73164f0b8d15620e6b500756",
    "deepnote_cell_height": 629.5,
    "deepnote_cell_type": "markdown",
    "tags": []
   },
   "source": [
    "**--> Penjelasan**\n",
    "\n",
    "Pada studi kasus ini, akan ditampilkan sebuah Histogram untuk menunjukkan jumlah persebaran semua negara imigran pada tahun 2013. Data untuk visualisasi didapatkan melalui preprocessing lanjutan berupa pengambilan kolom tahun 2013. Data yang didapatkan kemudian divisualisasikan ke dalam bentuk Histogram seperti pada gambar di atas. Namun, terjadi masalah pada xticks atau label pada sumbu X. Label tersebut tidak sesuai dengan data yang ditampilkan sehingga informasi sulit untuk didapatkan. Oleh sebab itu, binning dari data akan dihitung terlebih dahulu menggunakan bantuan library numpy dan hasilnya diplotkan ke dalam sumbu X agar label sesuai dengan Histogram yang ditampilkan dengan tujuan memudahkan keterbacaan.\n",
    "\n",
    "Histogram merupakan visualisasi yang dapat memberikan informasi mengenai persebaran data. Informasi tersebut didapatkan dengan mengelompokkan data ke dalam beberapa kelompok atau bin kemudian menghitung frekuensinya. Pada kasus ini, data imigrasi setiap negara ke Kanada pada tahun 2013 akan divisualisasikan dalam bentuk Histogram. Pada visualisasi diatas, dapat diamati bahwa:\n",
    "\n",
    "1. Diketahui bahwa persebaran data tidak normal. Distribusi histogram di atas miring ke kanan (skewed right) dengan sangat ekstrim.\n",
    "2. Pada tahun 2013, lebih dari 175 negara melakukan imigrasi ke Kanada sejumlah kurang dari 3,413 penduduk.\n",
    "3. Pada tahun 2013, beberapa negara melakukan imigrasi ke Kanada dalam jumlah sangat besar berkisar antara 27,303 hingga 34,129 penduduk. Jumlah negara tersebut terbilang sangat sedikit dan jauh dari kelompok yang lain (dalam graph), sehinggga disinyalir merupakan outlier atau dimungkinkan merupakan kasus yang tidak biasa. Beberapa faktor yang mungkin memengaruhi kasus tersebut ialah faktor luas wilayah suatu negara beserta kepadatan penduduknya dan faktor kemudahan transportasi."
   ]
  },
  {
   "cell_type": "markdown",
   "metadata": {
    "cell_id": "8cb9bc1b237e4655b98c2cb4b0223213",
    "deepnote_cell_height": 110,
    "deepnote_cell_type": "markdown",
    "tags": []
   },
   "source": [
    "## b. Jumlah persebaran semua negara imigran tahun 1980"
   ]
  },
  {
   "cell_type": "code",
   "execution_count": null,
   "metadata": {
    "cell_id": "2b76381c136c40628c33b013ab919759",
    "deepnote_cell_height": 573.28125,
    "deepnote_cell_type": "code",
    "deepnote_output_heights": [
     332.28125
    ],
    "deepnote_to_be_reexecuted": false,
    "execution_millis": 238,
    "execution_start": 1650597129295,
    "source_hash": "2c180637",
    "tags": []
   },
   "outputs": [
    {
     "data": {
      "image/png": "[encoded data removed]",
      "text/plain": [
       "<Figure size 1080x504 with 1 Axes>"
      ]
     },
     "metadata": {
      "image/png": {
       "height": 441,
       "width": 891
      },
      "needs_background": "light"
     },
     "output_type": "display_data"
    }
   ],
   "source": [
    "count_1980, bin_edges_1980 = np.histogram(df[1980])\n",
    "df[1980].plot(kind='hist', figsize=(15, 7), colormap='Accent', xticks=bin_edges_1980, edgecolor='k')\n",
    "\n",
    "plt.title(\"Jumlah persebaran semua negara imigran tahun 1980\")\n",
    "plt.ylabel(\"Jumlah Negara\")\n",
    "plt.xlabel(\"Jumlah Imigran\")\n",
    "plt.grid(True, axis='both')\n",
    "\n",
    "plt.show()"
   ]
  },
  {
   "cell_type": "markdown",
   "metadata": {
    "cell_id": "6a864ad28a644ae8a21b44f1a1a78bf6",
    "deepnote_cell_height": 629.5,
    "deepnote_cell_type": "markdown",
    "tags": []
   },
   "source": [
    "**--> Penjelasan**\n",
    "\n",
    "Pada studi kasus ini, akan ditampilkan sebuah Histogram untuk menunjukkan jumlah persebaran semua negara imigran pada tahun 1980. Data untuk visualisasi didapatkan melalui preprocessing lanjutan berupa pengambilan kolom tahun 1980. Data yang didapatkan kemudian divisualisasikan ke dalam bentuk Histogram seperti pada gambar di atas. Namun, terjadi masalah pada xticks atau label pada sumbu X. Label tersebut tidak sesuai dengan data yang ditampilkan sehingga informasi sulit untuk didapatkan. Oleh sebab itu, binning dari data akan dihitung terlebih dahulu menggunakan bantuan library numpy dan hasilnya diplotkan ke dalam sumbu X agar label sesuai dengan Histogram yang ditampilkan dengan tujuan memudahkan keterbacaan.\n",
    "\n",
    "Histogram merupakan visualisasi yang dapat memberikan informasi mengenai persebaran data. Informasi tersebut didapatkan dengan mengelompokkan data ke dalam beberapa kelompok atau bin kemudian menghitung frekuensinya. Pada kasus ini, data imigrasi setiap negara ke Kanada pada tahun 1980 akan divisualisasikan dalam bentuk Histogram. Pada visualisasi diatas, dapat diamati bahwa:\n",
    "\n",
    "1. Diketahui bahwa persebaran data tidak normal. Distribusi histogram di atas miring ke kanan (skewed right) dengan sangat ekstrim.\n",
    "2. Pada tahun 1980, lebih dari 175 negara melakukan imigrasi ke Kanada sejumlah kurang dari 2,204 penduduk.\n",
    "3. Pada tahun 1980, beberapa negara melakukan imigrasi ke Kanada dalam jumlah sangat besar berkisar antara 19,840 hingga 22,045 penduduk. Jumlah negara tersebut terbilang sangat sedikit dan jauh dari kelompok yang lain (dalam graph), sehinggga disinyalir merupakan outlier atau dimungkinkan merupakan kasus yang tidak biasa. Beberapa faktor yang mungkin memengaruhi kasus tersebut ialah faktor luas wilayah suatu negara beserta kepadatan penduduknya dan faktor kemudahan mendapatkan transportasi pada tahun tersebut."
   ]
  },
  {
   "cell_type": "markdown",
   "metadata": {
    "cell_id": "f471626dee3f43a4b3766e3031ea374c",
    "deepnote_cell_height": 110,
    "deepnote_cell_type": "markdown",
    "tags": []
   },
   "source": [
    "## c. Perbandingan imigran tahun 1980 dan 2013"
   ]
  },
  {
   "cell_type": "code",
   "execution_count": null,
   "metadata": {
    "cell_id": "24df47ed660342b2a1f1d3fafb99ff23",
    "deepnote_cell_height": 591.28125,
    "deepnote_cell_type": "code",
    "deepnote_output_heights": [
     332.28125
    ],
    "deepnote_to_be_reexecuted": false,
    "execution_millis": 338,
    "execution_start": 1650597129554,
    "source_hash": "d8eb7a6f",
    "tags": []
   },
   "outputs": [
    {
     "data": {
      "image/png": "[encoded data removed]",
      "text/plain": [
       "<Figure size 1080x504 with 1 Axes>"
      ]
     },
     "metadata": {
      "image/png": {
       "height": 441,
       "width": 891
      },
      "needs_background": "light"
     },
     "output_type": "display_data"
    }
   ],
   "source": [
    "count_all, bin_edge_all = np.histogram(df[[1980,2013]])\n",
    "df[[1980,2013]].plot(kind='hist', figsize=(15, 7), colormap='summer', xticks=bin_edge_all, edgecolor='k', alpha=.4)\n",
    "\n",
    "plt.title(\"Perbandingan jumlah persebaran semua negara imigran tahun 1980 dan 2013\")\n",
    "plt.ylabel(\"Jumlah Negara\")\n",
    "plt.xlabel(\"Jumlah Imigran\")\n",
    "plt.grid(True, axis='both')\n",
    "plt.legend(loc='best')\n",
    "\n",
    "plt.show()"
   ]
  },
  {
   "cell_type": "markdown",
   "metadata": {
    "cell_id": "57c53e92436a470ba5e72199558c2d3c",
    "deepnote_cell_height": 789.265625,
    "deepnote_cell_type": "markdown",
    "tags": []
   },
   "source": [
    "**--> Penjelasan**\n",
    "\n",
    "Pada studi kasus ini, akan ditampilkan sebuah Histogram untuk menunjukkan perbandingan jumlah persebaran semua negara imigran pada tahun 1980 dan 2013. Data untuk visualisasi didapatkan melalui preprocessing lanjutan berupa pengambilan kolom tahun 1980 dan 2013. Data yang didapatkan kemudian divisualisasikan ke dalam bentuk Histogram seperti pada gambar di atas. Namun, terjadi masalah pada xticks atau label pada sumbu X. Label tersebut tidak sesuai dengan data yang ditampilkan sehingga informasi sulit untuk didapatkan. Oleh sebab itu, binning dari kedua data akan dihitung terlebih dahulu menggunakan bantuan library numpy dan hasilnya diplotkan ke dalam sumbu X agar label sesuai dengan Histogram yang ditampilkan dengan tujuan memudahkan keterbacaan. Selain itu, transparansi kedua plot diatur menjadi 40% saja untuk mengatasi jika ada plot yang bertumpuk.\n",
    "\n",
    "Histogram merupakan visualisasi yang dapat memberikan informasi mengenai persebaran data. Informasi tersebut didapatkan dengan mengelompokkan data ke dalam beberapa kelompok atau bin kemudian menghitung frekuensinya. Pada kasus ini, data imigrasi setiap negara ke Kanada pada tahun 1980 dan 2013 akan divisualisasikan dalam bentuk Histogram untuk melihat perbandingannya. Pada visualisasi diatas, dapat diamati bahwa:\n",
    "\n",
    "1. Diketahui bahwa persebaran data kedua tahun tidak normal. Distribusi histogram di atas keduanya miring ke kanan (skewed right) dengan sangat ekstrim.\n",
    "2. Lebih dari 175 negara melakukan imigrasi ke Kanada sejumlah kurang dari 3,413 penduduk pada tahun 1980 dan 2013. Negara imigran pada tahun 1980 sedikit lebih banyak dibanding tahun 2013.\n",
    "3. Pada tahun 1980, sejumlah kecil negara melakukan imigrasi ke Kanada dalam jumlah besar berkisar antara 20,477 hingga 23,890 penduduk. Kemudian, terjadi peningkatan pada tahun 2013 dengan jumlah imigran mencapai 27,303 hingga 24,129 penduduk. Salah satu faktor yang mungkin memengaruhi kasus tersebut ialah kemajuan teknologi transportasi sehingga pada tahun 2013 terjadi peningkatan akibat kemudahan mendapatkan transportasi.\n",
    "4. Jumlah negara pada poin nomor 3 terbilang sangat sedikit dan jauh dari kelompok data yang lain (dalam graph), baik pada tahun 1980 maupun 2013. Oleh sebab itu, data tersebut disinyalir merupakan outlier atau dimungkinkan merupakan kasus yang tidak biasa. Beberapa faktor yang mungkin memengaruhi kasus tersebut ialah faktor luas wilayah suatu negara beserta kepadatan penduduknya dan faktor kemudahan mendapatkan transportasi pada tahun tersebut."
   ]
  },
  {
   "cell_type": "markdown",
   "metadata": {
    "cell_id": "4ee14f1dfbbd4c07a7a7112f1c7ffb86",
    "deepnote_cell_height": 82,
    "deepnote_cell_type": "markdown",
    "tags": []
   },
   "source": [
    "# 3. Bar Charts"
   ]
  },
  {
   "cell_type": "markdown",
   "metadata": {
    "cell_id": "2cb856d44cf845ad811ddf6d88b0e1a7",
    "deepnote_cell_height": 110,
    "deepnote_cell_type": "markdown",
    "tags": []
   },
   "source": [
    "## a. Jumlah imigran Islandia ke Kanada dari tahun 1980 - 2013"
   ]
  },
  {
   "cell_type": "code",
   "execution_count": null,
   "metadata": {
    "cell_id": "47092dd140ec481d80a4c262b3fc8a3c",
    "deepnote_cell_height": 622.875,
    "deepnote_cell_type": "code",
    "deepnote_output_heights": [
     291.890625
    ],
    "deepnote_to_be_reexecuted": false,
    "execution_millis": 479,
    "execution_start": 1650597129914,
    "source_hash": "6382a961",
    "tags": []
   },
   "outputs": [
    {
     "data": {
      "image/png": "[encoded data removed]",
      "text/plain": [
       "<Figure size 1296x504 with 1 Axes>"
      ]
     },
     "metadata": {
      "image/png": {
       "height": 457,
       "width": 1052
      },
      "needs_background": "light"
     },
     "output_type": "display_data"
    }
   ],
   "source": [
    "bar = df.loc['Iceland', daftar_tahun].plot(kind='bar', figsize=(18, 7), colormap='Accent')\n",
    "\n",
    "# memberikan highlight\n",
    "highlight = np.arange(2011,2014) % 1980\n",
    "[bar.get_children()[i].set_color('green') for i in highlight]\n",
    "non_highlight = np.setdiff1d(daftar_tahun, np.arange(2011,2014)) % 1980\n",
    "[bar.get_children()[i].set_alpha(0.85) for i in non_highlight]\n",
    "\n",
    "plt.title(\"Jumlah imigran Islandia ke Kanada dari tahun 1980 - 2013\")\n",
    "plt.ylabel(\"Jumlah Imigran\")\n",
    "plt.xlabel(\"Tahun\")\n",
    "plt.grid(True, axis='y')\n",
    "\n",
    "plt.show()"
   ]
  },
  {
   "cell_type": "markdown",
   "metadata": {
    "cell_id": "3d5da11bd915499ba7507c83a37b5e56",
    "deepnote_cell_height": 517.515625,
    "deepnote_cell_type": "markdown",
    "tags": []
   },
   "source": [
    "**--> Penjelasan**\n",
    "\n",
    "Pada studi kasus ini, akan ditampilkan sebuah Bar Plot untuk menunjukkan jumlah penduduk Islandia yang melakukan imigrasi ke Kanada sejak tahun 1980 hingga 2013. Data untuk visualisasi didapatkan melalui preprocessing lanjutan berupa pengambilan index negara Islandia dan kolom tahun 1980 hingga 2013. Kemudian, data yang akan diberikan highlight pada visualisasi akan diberikan warna yang lebih terang, sedangkan data yang bukan highlight akan di-set atau diatur transparansinya menjadi 85%. Hal tersebut dimaksudkan untuk memberikan perhatian khusus pada visualisasi yang diberikan.\n",
    "\n",
    "Bar Plot merupakan visualisasi yang digunakan untuk membandingkan dua atau lebih nilai atau membandingkan perubahan nilai tersebut dari waktu ke waktu. Pada kasus ini, Bar Plot ditujukan untuk memvisualisasikan perbandingan jumlah imigrasi penduduk Islandia ke Kanada dari waktu ke waktu. Pada visualisasi di atas, dapat diamat bahwa:\n",
    "\n",
    "1. Di Islandia, pada 3 tahun terakhir (2011 - 2013) terjadi peningkatan jumlah imigrasi penduduk dan mencetak angka tertinggi dibandingkan tahun-tahun sebelumnya.\n",
    "2. Di Islandia, sebelum 3 tahun terakhir (1980 - 2010), angka imigrasi cenderung fluktuatif atau berubah-ubah.\n",
    "3. Angka imigrasi penduduk Islandia ke Kanada dapat dikatakan sangat rendah. Hal ini dapat diperhatikan pada skala sumbu Y, dimana angka maksimum label hanya mencapai 70 penduduk saja."
   ]
  },
  {
   "cell_type": "markdown",
   "metadata": {
    "cell_id": "fa175e83299f48c48816b0b6a32a5682",
    "deepnote_cell_height": 110,
    "deepnote_cell_type": "markdown",
    "tags": []
   },
   "source": [
    "## b. Jumlah imigran China ke Kanada dari tahun 1980 - 2013"
   ]
  },
  {
   "cell_type": "code",
   "execution_count": null,
   "metadata": {
    "cell_id": "a54d1a3c93c645b8917f2a285b056ce9",
    "deepnote_cell_height": 617.75,
    "deepnote_cell_type": "code",
    "deepnote_output_heights": [
     286.75
    ],
    "deepnote_to_be_reexecuted": false,
    "execution_millis": 432,
    "execution_start": 1650597130400,
    "source_hash": "5adb46d1",
    "tags": []
   },
   "outputs": [
    {
     "data": {
      "image/png": "[encoded data removed]",
      "text/plain": [
       "<Figure size 1296x504 with 1 Axes>"
      ]
     },
     "metadata": {
      "image/png": {
       "height": 457,
       "width": 1071
      },
      "needs_background": "light"
     },
     "output_type": "display_data"
    }
   ],
   "source": [
    "bar = df.loc['China', daftar_tahun].plot(kind='bar', figsize=(18, 7), colormap='Accent')\n",
    "\n",
    "# memberikan highlight\n",
    "highlight = np.arange(1984,2006) % 1980\n",
    "[bar.get_children()[i].set_color('green') for i in highlight]\n",
    "non_highlight = np.setdiff1d(daftar_tahun, np.arange(1984,2006)) % 1980\n",
    "[bar.get_children()[i].set_alpha(0.85) for i in non_highlight]\n",
    "\n",
    "plt.title(\"Jumlah imigran China ke Kanada dari tahun 1980 - 2013\")\n",
    "plt.ylabel(\"Jumlah Imigran\")\n",
    "plt.xlabel(\"Tahun\")\n",
    "plt.grid(True, axis='y')\n",
    "\n",
    "plt.show()"
   ]
  },
  {
   "cell_type": "markdown",
   "metadata": {
    "cell_id": "b9283dc093c74298871b35de9e7b3113",
    "deepnote_cell_height": 517.515625,
    "deepnote_cell_type": "markdown",
    "tags": []
   },
   "source": [
    "**--> Penjelasan**\n",
    "\n",
    "Pada studi kasus ini, akan ditampilkan sebuah Bar Plot untuk menunjukkan jumlah penduduk China yang melakukan imigrasi ke Kanada sejak tahun 1980 hingga 2013. Data untuk visualisasi didapatkan melalui preprocessing lanjutan berupa pengambilan index negara China dan kolom tahun 1980 hingga 2013. Kemudian, data yang akan diberikan highlight pada visualisasi akan diberikan warna yang lebih terang, sedangkan data yang bukan highlight akan di-set atau diatur transparansinya menjadi 85%. Hal tersebut dimaksudkan untuk memberikan perhatian khusus pada visualisasi yang diberikan.\n",
    "\n",
    "Bar Plot merupakan visualisasi yang digunakan untuk membandingkan dua atau lebih nilai atau membandingkan perubahan nilai tersebut dari waktu ke waktu. Pada kasus ini, Bar Plot ditujukan untuk memvisualisasikan perbandingan jumlah imigrasi penduduk China ke Kanada dari waktu ke waktu. Pada visualisasi di atas, dapat diamat bahwa:\n",
    "\n",
    "1. Pada tahun 1984 - 2005, angka imigrasi penduduk China ke Kanada cenderung terus meningkat.\n",
    "2. Setelah tahun 2005, angka imigrasi penduduk China ke Kanada cenderung stabil sekitar 30,000 penduduk.\n",
    "3. Angka imigrasi penduduk Islandia ke Kanada dapat dikatakan sangat tinggi. Hal ini dapat diperhatikan pada skala sumbu Y, dimana angka maksimum label mencapai 40,000 penduduk. Salah satu faktor yang mungkin memengaruhi kasus tersebut ialah karena China merupakan salah satu negara yang terkenal padat penduduk."
   ]
  },
  {
   "cell_type": "markdown",
   "metadata": {
    "cell_id": "1fd75319d40c400fa9d1d786d3dc9424",
    "deepnote_cell_height": 150,
    "deepnote_cell_type": "markdown",
    "tags": []
   },
   "source": [
    "## c. Perbandingan perwakilan Eropa (Islandia) dan perwakilan Asia (China) ke Kanada dari tahun 1980 - 2013"
   ]
  },
  {
   "cell_type": "code",
   "execution_count": null,
   "metadata": {
    "cell_id": "b3fa7331f3794736866b139c1ecb2815",
    "deepnote_cell_height": 1008.75,
    "deepnote_cell_type": "code",
    "deepnote_output_heights": [
     317.75
    ],
    "deepnote_to_be_reexecuted": false,
    "execution_millis": 1505,
    "execution_start": 1650597130839,
    "output_cleared": false,
    "source_hash": "c8b2ff40",
    "tags": []
   },
   "outputs": [
    {
     "data": {
      "image/png": "[encoded data removed]",
      "text/plain": [
       "<Figure size 1224x576 with 3 Axes>"
      ]
     },
     "metadata": {
      "image/png": {
       "height": 582,
       "width": 1230
      },
      "needs_background": "light"
     },
     "output_type": "display_data"
    }
   ],
   "source": [
    "fig = plt.figure(figsize=(30,20))\n",
    "gs = fig.add_gridspec(2,2)\n",
    "\n",
    "# plot 1\n",
    "ax1 = fig.add_subplot(gs[0, :])\n",
    "X_axis = np.arange(len(daftar_tahun))\n",
    "ax1.bar(X_axis - 0.2, df.loc['Iceland', daftar_tahun], 0.4, label = 'Islandia', color='orange')\n",
    "ax1.bar(X_axis + 0.2, df.loc['China', daftar_tahun], 0.4, label = 'China', color='green')\n",
    "ax1.set_xticks(X_axis, daftar_tahun, rotation=90)\n",
    "ax1.set_title(\"Perbandingan jumlah imigran Islandia dan China ke Kanada dari tahun 1980 - 2013\")\n",
    "ax1.set_ylabel(\"Jumlah Imigran\")\n",
    "ax1.set_xlabel(\"Tahun\")\n",
    "ax1.legend()\n",
    "ax1.grid(True, axis='y')\n",
    "\n",
    "# plot 2\n",
    "ax2 = fig.add_subplot(gs[1, 0])\n",
    "ax2 = df.loc['Iceland', daftar_tahun].plot(kind='bar', figsize=(17, 8), color='orange')\n",
    "ax2.set_title(\"Jumlah imigran Islandia ke Kanada dari tahun 1980 - 2013\")\n",
    "ax2.set_ylabel(\"Jumlah Imigran\")\n",
    "ax2.set_xlabel(\"Tahun\")\n",
    "ax2.grid(True, axis='y')\n",
    "\n",
    "# plot 3\n",
    "ax3 = fig.add_subplot(gs[1, 1])\n",
    "ax3 = df.loc['China', daftar_tahun].plot(kind='bar', figsize=(17, 8), color='green')\n",
    "ax3.set_title(\"Jumlah imigran China ke Kanada dari tahun 1980 - 2013\")\n",
    "# ax3.set_ylabel(\"Jumlah Imigran\")\n",
    "ax3.set_xlabel(\"Tahun\")\n",
    "ax3.grid(True, axis='y')\n",
    "\n",
    "\n",
    "plt.tight_layout(pad=0.4)\n",
    "plt.show()"
   ]
  },
  {
   "cell_type": "markdown",
   "metadata": {
    "cell_id": "fa09e87073fd4068972d6124d63d084c",
    "deepnote_cell_height": 435.9375,
    "deepnote_cell_type": "markdown",
    "tags": []
   },
   "source": [
    "**--> Penjelasan**\n",
    "\n",
    "Pada studi kasus ini, akan ditampilkan Bar Plot untuk menunjukkan perbandingan jumlah penduduk Islandia dan China yang melakukan imigrasi ke Kanada sejak tahun 1980 hingga 2013. Data untuk visualisasi didapatkan melalui preprocessing lanjutan berupa pengambilan index negara Islandia dan China serta kolom tahun 1980 hingga 2013. \n",
    "\n",
    "Bar Plot yang divisualisasikan terdiri dari 3 graph. Graph pertama merupakan Grouped Bar Plot yang menunjukkan perbandingan imigran Islandia dan China. Sedangkan graph kedua dan ketiga masing masing menunjukkan Bar Plot untuk imigran tiap negara.\n",
    "\n",
    "Pada visualisasi di atas, dapat diamati bahwa:\n",
    "\n",
    "1. Jumlah imigrasi penduduk Islandia dan China ke Kanada tidak dapat dibandingkan. Hal ini disebabkan karena adanya perbedaan jumlah imigran yang sangat jauh antara kedua negara. Di Islandia, label sumbu Y jumlah penduduk hanya mencapai 70 penduduk. Sedangkan di China, label sumbu Y jumlah penduduk mencapai 40,000 penduduk. Oleh sebab itu, perbedaan yang sangat besar tersebut mengakibatkan visualisasi seolah-olah tidak menampilkan bar plot untuk negara Islandia."
   ]
  },
  {
   "cell_type": "markdown",
   "metadata": {
    "cell_id": "988c584a9ab848d992582695a5779ad6",
    "deepnote_cell_height": 102,
    "deepnote_cell_type": "markdown",
    "tags": []
   },
   "source": [
    "#### Perbandingan perwakilan Eropa (Inggris) dan perwakilan Asia (China) ke Kanada dari tahun 1980 - 2013 [sebagai komparasi plot Eropa-Islandia & Asia-China]"
   ]
  },
  {
   "cell_type": "code",
   "execution_count": null,
   "metadata": {
    "cell_id": "7cbc5149078f4b3d8f5cf951e787082c",
    "deepnote_cell_height": 990.75,
    "deepnote_cell_type": "code",
    "deepnote_output_heights": [
     317.75
    ],
    "deepnote_to_be_reexecuted": false,
    "execution_millis": 1353,
    "execution_start": 1650597132365,
    "source_hash": "b8ee087c",
    "tags": []
   },
   "outputs": [
    {
     "data": {
      "image/png": "[encoded data removed]",
      "text/plain": [
       "<Figure size 1224x576 with 3 Axes>"
      ]
     },
     "metadata": {
      "image/png": {
       "height": 582,
       "width": 1230
      },
      "needs_background": "light"
     },
     "output_type": "display_data"
    }
   ],
   "source": [
    "fig = plt.figure(figsize=(30,20))\n",
    "gs = fig.add_gridspec(2,2)\n",
    "\n",
    "# plot 1\n",
    "ax1 = fig.add_subplot(gs[0, :])\n",
    "ax1.bar(X_axis - 0.2, df.loc['United Kingdom of Great Britain and Northern Ireland', daftar_tahun], 0.4, label = 'Inggris', color='orange')\n",
    "ax1.bar(X_axis + 0.2, df.loc['China', daftar_tahun], 0.4, label = 'China', color='green')\n",
    "ax1.set_xticks(X_axis, daftar_tahun, rotation=90)\n",
    "ax1.set_title(\"Perbandingan jumlah imigran Inggris dan China ke Kanada dari tahun 1980 - 2013\")\n",
    "ax1.set_ylabel(\"Jumlah Imigran\")\n",
    "ax1.set_xlabel(\"Tahun\")\n",
    "ax1.legend()\n",
    "ax1.grid(True, axis='y')\n",
    "\n",
    "# plot 2\n",
    "ax2 = fig.add_subplot(gs[1, 0])\n",
    "ax2 = df.loc['United Kingdom of Great Britain and Northern Ireland', daftar_tahun].plot(kind='bar', figsize=(17, 8), color='orange')\n",
    "ax2.set_title(\"Jumlah imigran Inggris ke Kanada dari tahun 1980 - 2013\")\n",
    "ax2.set_ylabel(\"Jumlah Imigran\")\n",
    "ax2.set_xlabel(\"Tahun\")\n",
    "ax2.grid(True, axis='y')\n",
    "\n",
    "# plot 3\n",
    "ax3 = fig.add_subplot(gs[1, 1])\n",
    "ax3 = df.loc['China', daftar_tahun].plot(kind='bar', figsize=(17, 8), color='green')\n",
    "ax3.set_title(\"Jumlah imigran China ke Kanada dari tahun 1980 - 2013\")\n",
    "# ax3.set_ylabel(\"Jumlah Imigran\")\n",
    "ax3.set_xlabel(\"Tahun\")\n",
    "ax3.grid(True, axis='y')\n",
    "\n",
    "\n",
    "plt.tight_layout(pad=0.4)\n",
    "plt.show()"
   ]
  },
  {
   "cell_type": "markdown",
   "metadata": {
    "cell_id": "6f2405b4a74c40c297e8f1087717bc23",
    "deepnote_cell_height": 461.328125,
    "deepnote_cell_type": "markdown",
    "tags": []
   },
   "source": [
    "**--> Penjelasan**\n",
    "\n",
    "Pada studi kasus ini, akan ditampilkan Bar Plot untuk menunjukkan perbandingan jumlah penduduk Inggris dan China yang melakukan imigrasi ke Kanada sejak tahun 1980 hingga 2013. Visualisasi ini dimaksudkan sebagai komparasi dengan studi kasus sebelumnya, yaitu perbandingan jumlah penduduk Islandia dan China yang melakukan imigrasi ke Kanada sejak tahun 1980 hingga 2013. Data untuk visualisasi didapatkan melalui preprocessing lanjutan berupa pengambilan index negara Inggris dan China serta kolom tahun 1980 hingga 2013. \n",
    "\n",
    "Bar Plot yang divisualisasikan terdiri dari 3 graph. Graph pertama merupakan Grouped Bar Plot yang menunjukkan perbandingan imigran Inggis dan China. Sedangkan graph kedua dan ketiga masing masing menunjukkan Bar Plot untuk imigran tiap negara.\n",
    "\n",
    "Pada visualisasi di atas, dapat diamati bahwa:\n",
    "\n",
    "1. Jumlah imigrasi penduduk Inggris dan China ke Kanada dapat dibandingkan. Hal ini disebabkan karena adanya perbedaan jumlah imigran yang sedikit antara kedua negara. Label sumbu Y jumlah penduduk pada kedua negara sama-sama pada angka 40,000 penduduk.\n",
    "2. Di Inggris, angka imigrasi cenderung mengalami penurunan seiring berjalannya waktu. Sebaliknya, angka imigrasi di China cenderung mengalami peningkatan seiring berjalannya waktu. "
   ]
  },
  {
   "cell_type": "markdown",
   "metadata": {
    "cell_id": "fb24ea50aa6543a18127ddfd2e91f9d6",
    "deepnote_cell_height": 82,
    "deepnote_cell_type": "markdown",
    "tags": []
   },
   "source": [
    "# 4. Pie Charts"
   ]
  },
  {
   "cell_type": "markdown",
   "metadata": {
    "cell_id": "23ac39e9d1a849639174af723d88a788",
    "deepnote_cell_height": 70,
    "deepnote_cell_type": "markdown",
    "tags": []
   },
   "source": [
    "## a. Imigran berdasarkan benua"
   ]
  },
  {
   "cell_type": "code",
   "execution_count": null,
   "metadata": {
    "cell_id": "9943b3534e1443c2bb50d14038c8354e",
    "deepnote_cell_height": 747.96875,
    "deepnote_cell_type": "code",
    "deepnote_output_heights": [
     524.984375
    ],
    "deepnote_to_be_reexecuted": false,
    "execution_millis": 524,
    "execution_start": 1650597133805,
    "source_hash": "bd52c24e",
    "tags": []
   },
   "outputs": [
    {
     "data": {
      "image/png": "[encoded data removed]",
      "text/plain": [
       "<Figure size 720x720 with 1 Axes>"
      ]
     },
     "metadata": {
      "image/png": {
       "height": 558,
       "width": 712
      }
     },
     "output_type": "display_data"
    }
   ],
   "source": [
    "df.groupby('Continent', axis=0).sum()['Total'].plot(kind='pie', autopct=\"%.2f%%\", figsize=(10, 10),\n",
    "        colormap='Paired', legend=True, labeldistance=None, textprops={'fontsize': 13})\n",
    "\n",
    "plt.title(\"Jumlah imigran ke Kanada berdasarkan benua (1980 - 2013)\", y=.925)\n",
    "plt.ylabel('')\n",
    "plt.legend(bbox_to_anchor=(1.1, 0.5), loc='center')\n",
    "\n",
    "plt.show()"
   ]
  },
  {
   "cell_type": "markdown",
   "metadata": {
    "cell_id": "69267c6d597f44949843a7453bc741fd",
    "deepnote_cell_height": 424.9375,
    "deepnote_cell_type": "markdown",
    "tags": []
   },
   "source": [
    "**--> Penjelasan**\n",
    "\n",
    "Pada studi kasus ini, akan ditampilkan sebuah Pie Chart untuk menunjukkan jumlah imigran ke Kanada pada tahun 1980 - 2013 dikelompokkan berdasarkan benua. Data untuk visualisasi didapatkan melalui preprocessing lanjutan berupa mengelompokkan data berdasarkan kolom Benua dan hasilnya dijumlahkan. Data yang didapatkan kemudian hanya diambil kolom Total saja dan dilanjutkan dengan proses visualisasi.\n",
    "\n",
    "Pie Chart merupakan visualisasi yang digunakan untuk menunjukkan proporsi atau suatu bagian terhadap keseluruhan. Pada kasus ini, hal yang dimaksud ialah proporsi imigrasi penduduk setiap benua ke Kanada. Pada visualisasi di atas, dapat diamati bahwa:\n",
    "\n",
    "1. Imigran di Kanada sebagian besar berasal dari Benua Asia. Hal ini dibuktikan dengan besar proporsi Benua Asia yang mencapai 51,77%.\n",
    "2. Imigran di Kanada paling sedikit berasal dari Benua Oseania. Hal ini dibuktikan dengan besar proporsi Benua Oseania yang tidak mencapai 1% atau tepatnya 0,86%. Salah satu faktor yang mungkin memengaruhi kasus ini ialah jumlah populasi di benua ini, mengingat benua ini memiliki luas daratan terkecil."
   ]
  },
  {
   "cell_type": "markdown",
   "metadata": {
    "cell_id": "c073f0f1ec704530b6ff614e67c1d91b",
    "deepnote_cell_height": 110,
    "deepnote_cell_type": "markdown",
    "tags": []
   },
   "source": [
    "## b. Imigran berdasarkan Developing Country atau Developed Country"
   ]
  },
  {
   "cell_type": "code",
   "execution_count": null,
   "metadata": {
    "cell_id": "c7bdcdc4878349a69a9124f90037d2d1",
    "deepnote_cell_height": 783,
    "deepnote_cell_type": "code",
    "deepnote_output_heights": [
     560
    ],
    "deepnote_to_be_reexecuted": false,
    "execution_millis": 243,
    "execution_start": 1650597134092,
    "owner_user_id": "198c11f7-2a65-4b2c-81b5-ae5c35c8fac3",
    "source_hash": "5717fd22",
    "tags": []
   },
   "outputs": [
    {
     "data": {
      "image/png": "[encoded data removed]",
      "text/plain": [
       "<Figure size 720x720 with 1 Axes>"
      ]
     },
     "metadata": {
      "image/png": {
       "height": 558,
       "width": 651
      }
     },
     "output_type": "display_data"
    }
   ],
   "source": [
    "df.groupby('DevName', axis=0).sum()['Total'].plot(kind='pie', autopct=\"%.2f%%\", figsize=(10, 10), \n",
    "        colormap='Paired', legend=True, labeldistance=None, textprops={'fontsize': 13})\n",
    "\n",
    "plt.title(\"Jumlah imigran ke Kanada berdasarkan negara berkembang dan maju (1980 - 2013)\", y=.925)\n",
    "plt.ylabel('')\n",
    "plt.legend(bbox_to_anchor=(1.05, 0.5), loc='center')\n",
    "\n",
    "plt.show()"
   ]
  },
  {
   "cell_type": "markdown",
   "metadata": {
    "cell_id": "82330035dc244bd5b0dceb447210867d",
    "deepnote_cell_height": 469.71875,
    "deepnote_cell_type": "markdown",
    "tags": []
   },
   "source": [
    "**--> Penjelasan**\n",
    "\n",
    "Pada studi kasus ini, akan ditampilkan sebuah Pie Chart untuk menunjukkan jumlah imigran ke Kanada pada tahun 1980 - 2013 dikelompokkan berdasarkan kesejahteraan negara (diukur berdasarkan negara maju atau berkembang). Data untuk visualisasi didapatkan melalui preprocessing lanjutan berupa mengelompokkan data berdasarkan kolom DevName dan hasilnya dijumlahkan. Data yang didapatkan kemudian hanya diambil kolom Total saja dan dilanjutkan dengan proses visualisasi.\n",
    "\n",
    "Pie Chart merupakan visualisasi yang digunakan untuk menunjukkan proporsi atau suatu bagian terhadap keseluruhan. Pada kasus ini, hal yang dimaksud ialah proporsi imigrasi penduduk setiap negara maju atau berkembang ke Kanada. Pada visualisasi di atas, dapat diamati bahwa:\n",
    "\n",
    "1. Imigran di Kanada sebagian besar berasal dari Negara Berkembang. Hal ini dibuktikan dengan besar proporsi Negara Berkembang yang mencapai 73,26%. Salah satu faktor yang mungkin memengaruhi kasus ini ialah karena Kanada tergolong Negara Maju. Faktanya, negara-negara maju di Benua Eropa dan Amerika Serikat sering menjadi tujuan imigrasi sebab negara tersebut menjanjikan kebebasan dan peluang untuk berkembang.\n",
    "2. Imigran di Kanada paling sedikit berasal dari Negara Maju. Hal ini dibuktikan dengan besar proporsi Negara Maju yang hanya mencapai 26,74%."
   ]
  },
  {
   "cell_type": "markdown",
   "metadata": {
    "cell_id": "eeb60d9502774b2f963ab4eb309286a3",
    "deepnote_cell_height": 82,
    "deepnote_cell_type": "markdown",
    "tags": []
   },
   "source": [
    "# 5. Box Plots"
   ]
  },
  {
   "cell_type": "markdown",
   "metadata": {
    "cell_id": "a0e24d60f9494bcd864d71ae8e622ca9",
    "deepnote_cell_height": 110,
    "deepnote_cell_type": "markdown",
    "tags": []
   },
   "source": [
    "## a. Distribusi imigran Jepang ke Kanada tahun 1980 - 2013"
   ]
  },
  {
   "cell_type": "code",
   "execution_count": null,
   "metadata": {
    "cell_id": "b79dd34542e348699ece2ef9989de3a3",
    "deepnote_cell_height": 616,
    "deepnote_cell_type": "code",
    "deepnote_output_heights": [
     429
    ],
    "deepnote_to_be_reexecuted": false,
    "execution_millis": 206,
    "execution_start": 1650597134309,
    "source_hash": "afe8398f",
    "tags": []
   },
   "outputs": [
    {
     "data": {
      "image/png": "[encoded data removed]",
      "text/plain": [
       "<Figure size 504x504 with 1 Axes>"
      ]
     },
     "metadata": {
      "image/png": {
       "height": 427,
       "width": 451
      },
      "needs_background": "light"
     },
     "output_type": "display_data"
    }
   ],
   "source": [
    "df.loc[['Japan'], daftar_tahun].transpose().plot(kind='box', figsize=(7, 7))\n",
    "\n",
    "plt.title(\"Distribusi imigran Jepang ke Kanada tahun 1980 - 2013\")\n",
    "plt.ylabel(\"Jumlah Imigran\")\n",
    "\n",
    "plt.show()"
   ]
  },
  {
   "cell_type": "markdown",
   "metadata": {
    "cell_id": "864ee5910d4c44e889eb08a3862f7c04",
    "deepnote_cell_height": 495.125,
    "deepnote_cell_type": "markdown",
    "tags": []
   },
   "source": [
    "**--> Penjelasan**\n",
    "\n",
    "Pada studi kasus ini, akan ditampilkan sebuah Box Plot untuk menunjukkan distribusi imigrasi penduduk Jepang ke Kanada pada tahun 1980 - 2013. Data untuk visualisasi didapatkan melalui preprocessing lanjutan berupa mengambil index Negara Jepang dan dan kolom tahun 1980 hingga 2013. Kemudian dilanjutkan dengan proses visualisasi.\n",
    "\n",
    "Box Plot merupakan visualisasi yang digunakan untuk menunjukkan distribusi suatu data berdasarkan five-number summary yang terdiri dari minimum, kuartil pertama (Q1), median, kuartil ketiga (Q3), dan maksimum. Selain itu, Box Plot juga dapat menginformasikan mengenai ada tidaknya outlier atau data pencilan. Pada visualisasi di atas, dapat diamati bahwa:\n",
    "\n",
    "1. Distribusi data migrasi penduduk Jepang ke Kanada miring ke kiri (skewed left). Hal ini dibuktikan dengan bagian terpanjang dari box (Q1 ke median) berada di bawah median. Dengan demikian, dapat dikatakan bahwa data tidak simetris.\n",
    "2. Pada distribusi di atas, bagian Q1 ke median lebih panjang dari yang lain, ini menunjukkan bahwa rentang nilai data di bagian tersebut lebih luas atau data tersebar. Sedangkan pada bagian median ke Q3 lebih pendek, ini menunjukkan bahwa rentang nilai data di bagian tersebut lebih sempit atau data lebih padat.\n",
    "3. Tidak ada data outlier atau pencilan pada persebaran imigrasi penduduk Jepang ke Kanada. Hal ini dibuktikan dengan tidak adanya poin individu yang berada diluar batas whiskers."
   ]
  },
  {
   "cell_type": "markdown",
   "metadata": {
    "cell_id": "bba4a0d30307484d9b92267efa116f45",
    "deepnote_cell_height": 110,
    "deepnote_cell_type": "markdown",
    "tags": []
   },
   "source": [
    "## b. Distribusi imigran India ke Kanada tahun 1980 - 2013"
   ]
  },
  {
   "cell_type": "code",
   "execution_count": null,
   "metadata": {
    "cell_id": "23341aacc24648eb8be4347e569a6dfa",
    "deepnote_cell_height": 616,
    "deepnote_cell_type": "code",
    "deepnote_output_heights": [
     429
    ],
    "deepnote_to_be_reexecuted": false,
    "execution_millis": 205,
    "execution_start": 1650597134522,
    "source_hash": "a51cb064",
    "tags": []
   },
   "outputs": [
    {
     "data": {
      "image/png": "[encoded data removed]",
      "text/plain": [
       "<Figure size 504x504 with 1 Axes>"
      ]
     },
     "metadata": {
      "image/png": {
       "height": 427,
       "width": 457
      },
      "needs_background": "light"
     },
     "output_type": "display_data"
    }
   ],
   "source": [
    "df.loc[['India'], daftar_tahun].transpose().plot(kind='box', figsize=(7, 7))\n",
    "\n",
    "plt.title(\"Distribusi imigran India ke Kanada tahun 1980 - 2013\")\n",
    "plt.ylabel(\"Jumlah Imigran\")\n",
    "\n",
    "plt.show()"
   ]
  },
  {
   "cell_type": "markdown",
   "metadata": {
    "cell_id": "1a1b5bed4bf24d459779e26d18e50d2d",
    "deepnote_cell_height": 402.53125,
    "deepnote_cell_type": "markdown",
    "tags": []
   },
   "source": [
    "**--> Penjelasan**\n",
    "\n",
    "Pada studi kasus ini, akan ditampilkan sebuah Box Plot untuk menunjukkan distribusi imigrasi penduduk India ke Kanada pada tahun 1980 - 2013. Data untuk visualisasi didapatkan melalui preprocessing lanjutan berupa mengambil index Negara India dan dan kolom tahun 1980 hingga 2013. Kemudian dilanjutkan dengan proses visualisasi.\n",
    "\n",
    "Box Plot merupakan visualisasi yang digunakan untuk menunjukkan distribusi suatu data berdasarkan five-number summary yang terdiri dari minimum, kuartil pertama (Q1), median, kuartil ketiga (Q3), dan maksimum. Selain itu, Box Plot juga dapat menginformasikan mengenai ada tidaknya outlier atau data pencilan. Pada visualisasi di atas, dapat diamati bahwa:\n",
    "\n",
    "1. Distribusi data migrasi penduduk India ke Kanada sedikit miring ke kiri (skewed left). Hal ini dibuktikan dengan bagian terpanjang dari box (Q1 ke median) berada di bawah median. Dengan demikian, dapat dikatakan bahwa data nyaris simetris.\n",
    "2. Tidak ada data outlier atau pencilan pada persebaran imigrasi penduduk India ke Kanada. Hal ini dibuktikan dengan tidak adanya poin individu yang berada diluar batas whiskers."
   ]
  },
  {
   "cell_type": "markdown",
   "metadata": {
    "cell_id": "94d3c4df918b476ea0df3aedc2ab8f0c",
    "deepnote_cell_height": 82,
    "deepnote_cell_type": "markdown",
    "tags": []
   },
   "source": [
    "# 6. Scatter Plots"
   ]
  },
  {
   "cell_type": "markdown",
   "metadata": {
    "cell_id": "0f34ccec8e2a4a04b050d7af0ed426cc",
    "deepnote_cell_height": 110,
    "deepnote_cell_type": "markdown",
    "tags": []
   },
   "source": [
    "## a. Total tahunan jumlah imigran dari 1980 - 2013"
   ]
  },
  {
   "cell_type": "code",
   "execution_count": null,
   "metadata": {
    "cell_id": "e1ce0fad76074399998b25c29c9858b1",
    "deepnote_cell_height": 672,
    "deepnote_cell_type": "code",
    "deepnote_to_be_reexecuted": false,
    "execution_millis": 5,
    "execution_start": 1650597134749,
    "source_hash": "289c93a1",
    "tags": []
   },
   "outputs": [
    {
     "data": {
      "application/vnd.deepnote.dataframe.v3+json": {
       "column_count": 2,
       "columns": [
        {
         "dtype": "int64",
         "name": "year",
         "stats": {
          "histogram": [
           {
            "bin_end": 1983.3,
            "bin_start": 1980,
            "count": 4
           },
           {
            "bin_end": 1986.6,
            "bin_start": 1983.3,
            "count": 3
           },
           {
            "bin_end": 1989.9,
            "bin_start": 1986.6,
            "count": 3
           },
           {
            "bin_end": 1993.2,
            "bin_start": 1989.9,
            "count": 4
           },
           {
            "bin_end": 1996.5,
            "bin_start": 1993.2,
            "count": 3
           },
           {
            "bin_end": 1999.8,
            "bin_start": 1996.5,
            "count": 3
           },
           {
            "bin_end": 2003.1,
            "bin_start": 1999.8,
            "count": 4
           },
           {
            "bin_end": 2006.4,
            "bin_start": 2003.1,
            "count": 3
           },
           {
            "bin_end": 2009.7,
            "bin_start": 2006.4,
            "count": 3
           },
           {
            "bin_end": 2013,
            "bin_start": 2009.7,
            "count": 4
           }
          ],
          "max": "2013",
          "min": "1980",
          "nan_count": 0,
          "unique_count": 34
         }
        },
        {
         "dtype": "int64",
         "name": "total",
         "stats": {
          "histogram": [
           {
            "bin_end": 90675.8,
            "bin_start": 69978,
            "count": 4
           },
           {
            "bin_end": 111373.6,
            "bin_start": 90675.8,
            "count": 3
           },
           {
            "bin_end": 132071.4,
            "bin_start": 111373.6,
            "count": 0
           },
           {
            "bin_end": 152769.2,
            "bin_start": 132071.4,
            "count": 2
           },
           {
            "bin_end": 173467,
            "bin_start": 152769.2,
            "count": 2
           },
           {
            "bin_end": 194164.8,
            "bin_start": 173467,
            "count": 5
           },
           {
            "bin_end": 214862.6,
            "bin_start": 194164.8,
            "count": 2
           },
           {
            "bin_end": 235560.4,
            "bin_start": 214862.6,
            "count": 7
           },
           {
            "bin_end": 256258.19999999998,
            "bin_start": 235560.4,
            "count": 6
           },
           {
            "bin_end": 276956,
            "bin_start": 256258.19999999998,
            "count": 3
           }
          ],
          "max": "276956",
          "min": "69978",
          "nan_count": 0,
          "unique_count": 34
         }
        },
        {
         "dtype": "int64",
         "name": "_deepnote_index_column"
        }
       ],
       "row_count": 34,
       "rows": [
        {
         "_deepnote_index_column": 0,
         "total": 99137,
         "year": 1980
        },
        {
         "_deepnote_index_column": 1,
         "total": 110563,
         "year": 1981
        },
        {
         "_deepnote_index_column": 2,
         "total": 104271,
         "year": 1982
        },
        {
         "_deepnote_index_column": 3,
         "total": 75550,
         "year": 1983
        },
        {
         "_deepnote_index_column": 4,
         "total": 73417,
         "year": 1984
        },
        {
         "_deepnote_index_column": 5,
         "total": 69978,
         "year": 1985
        },
        {
         "_deepnote_index_column": 6,
         "total": 86048,
         "year": 1986
        },
        {
         "_deepnote_index_column": 7,
         "total": 134771,
         "year": 1987
        },
        {
         "_deepnote_index_column": 8,
         "total": 139306,
         "year": 1988
        },
        {
         "_deepnote_index_column": 9,
         "total": 164432,
         "year": 1989
        }
       ]
      },
      "text/html": [
       "<div>\n",
       "<style scoped>\n",
       "    .dataframe tbody tr th:only-of-type {\n",
       "        vertical-align: middle;\n",
       "    }\n",
       "\n",
       "    .dataframe tbody tr th {\n",
       "        vertical-align: top;\n",
       "    }\n",
       "\n",
       "    .dataframe thead th {\n",
       "        text-align: right;\n",
       "    }\n",
       "</style>\n",
       "<table border=\"1\" class=\"dataframe\">\n",
       "  <thead>\n",
       "    <tr style=\"text-align: right;\">\n",
       "      <th></th>\n",
       "      <th>year</th>\n",
       "      <th>total</th>\n",
       "    </tr>\n",
       "  </thead>\n",
       "  <tbody>\n",
       "    <tr>\n",
       "      <th>0</th>\n",
       "      <td>1980</td>\n",
       "      <td>99137</td>\n",
       "    </tr>\n",
       "    <tr>\n",
       "      <th>1</th>\n",
       "      <td>1981</td>\n",
       "      <td>110563</td>\n",
       "    </tr>\n",
       "    <tr>\n",
       "      <th>2</th>\n",
       "      <td>1982</td>\n",
       "      <td>104271</td>\n",
       "    </tr>\n",
       "    <tr>\n",
       "      <th>3</th>\n",
       "      <td>1983</td>\n",
       "      <td>75550</td>\n",
       "    </tr>\n",
       "    <tr>\n",
       "      <th>4</th>\n",
       "      <td>1984</td>\n",
       "      <td>73417</td>\n",
       "    </tr>\n",
       "    <tr>\n",
       "      <th>5</th>\n",
       "      <td>1985</td>\n",
       "      <td>69978</td>\n",
       "    </tr>\n",
       "    <tr>\n",
       "      <th>6</th>\n",
       "      <td>1986</td>\n",
       "      <td>86048</td>\n",
       "    </tr>\n",
       "    <tr>\n",
       "      <th>7</th>\n",
       "      <td>1987</td>\n",
       "      <td>134771</td>\n",
       "    </tr>\n",
       "    <tr>\n",
       "      <th>8</th>\n",
       "      <td>1988</td>\n",
       "      <td>139306</td>\n",
       "    </tr>\n",
       "    <tr>\n",
       "      <th>9</th>\n",
       "      <td>1989</td>\n",
       "      <td>164432</td>\n",
       "    </tr>\n",
       "    <tr>\n",
       "      <th>10</th>\n",
       "      <td>1990</td>\n",
       "      <td>188054</td>\n",
       "    </tr>\n",
       "    <tr>\n",
       "      <th>11</th>\n",
       "      <td>1991</td>\n",
       "      <td>207509</td>\n",
       "    </tr>\n",
       "    <tr>\n",
       "      <th>12</th>\n",
       "      <td>1992</td>\n",
       "      <td>221687</td>\n",
       "    </tr>\n",
       "    <tr>\n",
       "      <th>13</th>\n",
       "      <td>1993</td>\n",
       "      <td>222049</td>\n",
       "    </tr>\n",
       "    <tr>\n",
       "      <th>14</th>\n",
       "      <td>1994</td>\n",
       "      <td>193665</td>\n",
       "    </tr>\n",
       "    <tr>\n",
       "      <th>15</th>\n",
       "      <td>1995</td>\n",
       "      <td>187712</td>\n",
       "    </tr>\n",
       "    <tr>\n",
       "      <th>16</th>\n",
       "      <td>1996</td>\n",
       "      <td>200085</td>\n",
       "    </tr>\n",
       "    <tr>\n",
       "      <th>17</th>\n",
       "      <td>1997</td>\n",
       "      <td>192885</td>\n",
       "    </tr>\n",
       "    <tr>\n",
       "      <th>18</th>\n",
       "      <td>1998</td>\n",
       "      <td>160727</td>\n",
       "    </tr>\n",
       "    <tr>\n",
       "      <th>19</th>\n",
       "      <td>1999</td>\n",
       "      <td>179818</td>\n",
       "    </tr>\n",
       "    <tr>\n",
       "      <th>20</th>\n",
       "      <td>2000</td>\n",
       "      <td>216712</td>\n",
       "    </tr>\n",
       "    <tr>\n",
       "      <th>21</th>\n",
       "      <td>2001</td>\n",
       "      <td>242643</td>\n",
       "    </tr>\n",
       "    <tr>\n",
       "      <th>22</th>\n",
       "      <td>2002</td>\n",
       "      <td>223111</td>\n",
       "    </tr>\n",
       "    <tr>\n",
       "      <th>23</th>\n",
       "      <td>2003</td>\n",
       "      <td>217297</td>\n",
       "    </tr>\n",
       "    <tr>\n",
       "      <th>24</th>\n",
       "      <td>2004</td>\n",
       "      <td>232083</td>\n",
       "    </tr>\n",
       "    <tr>\n",
       "      <th>25</th>\n",
       "      <td>2005</td>\n",
       "      <td>257457</td>\n",
       "    </tr>\n",
       "    <tr>\n",
       "      <th>26</th>\n",
       "      <td>2006</td>\n",
       "      <td>247057</td>\n",
       "    </tr>\n",
       "    <tr>\n",
       "      <th>27</th>\n",
       "      <td>2007</td>\n",
       "      <td>232405</td>\n",
       "    </tr>\n",
       "    <tr>\n",
       "      <th>28</th>\n",
       "      <td>2008</td>\n",
       "      <td>243047</td>\n",
       "    </tr>\n",
       "    <tr>\n",
       "      <th>29</th>\n",
       "      <td>2009</td>\n",
       "      <td>248768</td>\n",
       "    </tr>\n",
       "    <tr>\n",
       "      <th>30</th>\n",
       "      <td>2010</td>\n",
       "      <td>276956</td>\n",
       "    </tr>\n",
       "    <tr>\n",
       "      <th>31</th>\n",
       "      <td>2011</td>\n",
       "      <td>246194</td>\n",
       "    </tr>\n",
       "    <tr>\n",
       "      <th>32</th>\n",
       "      <td>2012</td>\n",
       "      <td>256222</td>\n",
       "    </tr>\n",
       "    <tr>\n",
       "      <th>33</th>\n",
       "      <td>2013</td>\n",
       "      <td>257537</td>\n",
       "    </tr>\n",
       "  </tbody>\n",
       "</table>\n",
       "</div>"
      ],
      "text/plain": [
       "    year   total\n",
       "0   1980   99137\n",
       "1   1981  110563\n",
       "2   1982  104271\n",
       "3   1983   75550\n",
       "4   1984   73417\n",
       "5   1985   69978\n",
       "6   1986   86048\n",
       "7   1987  134771\n",
       "8   1988  139306\n",
       "9   1989  164432\n",
       "10  1990  188054\n",
       "11  1991  207509\n",
       "12  1992  221687\n",
       "13  1993  222049\n",
       "14  1994  193665\n",
       "15  1995  187712\n",
       "16  1996  200085\n",
       "17  1997  192885\n",
       "18  1998  160727\n",
       "19  1999  179818\n",
       "20  2000  216712\n",
       "21  2001  242643\n",
       "22  2002  223111\n",
       "23  2003  217297\n",
       "24  2004  232083\n",
       "25  2005  257457\n",
       "26  2006  247057\n",
       "27  2007  232405\n",
       "28  2008  243047\n",
       "29  2009  248768\n",
       "30  2010  276956\n",
       "31  2011  246194\n",
       "32  2012  256222\n",
       "33  2013  257537"
      ]
     },
     "execution_count": 21,
     "metadata": {},
     "output_type": "execute_result"
    }
   ],
   "source": [
    "df_year = df[daftar_tahun].transpose()\n",
    "df_year.index.name = 'year'\n",
    "df_year['total'] = df_year.sum(axis=1)\n",
    "df_total = df_year['total'].reset_index(level=0)\n",
    "df_total"
   ]
  },
  {
   "cell_type": "code",
   "execution_count": null,
   "metadata": {
    "cell_id": "c5a5f68e771a43c5a40f29f9b0ad08cb",
    "deepnote_cell_height": 729.59375,
    "deepnote_cell_type": "code",
    "deepnote_output_heights": [
     398.609375
    ],
    "deepnote_to_be_reexecuted": false,
    "execution_millis": 172,
    "execution_start": 1650597134771,
    "source_hash": "6745bf59",
    "tags": []
   },
   "outputs": [
    {
     "data": {
      "image/png": "[encoded data removed]",
      "text/plain": [
       "<Figure size 864x504 with 1 Axes>"
      ]
     },
     "metadata": {
      "image/png": {
       "height": 441,
       "width": 742
      },
      "needs_background": "light"
     },
     "output_type": "display_data"
    }
   ],
   "source": [
    "# plotting scatter\n",
    "df_total.plot(kind='scatter', figsize=(12, 7), x='year', y='total', color='green')\n",
    "\n",
    "# mendapatkan m (slope) and b(intercept) dari garis regresi linear\n",
    "m, b = np.polyfit(df_total['year'], df_total['total'], 1)\n",
    "\n",
    "# plotting warna\n",
    "plt.plot(df_total['year'], m*df_total['year']+b, color='orange')\n",
    "\n",
    "plt.title(\"Jumlah imigran tiap tahunnya (1980 - 2013)\")\n",
    "plt.ylabel(\"Jumlah Imigran\")\n",
    "plt.xlabel(\"Tahun\")\n",
    "\n",
    "plt.show()"
   ]
  },
  {
   "cell_type": "markdown",
   "metadata": {
    "cell_id": "1506b988e1b24f848c766b272440c078",
    "deepnote_cell_height": 402.53125,
    "deepnote_cell_type": "markdown",
    "tags": []
   },
   "source": [
    "**--> Penjelasan**\n",
    "\n",
    "Pada studi kasus ini, akan ditampilkan sebuah Scatter Plot untuk menunjukkan persebaran dari total tahunan imigrasi penduduk dari berbagai negara ke Kanada. Data untuk visualisasi didapatkan melalui preprocessing lanjutan berupa mengambil kolom tahun 1980 - 2013. Kolom tersebut kemudian dijumlahkan setiap tahunnya dan divisualisasikan. Tidak sampai disitu, hasil Scatter Plot kemudian ditambahkan dengan garis regresi yang mewakili setiap titik pada visualisasi. Garis ini dibutuhkan untuk memberikan highlight atau menyorot informasi yang dapat diambil dari visualisasi.\n",
    "\n",
    "Scatter Plot merupakan visualisasi yang digunakan untuk menunjukkan kekuatan, arah, dan bentuk hubungan dari dua variabel kuantitatif. Pada kasus ini, dua variabel tersebut ialah tahun dan total setiap tahun. Pada visualisasi di atas, dapat diamati bahwa:\n",
    "\n",
    "1. Total tahunan imigran tiap tahunnya cenderung naik.\n",
    "2. Tahun dan jumlah imigran memiliki berkorelasi positif, sehingga seiring berjalannya waktu (tahun) maka jumlah imigran juga akan semakin meningkat. Hal ini dibuktikan dengan garis regresi yang naik ke atas."
   ]
  },
  {
   "cell_type": "markdown",
   "metadata": {
    "cell_id": "e404feb632be44beb6e76e0d33ef6041",
    "deepnote_cell_height": 110,
    "deepnote_cell_type": "markdown",
    "tags": []
   },
   "source": [
    "## b. Rata-rata tahunan jumlah imigran dari 1980 - 2013"
   ]
  },
  {
   "cell_type": "code",
   "execution_count": null,
   "metadata": {
    "cell_id": "2a5d1733559244e4a446a9cdee33390e",
    "deepnote_cell_height": 636,
    "deepnote_cell_type": "code",
    "deepnote_to_be_reexecuted": false,
    "execution_millis": 2,
    "execution_start": 1650597134964,
    "source_hash": "8944078a",
    "tags": []
   },
   "outputs": [
    {
     "data": {
      "application/vnd.deepnote.dataframe.v3+json": {
       "column_count": 2,
       "columns": [
        {
         "dtype": "int64",
         "name": "year",
         "stats": {
          "histogram": [
           {
            "bin_end": 1983.3,
            "bin_start": 1980,
            "count": 4
           },
           {
            "bin_end": 1986.6,
            "bin_start": 1983.3,
            "count": 3
           },
           {
            "bin_end": 1989.9,
            "bin_start": 1986.6,
            "count": 3
           },
           {
            "bin_end": 1993.2,
            "bin_start": 1989.9,
            "count": 4
           },
           {
            "bin_end": 1996.5,
            "bin_start": 1993.2,
            "count": 3
           },
           {
            "bin_end": 1999.8,
            "bin_start": 1996.5,
            "count": 3
           },
           {
            "bin_end": 2003.1,
            "bin_start": 1999.8,
            "count": 4
           },
           {
            "bin_end": 2006.4,
            "bin_start": 2003.1,
            "count": 3
           },
           {
            "bin_end": 2009.7,
            "bin_start": 2006.4,
            "count": 3
           },
           {
            "bin_end": 2013,
            "bin_start": 2009.7,
            "count": 4
           }
          ],
          "max": "2013",
          "min": "1980",
          "nan_count": 0,
          "unique_count": 34
         }
        },
        {
         "dtype": "float64",
         "name": "rata-rata",
         "stats": {
          "histogram": [
           {
            "bin_end": 465.0041025641026,
            "bin_start": 358.8615384615385,
            "count": 4
           },
           {
            "bin_end": 571.1466666666666,
            "bin_start": 465.0041025641026,
            "count": 3
           },
           {
            "bin_end": 677.2892307692307,
            "bin_start": 571.1466666666666,
            "count": 0
           },
           {
            "bin_end": 783.4317948717949,
            "bin_start": 677.2892307692307,
            "count": 2
           },
           {
            "bin_end": 889.574358974359,
            "bin_start": 783.4317948717949,
            "count": 2
           },
           {
            "bin_end": 995.716923076923,
            "bin_start": 889.574358974359,
            "count": 5
           },
           {
            "bin_end": 1101.8594871794871,
            "bin_start": 995.716923076923,
            "count": 2
           },
           {
            "bin_end": 1208.0020512820513,
            "bin_start": 1101.8594871794871,
            "count": 7
           },
           {
            "bin_end": 1314.1446153846152,
            "bin_start": 1208.0020512820513,
            "count": 6
           },
           {
            "bin_end": 1420.2871794871794,
            "bin_start": 1314.1446153846152,
            "count": 3
           }
          ],
          "max": "1420.2871794871794",
          "min": "358.8615384615385",
          "nan_count": 0,
          "unique_count": 34
         }
        },
        {
         "dtype": "int64",
         "name": "_deepnote_index_column"
        }
       ],
       "row_count": 34,
       "rows": [
        {
         "_deepnote_index_column": 0,
         "rata-rata": 508.3948717948718,
         "year": 1980
        },
        {
         "_deepnote_index_column": 1,
         "rata-rata": 566.9897435897436,
         "year": 1981
        },
        {
         "_deepnote_index_column": 2,
         "rata-rata": 534.723076923077,
         "year": 1982
        },
        {
         "_deepnote_index_column": 3,
         "rata-rata": 387.43589743589746,
         "year": 1983
        },
        {
         "_deepnote_index_column": 4,
         "rata-rata": 376.4974358974359,
         "year": 1984
        },
        {
         "_deepnote_index_column": 5,
         "rata-rata": 358.8615384615385,
         "year": 1985
        },
        {
         "_deepnote_index_column": 6,
         "rata-rata": 441.2717948717949,
         "year": 1986
        },
        {
         "_deepnote_index_column": 7,
         "rata-rata": 691.1333333333333,
         "year": 1987
        },
        {
         "_deepnote_index_column": 8,
         "rata-rata": 714.3897435897436,
         "year": 1988
        },
        {
         "_deepnote_index_column": 9,
         "rata-rata": 843.2410256410257,
         "year": 1989
        }
       ]
      },
      "text/html": [
       "<div>\n",
       "<style scoped>\n",
       "    .dataframe tbody tr th:only-of-type {\n",
       "        vertical-align: middle;\n",
       "    }\n",
       "\n",
       "    .dataframe tbody tr th {\n",
       "        vertical-align: top;\n",
       "    }\n",
       "\n",
       "    .dataframe thead th {\n",
       "        text-align: right;\n",
       "    }\n",
       "</style>\n",
       "<table border=\"1\" class=\"dataframe\">\n",
       "  <thead>\n",
       "    <tr style=\"text-align: right;\">\n",
       "      <th></th>\n",
       "      <th>year</th>\n",
       "      <th>rata-rata</th>\n",
       "    </tr>\n",
       "  </thead>\n",
       "  <tbody>\n",
       "    <tr>\n",
       "      <th>0</th>\n",
       "      <td>1980</td>\n",
       "      <td>508.394872</td>\n",
       "    </tr>\n",
       "    <tr>\n",
       "      <th>1</th>\n",
       "      <td>1981</td>\n",
       "      <td>566.989744</td>\n",
       "    </tr>\n",
       "    <tr>\n",
       "      <th>2</th>\n",
       "      <td>1982</td>\n",
       "      <td>534.723077</td>\n",
       "    </tr>\n",
       "    <tr>\n",
       "      <th>3</th>\n",
       "      <td>1983</td>\n",
       "      <td>387.435897</td>\n",
       "    </tr>\n",
       "    <tr>\n",
       "      <th>4</th>\n",
       "      <td>1984</td>\n",
       "      <td>376.497436</td>\n",
       "    </tr>\n",
       "    <tr>\n",
       "      <th>5</th>\n",
       "      <td>1985</td>\n",
       "      <td>358.861538</td>\n",
       "    </tr>\n",
       "    <tr>\n",
       "      <th>6</th>\n",
       "      <td>1986</td>\n",
       "      <td>441.271795</td>\n",
       "    </tr>\n",
       "    <tr>\n",
       "      <th>7</th>\n",
       "      <td>1987</td>\n",
       "      <td>691.133333</td>\n",
       "    </tr>\n",
       "    <tr>\n",
       "      <th>8</th>\n",
       "      <td>1988</td>\n",
       "      <td>714.389744</td>\n",
       "    </tr>\n",
       "    <tr>\n",
       "      <th>9</th>\n",
       "      <td>1989</td>\n",
       "      <td>843.241026</td>\n",
       "    </tr>\n",
       "    <tr>\n",
       "      <th>10</th>\n",
       "      <td>1990</td>\n",
       "      <td>964.379487</td>\n",
       "    </tr>\n",
       "    <tr>\n",
       "      <th>11</th>\n",
       "      <td>1991</td>\n",
       "      <td>1064.148718</td>\n",
       "    </tr>\n",
       "    <tr>\n",
       "      <th>12</th>\n",
       "      <td>1992</td>\n",
       "      <td>1136.856410</td>\n",
       "    </tr>\n",
       "    <tr>\n",
       "      <th>13</th>\n",
       "      <td>1993</td>\n",
       "      <td>1138.712821</td>\n",
       "    </tr>\n",
       "    <tr>\n",
       "      <th>14</th>\n",
       "      <td>1994</td>\n",
       "      <td>993.153846</td>\n",
       "    </tr>\n",
       "    <tr>\n",
       "      <th>15</th>\n",
       "      <td>1995</td>\n",
       "      <td>962.625641</td>\n",
       "    </tr>\n",
       "    <tr>\n",
       "      <th>16</th>\n",
       "      <td>1996</td>\n",
       "      <td>1026.076923</td>\n",
       "    </tr>\n",
       "    <tr>\n",
       "      <th>17</th>\n",
       "      <td>1997</td>\n",
       "      <td>989.153846</td>\n",
       "    </tr>\n",
       "    <tr>\n",
       "      <th>18</th>\n",
       "      <td>1998</td>\n",
       "      <td>824.241026</td>\n",
       "    </tr>\n",
       "    <tr>\n",
       "      <th>19</th>\n",
       "      <td>1999</td>\n",
       "      <td>922.143590</td>\n",
       "    </tr>\n",
       "    <tr>\n",
       "      <th>20</th>\n",
       "      <td>2000</td>\n",
       "      <td>1111.343590</td>\n",
       "    </tr>\n",
       "    <tr>\n",
       "      <th>21</th>\n",
       "      <td>2001</td>\n",
       "      <td>1244.323077</td>\n",
       "    </tr>\n",
       "    <tr>\n",
       "      <th>22</th>\n",
       "      <td>2002</td>\n",
       "      <td>1144.158974</td>\n",
       "    </tr>\n",
       "    <tr>\n",
       "      <th>23</th>\n",
       "      <td>2003</td>\n",
       "      <td>1114.343590</td>\n",
       "    </tr>\n",
       "    <tr>\n",
       "      <th>24</th>\n",
       "      <td>2004</td>\n",
       "      <td>1190.169231</td>\n",
       "    </tr>\n",
       "    <tr>\n",
       "      <th>25</th>\n",
       "      <td>2005</td>\n",
       "      <td>1320.292308</td>\n",
       "    </tr>\n",
       "    <tr>\n",
       "      <th>26</th>\n",
       "      <td>2006</td>\n",
       "      <td>1266.958974</td>\n",
       "    </tr>\n",
       "    <tr>\n",
       "      <th>27</th>\n",
       "      <td>2007</td>\n",
       "      <td>1191.820513</td>\n",
       "    </tr>\n",
       "    <tr>\n",
       "      <th>28</th>\n",
       "      <td>2008</td>\n",
       "      <td>1246.394872</td>\n",
       "    </tr>\n",
       "    <tr>\n",
       "      <th>29</th>\n",
       "      <td>2009</td>\n",
       "      <td>1275.733333</td>\n",
       "    </tr>\n",
       "    <tr>\n",
       "      <th>30</th>\n",
       "      <td>2010</td>\n",
       "      <td>1420.287179</td>\n",
       "    </tr>\n",
       "    <tr>\n",
       "      <th>31</th>\n",
       "      <td>2011</td>\n",
       "      <td>1262.533333</td>\n",
       "    </tr>\n",
       "    <tr>\n",
       "      <th>32</th>\n",
       "      <td>2012</td>\n",
       "      <td>1313.958974</td>\n",
       "    </tr>\n",
       "    <tr>\n",
       "      <th>33</th>\n",
       "      <td>2013</td>\n",
       "      <td>1320.702564</td>\n",
       "    </tr>\n",
       "  </tbody>\n",
       "</table>\n",
       "</div>"
      ],
      "text/plain": [
       "    year    rata-rata\n",
       "0   1980   508.394872\n",
       "1   1981   566.989744\n",
       "2   1982   534.723077\n",
       "3   1983   387.435897\n",
       "4   1984   376.497436\n",
       "5   1985   358.861538\n",
       "6   1986   441.271795\n",
       "7   1987   691.133333\n",
       "8   1988   714.389744\n",
       "9   1989   843.241026\n",
       "10  1990   964.379487\n",
       "11  1991  1064.148718\n",
       "12  1992  1136.856410\n",
       "13  1993  1138.712821\n",
       "14  1994   993.153846\n",
       "15  1995   962.625641\n",
       "16  1996  1026.076923\n",
       "17  1997   989.153846\n",
       "18  1998   824.241026\n",
       "19  1999   922.143590\n",
       "20  2000  1111.343590\n",
       "21  2001  1244.323077\n",
       "22  2002  1144.158974\n",
       "23  2003  1114.343590\n",
       "24  2004  1190.169231\n",
       "25  2005  1320.292308\n",
       "26  2006  1266.958974\n",
       "27  2007  1191.820513\n",
       "28  2008  1246.394872\n",
       "29  2009  1275.733333\n",
       "30  2010  1420.287179\n",
       "31  2011  1262.533333\n",
       "32  2012  1313.958974\n",
       "33  2013  1320.702564"
      ]
     },
     "execution_count": 23,
     "metadata": {},
     "output_type": "execute_result"
    }
   ],
   "source": [
    "df_year['rata-rata'] = df_year['total'] / (df_year.shape[1] - 1)\n",
    "df_mean = df_year['rata-rata'].reset_index(level=0)\n",
    "df_mean"
   ]
  },
  {
   "cell_type": "code",
   "execution_count": null,
   "metadata": {
    "cell_id": "f5a6c0274f0746f79fed703416beaee7",
    "deepnote_cell_height": 736.125,
    "deepnote_cell_type": "code",
    "deepnote_output_heights": [
     405.125
    ],
    "deepnote_to_be_reexecuted": false,
    "execution_millis": 202,
    "execution_start": 1650597134997,
    "source_hash": "973c1b1c",
    "tags": []
   },
   "outputs": [
    {
     "data": {
      "image/png": "[encoded data removed]",
      "text/plain": [
       "<Figure size 864x504 with 1 Axes>"
      ]
     },
     "metadata": {
      "image/png": {
       "height": 441,
       "width": 730
      },
      "needs_background": "light"
     },
     "output_type": "display_data"
    }
   ],
   "source": [
    "# plotting scatter\n",
    "df_mean.plot(kind='scatter', figsize=(12, 7), x='year', y='rata-rata', color='green')\n",
    "\n",
    "# mendapatkan m (slope) and b(intercept) dari garis regresi linear\n",
    "m, b = np.polyfit(df_mean['year'], df_mean['rata-rata'], 1)\n",
    "\n",
    "# plotting warna\n",
    "plt.plot(df_mean['year'], m*df_mean['year']+b, color='orange')\n",
    "\n",
    "plt.title(\"Rata-rata imigran tiap tahunnya (1980 - 2013)\")\n",
    "plt.ylabel(\"Rata-rata Imigran\")\n",
    "plt.xlabel(\"Tahun\")\n",
    "\n",
    "plt.show()"
   ]
  },
  {
   "cell_type": "markdown",
   "metadata": {
    "cell_id": "43b6e21bb26c465cbb45f0738690e9e4",
    "deepnote_cell_height": 402.53125,
    "deepnote_cell_type": "markdown",
    "tags": []
   },
   "source": [
    "**--> Penjelasan**\n",
    "\n",
    "Pada studi kasus ini, akan ditampilkan sebuah Scatter Plot untuk menunjukkan persebaran dari rata-rata tahunan imigrasi penduduk dari berbagai negara ke Kanada. Data untuk visualisasi didapatkan melalui preprocessing lanjutan berupa mengambil kolom tahun 1980 - 2013. Kolom tersebut kemudian dirata-rata setiap tahunnya dan divisualisasikan. Tidak sampai disitu, hasil Scatter Plot kemudian ditambahkan dengan garis regresi yang mewakili setiap titik pada visualisasi. Garis ini dibutuhkan untuk memberikan highlight atau menyorot informasi yang dapat diambil dari visualisasi.\n",
    "\n",
    "Scatter Plot merupakan visualisasi yang digunakan untuk menunjukkan kekuatan, arah, dan bentuk hubungan dari dua variabel kuantitatif. Pada kasus ini, dua variabel tersebut ialah tahun dan rata-rata setiap tahun. Pada visualisasi di atas, dapat diamati bahwa:\n",
    "\n",
    "1. Rata-rata tahunan imigran tiap tahunnya cenderung naik.\n",
    "2. Tahun dan rata-rata imigran memiliki berkorelasi positif, sehingga seiring berjalannya waktu (tahun) maka rata-rata imigran juga akan semakin meningkat. Hal ini dibuktikan dengan garis regresi yang naik ke atas."
   ]
  },
  {
   "cell_type": "markdown",
   "metadata": {
    "cell_id": "00045-2b4f1eec-7dd8-4ffe-a531-6b0f3cb4dd04",
    "deepnote_cell_height": 63,
    "deepnote_cell_type": "markdown",
    "owner_user_id": "81c9721c-174d-4cac-8d79-a1da4d5fe2b8"
   },
   "source": [
    "***\n",
    "\n",
    "<center><h3>SELESAI</h3></center>"
   ]
  },
  {
   "cell_type": "markdown",
   "metadata": {
    "created_in_deepnote_cell": true,
    "deepnote_cell_type": "markdown",
    "tags": []
   },
   "source": [
    "<a style='text-decoration:none;line-height:16px;display:flex;color:#5B5B62;padding:10px;justify-content:end;' href='https://deepnote.com?utm_source=created-in-deepnote-cell&projectId=2dde367c-bfe6-49eb-b791-d5c19f996f91' target=\"_blank\">\n",
    "<img alt='Created in deepnote.com' style='display:inline;max-height:16px;margin:0px;margin-right:7.5px;' src='data:image/svg+xml;base64,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' > </img>\n",
    "Created in <span style='font-weight:600;margin-left:4px;'>Deepnote</span></a>"
   ]
  }
 ],
 "metadata": {
  "deepnote": {},
  "deepnote_execution_queue": [],
  "deepnote_notebook_id": "91ba1d77-65b3-4234-b31d-00a5eb872918",
  "kernelspec": {
   "display_name": "Python 3 (ipykernel)",
   "language": "python",
   "name": "python3"
  },
  "language_info": {
   "codemirror_mode": {
    "name": "ipython",
    "version": 3
   },
   "file_extension": ".py",
   "mimetype": "text/x-python",
   "name": "python",
   "nbconvert_exporter": "python",
   "pygments_lexer": "ipython3",
   "version": "3.11.3"
  }
 },
 "nbformat": 4,
 "nbformat_minor": 4
}
